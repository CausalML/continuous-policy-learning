{
 "cells": [
  {
   "cell_type": "code",
   "execution_count": 9,
   "metadata": {
    "collapsed": false
   },
   "outputs": [
    {
     "name": "stdout",
     "output_type": "stream",
     "text": [
      "3964\n"
     ]
    }
   ],
   "source": [
    "%matplotlib inline\n",
    "import matplotlib.pyplot as plt\n",
    "from off_pol_eval_functions import * \n",
    "import sys\n",
    "import numpy as np\n",
    "import scipy\n",
    "import scipy.stats\n",
    "from scipy.spatial.distance import cdist\n",
    "import csv\n",
    "from sklearn import tree\n",
    "from sklearn import linear_model, neighbors, ensemble, tree\n",
    "\n",
    "from warfarin_functions import * \n",
    "\n",
    "ntrs = np.arange(100,2501,100)\n",
    "runsper = 4\n",
    "runsperper = 25\n",
    "params = [ntr for ntr in ntrs for run in range(runsper)]\n",
    "\n",
    "myid = 0#int(sys.argv[1])\n",
    "# np.random.seed(myid)\n",
    "ntr = 1000#params[myid-1]\n",
    "\n",
    "f = open('warfrin.csv','rU')\n",
    "csvr = csv.reader(f, dialect=csv.excel)\n",
    "header = np.array(csvr.next())\n",
    "data   = list(csvr)\n",
    "f.close()\n",
    "\n",
    "# filter only to subjects that reached stable dose of warfarin\n",
    "# and stable observed INR\n",
    "data = [x for x in data if x[37]=='1' and x[38]!='NA' and x[39]!='NA']\n",
    "\n",
    "agegroups = sorted(set(x[8].replace('NA','') for x in data))\n",
    "\n",
    "xmap = lambda x: \\\n",
    "[\n",
    "    # gender 0\n",
    "    ('Male?',x[3]=='male'),\n",
    "    # race 1:4\n",
    "    ('White?',x[5]=='White'),\n",
    "    ('Asian?',x[5]=='Asian'),\n",
    "    ('Black?',x[5]=='Black or African American'),\n",
    "    # ethnicity 4\n",
    "    ('Non-hispanic?',x[7]=='not Hispanic or Latino'),\n",
    "    # age 5:7\n",
    "    ('Age group',agegroups.index(x[8]) if x[8] in agegroups else 0),\n",
    "    ('No age?',x[8] not in agegroups or agegroups.index(x[8]) == 0),\n",
    "    # height 7\n",
    "    ('Height',float(x[9]) if x[9] not in ('NA', '') else 0.),\n",
    "        # x[9] in ('NA', ''), # NA indicator\n",
    "    # weight 8\n",
    "    ('Weight',float(x[10]) if x[10] not in ('NA', '') else 0.),\n",
    "        # x[10] in ('NA', ''), # NA indicator\n",
    "    # BMI\n",
    "    ('BMI',float(x[10])*100.*100./float(x[9])/float(x[9]) if x[10] not in ('NA', '') and x[9] not in ('NA', '') else 0.),\n",
    "] + [# Indication for Warfarin Treatment 9:17\n",
    "    ('Indication for Warfarin Treatment: '+str(i), str(i) in x[11])\n",
    "    for i in range(1,9)\n",
    "# ] + [# comorbidities\n",
    "#     c in (y.strip() for y in x[12].lower().split('; '))\n",
    "#     for c in comorbidities\n",
    "] + [# diabetes 17:19\n",
    "    ('Diabetes=0?',x[13]=='0'),\n",
    "    ('Diabetes=1?',x[13]=='1'),\n",
    "] + [#Congestive Heart Failure and/or Cardiomyopathy 19:21\n",
    "    ('Congestive Heart Failure and/or Cardiomyopathy=0?',x[14]=='0'),\n",
    "    ('Congestive Heart Failure and/or Cardiomyopathy=1?',x[14]=='1'),\n",
    "] + [#Valve Replacement 21:23\n",
    "    ('Valve Replacement=0?',x[15]=='0'),\n",
    "    ('Valve Replacement=1?',x[15]=='1'),\n",
    "# ] + [# medications\n",
    "#   x[16]\n",
    "] + [\n",
    "    # Aspirin 24:26\n",
    "    ('aspirin=0?',x[17]=='0'),\n",
    "    ('aspirin=1?',x[17]=='1'),\n",
    "    # Acetaminophen or Paracetamol (Tylenol) 26:28\n",
    "    ('Acetaminophen=0?',x[18]=='0'),\n",
    "    ('Acetaminophen=1?',x[18]=='1'),\n",
    "    # Was Dose of Acetaminophen or Paracetamol (Tylenol) >1300mg/day 28:30\n",
    "    ('Acetaminophen hi dose=0?',x[19]=='0'),\n",
    "    ('Acetaminophen hi dose=1?',x[19]=='1'),\n",
    "    # Simvastatin (Zocor) 30:32\n",
    "    ('Simvastatin=0?',x[20]=='0'),\n",
    "    ('Simvastatin=1?',x[20]=='1'),\n",
    "    # Atorvastatin (Lipitor) 32:34\n",
    "    ('Simvastatin=0?',x[21]=='0'),\n",
    "    ('Simvastatin=1?',x[21]=='1'),\n",
    "    # Fluvastatin (Lescol) 34:36\n",
    "    ('Fluvastatin=0?',x[22]=='0'),\n",
    "    ('Fluvastatin=1?',x[22]=='1'),\n",
    "    # Lovastatin (Mevacor) 36:38\n",
    "    ('Lovastatin=0?',x[23]=='0'),\n",
    "    ('Lovastatin=1?',x[23]=='1'),\n",
    "    # Pravastatin (Pravachol) 38:40\n",
    "    ('Pravastatin=0?',x[24]=='0'),\n",
    "    ('Pravastatin=1?',x[24]=='1'),\n",
    "    # Rosuvastatin (Crestor) 40:42\n",
    "    ('Rosuvastatin=0?',x[25]=='0'),\n",
    "    ('Rosuvastatin=1?',x[25]=='1'),\n",
    "    # Cerivastatin (Baycol) 42:43\n",
    "    ('Cerivastatin=0?',x[26]=='0'),\n",
    "    ('Cerivastatin=1?',x[26]=='1'),\n",
    "    # Amiodarone (Cordarone)\n",
    "    ('Amiodarone=0?',x[27]=='0'),\n",
    "    ('Amiodarone=1?',x[27]=='1'),\n",
    "    # Carbamazepine (Tegretol)\n",
    "    ('Carbamazepine=0?',x[28]=='0'),\n",
    "    ('Carbamazepine=1?',x[28]=='1'),\n",
    "    # Phenytoin (Dilantin)\n",
    "    ('Phenytoin=0?',x[29]=='0'),\n",
    "    ('Phenytoin=1?',x[29]=='1'),\n",
    "    # Rifampin or Rifampicin\n",
    "    ('Rifampin=0?',x[30]=='0'),\n",
    "    ('Rifampin=1?',x[30]=='1'),\n",
    "    # Sulfonamide Antibiotics\n",
    "    ('Sulfonamide Antibiotics=0?',x[31]=='0'),\n",
    "    ('Sulfonamide Antibiotics=1?',x[31]=='1'),\n",
    "    # Macrolide Antibiotics\n",
    "    ('Macrolide Antibiotics=0?',x[32]=='0'),\n",
    "    ('Macrolide Antibiotics=1?',x[32]=='1'),\n",
    "    # Anti-fungal Azoles\n",
    "    ('Anti-fungal Azoles=0?',x[33]=='0'),\n",
    "    ('Anti-fungal Azoles=1?',x[33]=='1'),\n",
    "    # Herbal Medications, Vitamins, Supplements\n",
    "    ('Herbal Medications, Vitamins, Supplements=0?',x[34]=='0'),\n",
    "    ('Herbal Medications, Vitamins, Supplements=1?',x[34]=='1'),\n",
    "] + [\n",
    "    #smoker\n",
    "    ('Smoker=0?',x[40]=='0'),\n",
    "    ('Smoker=0?',x[40]=='1'),\n",
    "] + [\n",
    "    # CYP2C9 consensus\n",
    "    ('CYP2C9 *1/*1',x[59]=='*1/*1'),\n",
    "    ('CYP2C9 *1/*2',x[59]=='*1/*2'),\n",
    "    ('CYP2C9 *1/*3',x[59]=='*1/*3'),\n",
    "    ('CYP2C9 NA',x[59]=='' or x[59]=='NA'),\n",
    "    # VKORC1 -1639 consensus\n",
    "    ('VKORC1 -1639 A/A',x[60]=='A/A'),\n",
    "    ('VKORC1 -1639 A/G',x[60]=='A/G'),\n",
    "    ('VKORC1 -1639 G/G',x[60]=='G/G'),\n",
    "    # VKORC1 497 consensus\n",
    "    ('VKORC1 497 T/T',x[61]=='T/T'),\n",
    "    ('VKORC1 497 G/T',x[61]=='G/T'),\n",
    "    ('VKORC1 497 G/G',x[61]=='G/G'),\n",
    "    # VKORC1 1173 consensus\n",
    "    ('VKORC1 1173 T/T',x[62]=='T/T'),\n",
    "    ('VKORC1 1173 C/T',x[62]=='C/T'),\n",
    "    ('VKORC1 1173 C/C',x[62]=='C/C'),\n",
    "    # VKORC1 1542 consensus\n",
    "    ('VKORC1 1542 C/C',x[63]=='C/C'),\n",
    "    ('VKORC1 1542 C/G',x[63]=='C/G'),\n",
    "    ('VKORC1 1542 G/G',x[63]=='G/G'),\n",
    "    # VKORC1 3730 consensus\n",
    "    ('VKORC1 3730 A/A',x[64]=='A/A'),\n",
    "    ('VKORC1 3730 A/G',x[64]=='A/G'),\n",
    "    ('VKORC1 3730 G/G',x[64]=='G/G'),\n",
    "    # VKORC1 2255 consensus\n",
    "    ('VKORC1 2255 C/C',x[65]=='C/C'),\n",
    "    ('VKORC1 2255 C/T',x[65]=='C/T'),\n",
    "    ('VKORC1 2255 T/T',x[65]=='T/T'),\n",
    "    # VKORC1 -4451 consensus\n",
    "    ('VKORC1 -4451 C/C',x[66]=='C/C'),\n",
    "    ('VKORC1 -4451 A/C',x[66]=='A/C'),\n",
    "    ('VKORC1 -4451 A/A',x[66]=='A/A')\n",
    "#     ,\n",
    "#     ('Therapeutic Dose',float(x[38]) if x[38] not in ('NA', '') else 0.),\n",
    "#     ('INR On Therapeutic Dose',float(x[39]) if x[39] not in ('NA', '') else 0.),\n",
    "#     ('Target INR', float(x[35]) if x[35] not in ('NA', '') else 0. )\n",
    "]\n",
    "\n",
    "X       = np.array([zip(*xmap(x))[1] for x in data])\n",
    "Xnames  = np.array(zip(*xmap(data[0]))[0])\n",
    "goodidx = np.where( (X.std(0)>=.05)  )[0] #np.sort(np.hstack((np.where(X.std(0)>=.05)[0],np.where(Xnames=='BMI')[0])))\n",
    "X       = X[:,goodidx]\n",
    "Xnames  = Xnames[goodidx]\n",
    "# filter out by where BMI is nonzero \n",
    "goodbmi = np.where( (X[:,9] > 0.003) )[0]\n",
    "X       = X[goodbmi,:]\n",
    "# ytarget = np.array([float(x[38]) for x in data])/7.\n",
    "\n",
    "target_INR = np.array([float(x[35]) if x[35] not in ('NA', '') else 0. for x in data])\n",
    "therapeut_dose = np.array([float(x[38]) if x[38] not in ('NA', '') else 0. for x in data])\n",
    "obs_INR = np.array([float(x[39]) if x[39] not in ('NA', '') else 0. for x in data])\n",
    "\n",
    "target_INR = target_INR[goodbmi]; therapeut_dose = therapeut_dose[goodbmi]; obs_INR = obs_INR[goodbmi]\n",
    "\n",
    "n = X.shape[0]\n",
    "print n"
   ]
  },
  {
   "cell_type": "markdown",
   "metadata": {},
   "source": [
    "International Normalised Ratio (INR) testing is well established as an integral part of warfarin treatment. INR has a critical role in maintaining the warfarin response within a therapeutic range, to provide the benefits of anticoagulation, while avoiding the risks of haemorrhage (Figure 1).\n",
    "\n",
    "The INR is defined as\n",
    "\n",
    "$$ INR =\\left( \\frac{\\text{Patient Prothrombin Time (sec)}}{\\text{Local Geometric Mean Prothrombin Time (sec)}}\\right)^{ISI} $$\n",
    "\n",
    "http://www.bpac.org.nz/BT/2010/November/inr.aspx\n",
    "\n",
    "In most situations the INR target is 2.5 (target range 2.0 – 3.0). This range is appropriate for the prophylaxis or treatment of venous thromboembolism and reduction of the risk of systemic embolism for people with atrial fibrillation and valvular heart disease.5 In some situations higher ranges are more appropriate. The target INR may vary depending on individual clinical situations. The target INR for mechanical prosthetic valves is dependent on the type of valve replacement used.6\n",
    "\n"
   ]
  },
  {
   "cell_type": "markdown",
   "metadata": {},
   "source": [
    "### Semi-simulated dosages\n",
    "\n",
    "We can generate semi-simulated dosages from the true therapeutic dose by modeling dosage as a function of BMI and perturbing with some noise via a mixture model: \n",
    "\n",
    "$$T_i' = \\mu_{T^*} + \\sigma_{T^*} \\sqrt{\\theta} \\frac{x_{BMI}- \\mu_{BMI}}{\\sigma_{BMI}} + \\sqrt{(1 - \\theta)} \\sigma_{T^*} \\epsilon$$\n",
    "\n",
    "Suppose that the counterfactual outcome is given by a quadratic penalty to the INR outcome of the observed therapeutic dose: \n",
    "\n",
    "$$y_i' = y_i^* + \\frac{(T_i' - T_i)^2sgn(T_i' - T_i)}{max(T_i^2, T_i'^2)}$$\n",
    "\n",
    "This model also yields the propensity score for assigning the counterfactual dose. \n",
    "### Propensity score given our treatment generation model from BMI : \n",
    "   \n",
    "where $\\epsilon \\sim N(0,1)$ and $Z_{BMI} = \\frac{x_{BMI} - \\mu_{BMI}}{\\sigma_{BMI}}$\n",
    "\n",
    "$$ \\mathbb{P}[T_i'=t \\mid x_{bmi} ] = \\mathbb{P}\\left[\\epsilon = \\frac{t - \\mu_T^* - \\sigma_T^* \\sqrt{\\theta}Z_{BMI}}{\\sqrt{1 - \\theta}} \\right]$$\n",
    "\n",
    "\n",
    "### Dosing policy evaluation and optimization \n",
    "\n",
    "In any observational dataset, we will not have access to the full counterfactual distribution of outcomes. Previous analysis of the Warfarin dataset has focused on predicting being in a discrete bin of the \"correct\" therapeutic dose, e.g. Hamsa Bastani, Bertsimas/Kallus introducing 0-1 loss for being in the same bin. Other work (Chen, Zeng, Kosorok) look at a direct model of the outcome and directly penalize \n",
    "\n",
    "We leverage the rich previous study of the impacts of warfarin dosing, treating these models and analyses as \"oracle information\" we use to simulate realistic outcome data. We consider previous studies analyzing the effect that different INR levels have on the odds ratios for complications including ischemic stroke and hemorrhagic complications. The intensity of anticoagulation induced by warfarin therapy trades off between decreased stroke prevention at low levels of INR (less effective anticoagulation), and increased risk of intracranial bleeding in over-anticoagulation regimes. Various factors such as patient age and pre-existing health conditions (previous stroke) affect patient risk in ways that have been previously studied, but we do not directly account for in this simulated study.\n",
    "\n",
    "Proposed model: \n",
    "\n",
    "* Generate simulated doses as $T_i' = \\mu_{T^*} + \\sigma_{T^*} \\sqrt{\\theta} \\frac{x_{BMI}- \\mu_{BMI}}{\\sigma_{BMI}} + \\sqrt{(1 - \\theta)} \\sigma_{T^*} \\epsilon$\n",
    "* Simulate INR response to dose adjustment (inversion of dosage guidelines) <https://depts.washington.edu/anticoag/home/content/warfarin-maintenance-dosing-nomogram>: $\\hat{y}(T_i')$\n",
    "* Compute expected risk as a function of how the odds ratio is affected by INR [ACC/AHA/ESC 2006 guidelines for the management of patients with atrial fibrillation](https://academic.oup.com/europace/article/8/9/651/530495/ACC-AHA-ESC-2006-guidelines-for-the-management-of): $R(\\hat{y}(T_i')$\n",
    "* Compare $R(\\hat{y}(\\tau(X_i))$ across policies $\\tau$\n",
    "\n",
    "\n",
    "Optimization Question: \n",
    "\n",
    "If one generates a dataset of simulated dose adjustments and INR responses in this fashion, can you recover the therapeutic dose (or an optimal linear treatment policy which is similar) if you do off-policy optimization? What kind of treatment policy does the optimization return? \n"
   ]
  },
  {
   "cell_type": "code",
   "execution_count": 8,
   "metadata": {
    "collapsed": false
   },
   "outputs": [
    {
     "data": {
      "text/plain": [
       "5"
      ]
     },
     "execution_count": 8,
     "metadata": {},
     "output_type": "execute_result"
    }
   ],
   "source": [
    "5"
   ]
  },
  {
   "cell_type": "code",
   "execution_count": 10,
   "metadata": {
    "collapsed": false
   },
   "outputs": [
    {
     "name": "stdout",
     "output_type": "stream",
     "text": [
      "16.9843047536\n",
      "17.2106872797\n",
      "[  0.          37.3536892   15.98231102 ...,  41.29424242  35.91736714\n",
      "   5.91272953]\n"
     ]
    },
    {
     "data": {
      "image/png": "[encoded data removed]",
      "text/plain": [
       "<matplotlib.figure.Figure at 0x1efa9630>"
      ]
     },
     "metadata": {},
     "output_type": "display_data"
    }
   ],
   "source": [
    "# Global values \n",
    "mu_dose = np.mean(therapeut_dose)\n",
    "std_dose = np.std(therapeut_dose)\n",
    "mu_bmi = np.mean(X[:,9])\n",
    "std_bmi = np.std(X[:,9])\n",
    "\n",
    "# regr = linear_model.LinearRegression()\n",
    "# regr.fit(X[:,9].reshape([n,1]), therapeut_dose.reshape([n,1]))\n",
    "\n",
    "theta = 0.5\n",
    "eps = np.random.normal(size=n)\n",
    "\n",
    "# eps = np.random.randn(n)\n",
    "bmi_Z = (X[:,9] - mu_bmi)/std_bmi\n",
    "\n",
    "# fit on centered model\n",
    "regr = linear_model.LinearRegression(fit_intercept = False)\n",
    "regr.fit(bmi_Z.reshape([n,1]), therapeut_dose.reshape([n,1]))\n",
    "\n",
    "\n",
    "sim_dose = mu_dose  + (np.sqrt(theta)*bmi_Z*std_dose + np.sqrt(1-theta)*std_dose*eps) \n",
    "sim_dose[sim_dose < 0 ] = - sim_dose[sim_dose < 0 ] \n",
    "print np.std(sim_dose)\n",
    "print std_dose \n",
    "\n",
    "plt.hist(therapeut_dose[therapeut_dose<150],alpha=0.5,color='g',label= 'true_dose', normed=True)\n",
    "plt.hist(sim_dose,alpha = 0.5, label = \"simulated dosage\", normed=True)\n",
    "plt.legend()\n",
    "\n",
    "y_counter = np.asarray(simulated_loss(sim_dose, therapeut_dose, obs_INR))\n",
    "print y_counter\n",
    "\n"
   ]
  },
  {
   "cell_type": "markdown",
   "metadata": {},
   "source": [
    "## Propensity score given our treatment generation model from BMI : \n",
    "   \n",
    "where $\\epsilon \\sim N(0,1)$ and $Z_{BMI} = \\frac{x_{BMI} - \\mu_{BMI}}{\\sigma_{BMI}}$\n",
    "\n",
    "$$ \\mathbb{P}[T_i'=t \\mid x_{bmi} ] = \\mathbb{P}\\left[\\epsilon = \\frac{t - \\mu_T^* - \\sigma_T^* \\sqrt{\\theta}Z_{BMI}}{\\sqrt{1 - \\theta}} \\right]$$"
   ]
  },
  {
   "cell_type": "code",
   "execution_count": 11,
   "metadata": {
    "collapsed": false
   },
   "outputs": [
    {
     "name": "stdout",
     "output_type": "stream",
     "text": [
      "8.56986448726e-07\n",
      "2.33967519703\n"
     ]
    }
   ],
   "source": [
    "# Add to param dictionary: \n",
    "# therapeutic dose (\"oracle values\") \n",
    "# observed INR  (\"oracle values\")\n",
    "#! FIXME will require global access to therapeutic doses/ \n",
    "def generated_Q(bmi, T, theta, NULL): \n",
    "    # centeredaround mu_dose with scale stddev of dose\n",
    "    theta = 0.5\n",
    "    Z_bmi = (bmi-mu_bmi)/std_bmi\n",
    "    return norm.pdf( T, loc = mu_dose + std_dose*np.sqrt(theta)*Z_bmi, scale = np.sqrt(1-theta) )\n",
    "\n",
    "print generated_Q(30,40,0.9,std_dose)\n",
    "\n",
    "d = 1\n",
    "t_lo =0\n",
    "t_hi = max(therapeut_dose)\n",
    "data = { 'n': n, 'y': obs_INR,'Q': generated_Q, 'x': X[:,9],'x_samp':X[:,9],  'd': d, 'T': therapeut_dose,'t_lo': t_lo ,'t_hi': t_hi  }\n",
    "data['tau'] = sim_dose\n",
    "data['h'] = 3; data['n_bins'] = 10\n",
    "data['kernel_int_func'] = epanechnikov_int\n",
    "data['kernel_func'] = epanechnikov_kernel\n",
    "data['oracle_func'] = counterfactual_y_eval\n",
    "data['threshold'] = 0.01 \n",
    "# print np.mean(counterfactual_y_eval(**data))\n",
    "\n",
    "print off_policy_evaluation(**data)\n"
   ]
  },
  {
   "cell_type": "code",
   "execution_count": 12,
   "metadata": {
    "collapsed": false
   },
   "outputs": [
    {
     "name": "stdout",
     "output_type": "stream",
     "text": [
      "23.659662705\n"
     ]
    }
   ],
   "source": [
    "'''\n",
    "Systematically evaluate over a treatment space defined by a linear treatment policy\n",
    "'''\n",
    "n_trials = 10\n",
    "n_treatments = 10\n",
    "t_lo = 0 ; t_hi = max(therapeut_dose) \n",
    "print t_hi / np.min(X[:,9])\n",
    "beta_space = np.linspace(0.5,2, n_treatments)\n",
    "off_pol_evals = np.zeros(n_treatments)\n",
    "oracle_evals = np.zeros(n_treatments)\n",
    "discrete_off_pol_evals = np.zeros(n_treatments)\n",
    "\n",
    "def simulated_loss(sim_dose, therapeut_dose, obs_INR):\n",
    "    \n",
    "    return (np.abs(therapeut_dose - sim_dose))+ np.random.normal()*0.1*mu_dose\n",
    "\n",
    "\n",
    "data['y'] = simulated_loss(sim_dose, therapeut_dose, obs_INR)\n",
    "data['y_samp'] = simulated_loss(sim_dose, therapeut_dose, obs_INR)\n",
    "data['T_samp'] = sim_dose \n",
    "\n",
    "# for beta_ind, beta in enumerate(beta_space):\n",
    "#     tau = np.clip(beta*data['x'] , t_lo, t_hi).flatten()\n",
    "#     data['tau'] = tau\n",
    "#     oracle_evals[beta_ind] = np.mean(simulated_loss(tau, therapeut_dose, obs_INR))\n",
    "#     off_pol_evals[beta_ind] = off_policy_evaluation(**data)\n",
    "#     discrete_off_pol_evals[beta_ind] = off_pol_disc_evaluation(discretize_tau_policy , **data)\n",
    "\n"
   ]
  },
  {
   "cell_type": "code",
   "execution_count": 9,
   "metadata": {
    "collapsed": false
   },
   "outputs": [
    {
     "data": {
      "text/plain": [
       "<matplotlib.collections.PathCollection at 0x1d86e9e8>"
      ]
     },
     "execution_count": 9,
     "metadata": {},
     "output_type": "execute_result"
    },
    {
     "data": {
      "image/png": "[encoded data removed]",
      "text/plain": [
       "<matplotlib.figure.Figure at 0x1d242828>"
      ]
     },
     "metadata": {},
     "output_type": "display_data"
    }
   ],
   "source": [
    "plt.scatter(beta_space, oracle_evals,color='b')\n",
    "plt.scatter(beta_space, off_pol_evals,color='g')"
   ]
  },
  {
   "cell_type": "markdown",
   "metadata": {},
   "source": [
    "## Train a more sophisticated model with more covariates"
   ]
  },
  {
   "cell_type": "code",
   "execution_count": 13,
   "metadata": {
    "collapsed": false
   },
   "outputs": [
    {
     "name": "stderr",
     "output_type": "stream",
     "text": [
      "C:\\Users\\paint_000\\Anaconda\\lib\\site-packages\\ipykernel\\__main__.py:7: DeprecationWarning: using a non-integer number instead of an integer will result in an error in the future\n"
     ]
    }
   ],
   "source": [
    "train_var = [5,9]+range(18,40)\n",
    "subframe = X[:,[5,9]+range(18,40)]\n",
    "subXnames = Xnames[[5,9]+range(18,40)]\n",
    "# subframe = X \n",
    "# subXnames = Xnames\n",
    "d = subframe.shape[1]\n",
    "trainind = np.random.choice(range(n),size =  round(0.8*n),replace = False)\n",
    "train = subframe[trainind]\n",
    "test_mask = np.ones(n, dtype=bool)\n",
    "test_mask[trainind] = False\n",
    "test = subframe[test_mask,:]\n",
    "\n",
    "y = simulated_loss(sim_dose[trainind], therapeut_dose[trainind], obs_INR[trainind])\n",
    "def generated_Q_multid_X(x,t,t_lo,t_hi): \n",
    "    return generated_Q(x,t,t_lo,t_hi)\n"
   ]
  },
  {
   "cell_type": "markdown",
   "metadata": {
    "collapsed": false
   },
   "source": [
    "## Load full dataframe"
   ]
  },
  {
   "cell_type": "code",
   "execution_count": 14,
   "metadata": {
    "collapsed": true
   },
   "outputs": [],
   "source": [
    "y = simulated_loss(sim_dose[trainind], therapeut_dose[trainind], obs_INR[trainind])\n",
    "h=4\n",
    "d = X.shape[1]\n",
    "train_data = { 'n': train.shape[0],'h': h, 'y': obs_INR,'Q': generated_Q_multid_X,'x_full': X, 'x': X,'x_samp': X[trainind,:],  'd': d, 'T': therapeut_dose[trainind],'t_lo': t_lo ,'t_hi': t_hi  }\n",
    "train_data['kernel_int_func'] = epanechnikov_int\n",
    "train_data['T_samp'] = np.array(sim_dose[trainind],order='F'); train_data['y_samp'] = np.array(simulated_loss(sim_dose[trainind], therapeut_dose[trainind], obs_INR[trainind]),order='F')\n",
    "train_data['kernel_func'] = epanechnikov_kernel\n",
    "train_data['DATA_TYPE'] = 'warfarin'\n",
    "train_data['BMI_IND'] = 9\n",
    "train_data['inds'] = trainind\n",
    "train_data['threshold'] = 0.01\n",
    "\n",
    "bounds = [(0, np.mean(therapeut_dose)/np.mean(X[:,i])) for i in range(d) ]\n",
    "bnds = tuple(tuple(x) for x in bounds)"
   ]
  },
  {
   "cell_type": "markdown",
   "metadata": {},
   "source": [
    "### load subframe data (temporary)"
   ]
  },
  {
   "cell_type": "code",
   "execution_count": 1,
   "metadata": {
    "collapsed": false
   },
   "outputs": [
    {
     "ename": "NameError",
     "evalue": "name 'simulated_loss' is not defined",
     "output_type": "error",
     "traceback": [
      "\u001b[0;31m---------------------------------------------------------------------------\u001b[0m",
      "\u001b[0;31mNameError\u001b[0m                                 Traceback (most recent call last)",
      "\u001b[0;32m<ipython-input-1-8226e06ea673>\u001b[0m in \u001b[0;36m<module>\u001b[0;34m()\u001b[0m\n\u001b[1;32m      1\u001b[0m \u001b[1;33m\u001b[0m\u001b[0m\n\u001b[0;32m----> 2\u001b[0;31m \u001b[0my\u001b[0m \u001b[1;33m=\u001b[0m \u001b[0msimulated_loss\u001b[0m\u001b[1;33m(\u001b[0m\u001b[0msim_dose\u001b[0m\u001b[1;33m[\u001b[0m\u001b[0mtrainind\u001b[0m\u001b[1;33m]\u001b[0m\u001b[1;33m,\u001b[0m \u001b[0mtherapeut_dose\u001b[0m\u001b[1;33m[\u001b[0m\u001b[0mtrainind\u001b[0m\u001b[1;33m]\u001b[0m\u001b[1;33m,\u001b[0m \u001b[0mobs_INR\u001b[0m\u001b[1;33m[\u001b[0m\u001b[0mtrainind\u001b[0m\u001b[1;33m]\u001b[0m\u001b[1;33m)\u001b[0m\u001b[1;33m\u001b[0m\u001b[0m\n\u001b[0m\u001b[1;32m      3\u001b[0m \u001b[0md\u001b[0m \u001b[1;33m=\u001b[0m \u001b[0msubframe\u001b[0m\u001b[1;33m.\u001b[0m\u001b[0mshape\u001b[0m\u001b[1;33m[\u001b[0m\u001b[1;36m1\u001b[0m\u001b[1;33m]\u001b[0m\u001b[1;33m\u001b[0m\u001b[0m\n\u001b[1;32m      4\u001b[0m \u001b[0mtrain_data\u001b[0m \u001b[1;33m=\u001b[0m \u001b[1;33m{\u001b[0m \u001b[1;34m'n'\u001b[0m\u001b[1;33m:\u001b[0m \u001b[0mtrain\u001b[0m\u001b[1;33m.\u001b[0m\u001b[0mshape\u001b[0m\u001b[1;33m[\u001b[0m\u001b[1;36m0\u001b[0m\u001b[1;33m]\u001b[0m\u001b[1;33m,\u001b[0m\u001b[1;34m'h'\u001b[0m\u001b[1;33m:\u001b[0m \u001b[1;36m4\u001b[0m\u001b[1;33m,\u001b[0m \u001b[1;34m'y'\u001b[0m\u001b[1;33m:\u001b[0m \u001b[0mobs_INR\u001b[0m\u001b[1;33m,\u001b[0m\u001b[1;34m'Q'\u001b[0m\u001b[1;33m:\u001b[0m \u001b[0mgenerated_Q\u001b[0m\u001b[1;33m,\u001b[0m\u001b[1;34m'x_full'\u001b[0m\u001b[1;33m:\u001b[0m \u001b[0msubframe\u001b[0m\u001b[1;33m,\u001b[0m \u001b[1;34m'x'\u001b[0m\u001b[1;33m:\u001b[0m \u001b[0mnp\u001b[0m\u001b[1;33m.\u001b[0m\u001b[0marray\u001b[0m\u001b[1;33m(\u001b[0m\u001b[0mtrain\u001b[0m\u001b[1;33m,\u001b[0m\u001b[0morder\u001b[0m\u001b[1;33m=\u001b[0m\u001b[1;34m'F'\u001b[0m\u001b[1;33m)\u001b[0m\u001b[1;33m,\u001b[0m\u001b[1;34m'x_samp'\u001b[0m\u001b[1;33m:\u001b[0m \u001b[0mnp\u001b[0m\u001b[1;33m.\u001b[0m\u001b[0marray\u001b[0m\u001b[1;33m(\u001b[0m\u001b[0mtrain\u001b[0m\u001b[1;33m,\u001b[0m\u001b[0morder\u001b[0m\u001b[1;33m=\u001b[0m\u001b[1;34m'F'\u001b[0m\u001b[1;33m)\u001b[0m\u001b[1;33m,\u001b[0m \u001b[1;34m'T_samp'\u001b[0m\u001b[1;33m:\u001b[0m \u001b[0msim_dose\u001b[0m\u001b[1;33m[\u001b[0m\u001b[0mtrainind\u001b[0m\u001b[1;33m]\u001b[0m\u001b[1;33m,\u001b[0m \u001b[1;34m'd'\u001b[0m\u001b[1;33m:\u001b[0m \u001b[0md\u001b[0m\u001b[1;33m,\u001b[0m \u001b[1;34m'T'\u001b[0m\u001b[1;33m:\u001b[0m \u001b[0mtherapeut_dose\u001b[0m\u001b[1;33m[\u001b[0m\u001b[0mtrainind\u001b[0m\u001b[1;33m]\u001b[0m\u001b[1;33m,\u001b[0m\u001b[1;34m't_lo'\u001b[0m\u001b[1;33m:\u001b[0m \u001b[0mt_lo\u001b[0m \u001b[1;33m,\u001b[0m\u001b[1;34m't_hi'\u001b[0m\u001b[1;33m:\u001b[0m \u001b[0mt_hi\u001b[0m  \u001b[1;33m}\u001b[0m\u001b[1;33m\u001b[0m\u001b[0m\n\u001b[1;32m      5\u001b[0m \u001b[0mtrain_data\u001b[0m\u001b[1;33m[\u001b[0m\u001b[1;34m'kernel_int_func'\u001b[0m\u001b[1;33m]\u001b[0m \u001b[1;33m=\u001b[0m \u001b[0mepanechnikov_int\u001b[0m\u001b[1;33m\u001b[0m\u001b[0m\n",
      "\u001b[0;31mNameError\u001b[0m: name 'simulated_loss' is not defined"
     ]
    }
   ],
   "source": [
    "\n",
    "y = simulated_loss(sim_dose[trainind], therapeut_dose[trainind], obs_INR[trainind])\n",
    "d = subframe.shape[1]\n",
    "train_data = { 'n': train.shape[0],'h': 4, 'y': obs_INR,'Q': generated_Q,'x_full': subframe, 'x': np.array(train,order='F'),'x_samp': np.array(train,order='F'), 'T_samp': sim_dose[trainind], 'd': d, 'T': therapeut_dose[trainind],'t_lo': t_lo ,'t_hi': t_hi  }\n",
    "train_data['kernel_int_func'] = epanechnikov_int\n",
    "train_data['T_samp'] = np.array(sim_dose[trainind],order='F'); train_data['y_samp'] = np.array(simulated_loss(sim_dose[trainind], therapeut_dose[trainind], obs_INR[trainind]),order='F')\n",
    "train_data['kernel_func'] = epanechnikov_kernel\n",
    "train_data['DATA_TYPE'] = 'warfarin'\n",
    "train_data['BMI_IND'] = 1\n",
    "train_data['inds'] = trainind\n",
    "train_data['threshold'] = 0.01\n",
    "\n",
    "bounds = [(0, np.mean(therapeut_dose)/np.mean(subframe[:,i])) for i in range(d) ]\n",
    "bnds = tuple(tuple(x) for x in bounds)"
   ]
  },
  {
   "cell_type": "code",
   "execution_count": 23,
   "metadata": {
    "collapsed": true
   },
   "outputs": [],
   "source": [
    "import pickle\n",
    "t_lo = 0 \n",
    "t_hi = max(therapeut_dose)\n",
    "\n",
    "beta_d = np.random.rand(d)\n",
    "h = 10\n",
    "n_train = train.shape[0]\n",
    "# train_data['oracle_func'] = counterfactual_y_eval\n",
    "\n",
    "def pol_eval_wrapper(beta, args): \n",
    "    data = dict(args)\n",
    "    t_lo = data['t_lo']; t_hi = data['t_hi']\n",
    "    tau = np.clip(np.dot(beta, data['x'].T) , t_lo, t_hi).flatten()\n",
    "    data['tau'] = tau\n",
    "    return off_policy_evaluation(**data)\n",
    "\n",
    "def oracle_eval_wrapper(beta, args): \n",
    "    data = dict(args)\n",
    "    t_lo = data['t_lo']; t_hi = data['t_hi']\n",
    "    tau = np.clip(np.dot(beta, data['x'].T) , t_lo, t_hi).flatten()\n",
    "    return np.mean( simulated_loss(tau,therapeut_dose,obs_INR) )\n",
    "\n",
    "# print off_pol_epan_lin_grad(beta_d, train_data)\n",
    "LAMBDA = 0.4\n",
    "def var_regularized_pol_eval_wrapper(beta, args): \n",
    "    data = dict(args)\n",
    "    t_lo = data['t_lo']; t_hi = data['t_hi']\n",
    "    tau = np.clip(np.dot(beta, data['x'].T) , t_lo, t_hi).flatten()\n",
    "    data['tau'] = tau\n",
    "    return off_policy_evaluation(**data) + LAMBDA * np.linalg.norm(beta,2) + LAMBDA * off_policy_variance(**data)\n",
    "\n",
    "def var_regularized_oracle_wrapper(beta, args): \n",
    "    data = dict(args)\n",
    "    t_lo = data['t_lo']; t_hi = data['t_hi']\n",
    "    tau = np.clip(np.dot(beta, data['x'].T) , t_lo, t_hi).flatten()\n",
    "    return np.mean( simulated_loss(tau,therapeut_dose,obs_INR) )\n",
    "\n",
    "def off_pol_var_lin_grad(beta, *args):\n",
    "    \"\"\"\n",
    "    Compute a gradient for special case of Epanechnikov kernel and linear policy tau\n",
    "    \"\"\"\n",
    "    \n",
    "    d = len(beta) \n",
    "    params = dict(args[0]); n = params['n']\n",
    "    THRESH = params['threshold']\n",
    "    y_out = params['y']; x = params['x']; h = params['h'];Q = params['Q']; n = params['n']; t_lo = params['t_lo'];  t_hi = params['t_hi']\n",
    "    kernel = params['kernel_func'];kernel_int =  params['kernel_int_func']\n",
    "    y_out = params['y_samp']; T = params['T_samp']; x = params['x_samp']\n",
    " \n",
    "    #! FIXME x vs xsamp\n",
    "    tau = np.dot(beta, params['x'].T)\n",
    "    params['tau'] = tau; params['beta'] = beta\n",
    "    clip_tau = np.clip(tau, t_lo, t_hi)\n",
    "    BMI_IND = params.get('BMI_IND'); THRESH = params['threshold'] # propensity score for warfarin data evaluations \n",
    "    \n",
    "\n",
    "    [f, g, nabla_f, nabla_g] = f_g(**params)\n",
    "    # compute gradient vector via quotient rule\n",
    "    if g < THRESH: \n",
    "        g = THRESH  \n",
    "    grad_estimator = np.asarray((g*nabla_f - f*nabla_g) / g**2 )\n",
    "    var_grad = -1*f *grad_estimator\n",
    "    var_grad_term1 = 0 \n",
    "    for i in range(n): \n",
    "        if (params.get('DATA_TYPE') == 'warfarin'): \n",
    "            Q_i = Q(x[i,BMI_IND], T[i], t_lo, t_hi)\n",
    "        else: \n",
    "            Q_i = Q(x[i], T[i], t_lo, t_hi)\n",
    "        if (abs(clip_tau[i] - t_lo) <= h):\n",
    "            alpha = kernel_int((t_lo-clip_tau[i])/h, 1)\n",
    "        elif (abs(clip_tau[i] - t_hi) <= h):\n",
    "            alpha = kernel_int(-1,  (t_hi - clip_tau[i])/h )\n",
    "        else:\n",
    "            alpha = 1\n",
    "#         Qs[i] = kernel( (clip_tau[i] - T[i])/h )/max(Q_i,THRESH)\n",
    "        if abs((clip_tau[i] - T[i])/h) >= 1:\n",
    "            var_grad_term1 += 0 # don't add anything to partial derivatives \n",
    "        else:\n",
    "            var_grad_term1 += 2* (kernel( (clip_tau[i] - T[i])/h )*1.0 * y_out[i]/max(Q_i,THRESH) * 1.0/alpha)*(.75*x[i]*y_out[i]/max(Q_i,THRESH)*(1 - 1.0*(clip_tau[i] - T[i])/h ))\n",
    "    var_grad_term1 = var_grad_term1*1.0/n\n",
    "    var_grad += var_grad_term1\n",
    "    return np.asarray((g*nabla_f - f*nabla_g) / g**2 ) + 2*LAMBDA*beta + 2*var_grad \n",
    "\n",
    "def plot_training_set_hist(beta, x, therapeut_dose, sim_dose, title, policy_label): \n",
    "    plt.hist(np.abs(np.dot(beta, x.T)  - therapeut_dose ),range=[0,80],alpha = 0.5,label=policy_label)\n",
    "    plt.hist(np.abs(sim_dose - therapeut_dose),alpha = 0.5,range=[0,80],color = 'g',label='original simulated dose' )\n",
    "    plt.legend()\n",
    "    plt.title(title,y=1.08)\n",
    "    plt.ylabel('frequencies')\n",
    "    plt.ylim((0, 1800))\n",
    "    plt.xlabel('Absolute value of distance between recommended and therapeutic dose')\n",
    "    plt.show()"
   ]
  },
  {
   "cell_type": "code",
   "execution_count": 17,
   "metadata": {
    "collapsed": false
   },
   "outputs": [],
   "source": [
    "train_data['y'] = train_data['y']-np.mean(train_data['y'])\n",
    "train_data['y_samp'] = train_data['y_samp']-np.mean(train_data['y_samp'])\n"
   ]
  },
  {
   "cell_type": "code",
   "execution_count": null,
   "metadata": {
    "collapsed": false
   },
   "outputs": [
    {
     "name": "stdout",
     "output_type": "stream",
     "text": [
      "0\n"
     ]
    }
   ],
   "source": [
    "import datetime\n",
    "d = X.shape[1]\n",
    "n_restarts = 1\n",
    "vals = np.zeros(n_restarts)\n",
    "betas = [None]*n_restarts\n",
    "i = 0 \n",
    "while i <= n_restarts: \n",
    "    print i\n",
    "\n",
    "    beta_d = 0.8*(mu_dose / (d*np.mean(X[trainind,:],axis=0))) +0.2*np.random.uniform(size=d,low=np.zeros(d), high = [bnds[k][1]*1.0/d for k in range(d) ])\n",
    "    \n",
    "#     beta_d = mu_dose / (d*np.mean(X[trainind,:],axis=0))\n",
    "#     oracle_res = minimize(pol_eval_wrapper, x0 = beta_d, jac = off_pol_epan_lin_grad, bounds = bnds , options={'disp':True,'gtol':1e-4}, args=train_data.items())  \n",
    "#     try: \n",
    "    oracle_res = minimize(var_regularized_pol_eval_wrapper, x0 = beta_d, bounds = bnds , options={'disp':True,'gtol':1e-3}, args=train_data.items())  \n",
    "\n",
    "#         oracle_res = minimize(var_regularized_pol_eval_wrapper, x0 = beta_d, jac = off_pol_epan_lin_grad, bounds = bnds , options={'disp':True,'gtol':1e-4}, args=train_data.items())  \n",
    "    betas[i] = oracle_res.x\n",
    "    print oracle_res.x\n",
    "    vals[i] = oracle_res.fun\n",
    "    print oracle_res.fun\n",
    "    i += 1\n",
    "#     except: \n",
    "#         print \"Gradient error\"\n",
    "    \n",
    "pickle.dump(oracle_res.x, open(str(datetime.datetime.now().strftime(\"%Y-%m-%d_%H-%M\")) + 'empirical_opt_beta-v2', 'wb'))\n",
    "best_off_pol_beta = betas[np.argmin(vals)]\n",
    "best_off_pol_val = vals[np.argmin(vals)]\n",
    "\n"
   ]
  },
  {
   "cell_type": "code",
   "execution_count": 37,
   "metadata": {
    "collapsed": false
   },
   "outputs": [
    {
     "data": {
      "text/plain": [
       "4"
      ]
     },
     "execution_count": 37,
     "metadata": {},
     "output_type": "execute_result"
    }
   ],
   "source": [
    "best_off_pol_beta"
   ]
  },
  {
   "cell_type": "code",
   "execution_count": 34,
   "metadata": {
    "collapsed": false
   },
   "outputs": [
    {
     "name": "stderr",
     "output_type": "stream",
     "text": [
      "C:\\Users\\paint_000\\Anaconda\\lib\\site-packages\\matplotlib\\axes\\_axes.py:5933: UserWarning: 2D hist input should be nsamples x nvariables;\n",
      " this looks transposed (shape is 81 x 3171)\n",
      "  'this looks transposed (shape is %d x %d)' % x.shape[::-1])\n"
     ]
    },
    {
     "ename": "KeyboardInterrupt",
     "evalue": "",
     "output_type": "error",
     "traceback": [
      "\u001b[0;31m---------------------------------------------------------------------------\u001b[0m",
      "\u001b[0;31mKeyboardInterrupt\u001b[0m                         Traceback (most recent call last)",
      "\u001b[0;32m<ipython-input-34-230883ddc2f2>\u001b[0m in \u001b[0;36m<module>\u001b[0;34m()\u001b[0m\n\u001b[1;32m      1\u001b[0m \u001b[1;31m# best_off_pol_beta = pickle.load(open('2017-05-16_23-32empirical_opt_beta-v2',\"rb\"))\u001b[0m\u001b[1;33m\u001b[0m\u001b[1;33m\u001b[0m\u001b[0m\n\u001b[1;32m      2\u001b[0m \u001b[1;33m\u001b[0m\u001b[0m\n\u001b[0;32m----> 3\u001b[0;31m \u001b[0mplot_training_set_hist\u001b[0m\u001b[1;33m(\u001b[0m\u001b[0mbest_off_pol_beta\u001b[0m\u001b[1;33m,\u001b[0m \u001b[0mX\u001b[0m\u001b[1;33m[\u001b[0m\u001b[0mtrainind\u001b[0m\u001b[1;33m,\u001b[0m\u001b[1;33m:\u001b[0m\u001b[1;33m]\u001b[0m\u001b[1;33m,\u001b[0m \u001b[0mtherapeut_dose\u001b[0m\u001b[1;33m[\u001b[0m\u001b[0mtrainind\u001b[0m\u001b[1;33m]\u001b[0m\u001b[1;33m,\u001b[0m \u001b[0msim_dose\u001b[0m\u001b[1;33m[\u001b[0m\u001b[0mtrainind\u001b[0m\u001b[1;33m]\u001b[0m\u001b[1;33m,\u001b[0m\u001b[1;34m\"Comparison of empirically optimal treatment policy vs original dose\"\u001b[0m\u001b[1;33m,\u001b[0m\u001b[1;34m\"empirically optimal training policy\"\u001b[0m\u001b[1;33m)\u001b[0m\u001b[1;33m\u001b[0m\u001b[0m\n\u001b[0m\u001b[1;32m      4\u001b[0m \u001b[0mplot_training_set_hist\u001b[0m\u001b[1;33m(\u001b[0m\u001b[0mbest_off_pol_beta\u001b[0m\u001b[1;33m,\u001b[0m \u001b[0mX\u001b[0m\u001b[1;33m[\u001b[0m\u001b[0mtest_mask\u001b[0m\u001b[1;33m,\u001b[0m\u001b[1;33m:\u001b[0m\u001b[1;33m]\u001b[0m\u001b[1;33m,\u001b[0m \u001b[0mtherapeut_dose\u001b[0m\u001b[1;33m[\u001b[0m\u001b[0mtest_mask\u001b[0m\u001b[1;33m]\u001b[0m\u001b[1;33m,\u001b[0m \u001b[0msim_dose\u001b[0m\u001b[1;33m[\u001b[0m\u001b[0mtest_mask\u001b[0m\u001b[1;33m]\u001b[0m\u001b[1;33m,\u001b[0m\u001b[1;34m\"Comparison of empirically optimal treatment policy vs original dose\"\u001b[0m\u001b[1;33m,\u001b[0m\u001b[1;34m\"empirically optimal training policy\"\u001b[0m\u001b[1;33m)\u001b[0m\u001b[1;33m\u001b[0m\u001b[0m\n",
      "\u001b[0;32m<ipython-input-13-6ae331ebbed6>\u001b[0m in \u001b[0;36mplot_training_set_hist\u001b[0;34m(beta, x, therapeut_dose, sim_dose, title, policy_label)\u001b[0m\n\u001b[1;32m     37\u001b[0m \u001b[1;33m\u001b[0m\u001b[0m\n\u001b[1;32m     38\u001b[0m \u001b[1;32mdef\u001b[0m \u001b[0mplot_training_set_hist\u001b[0m\u001b[1;33m(\u001b[0m\u001b[0mbeta\u001b[0m\u001b[1;33m,\u001b[0m \u001b[0mx\u001b[0m\u001b[1;33m,\u001b[0m \u001b[0mtherapeut_dose\u001b[0m\u001b[1;33m,\u001b[0m \u001b[0msim_dose\u001b[0m\u001b[1;33m,\u001b[0m \u001b[0mtitle\u001b[0m\u001b[1;33m,\u001b[0m \u001b[0mpolicy_label\u001b[0m\u001b[1;33m)\u001b[0m\u001b[1;33m:\u001b[0m\u001b[1;33m\u001b[0m\u001b[0m\n\u001b[0;32m---> 39\u001b[0;31m     \u001b[0mplt\u001b[0m\u001b[1;33m.\u001b[0m\u001b[0mhist\u001b[0m\u001b[1;33m(\u001b[0m\u001b[0mnp\u001b[0m\u001b[1;33m.\u001b[0m\u001b[0mabs\u001b[0m\u001b[1;33m(\u001b[0m\u001b[0mnp\u001b[0m\u001b[1;33m.\u001b[0m\u001b[0mdot\u001b[0m\u001b[1;33m(\u001b[0m\u001b[0mbeta\u001b[0m\u001b[1;33m,\u001b[0m \u001b[0mx\u001b[0m\u001b[1;33m.\u001b[0m\u001b[0mT\u001b[0m\u001b[1;33m)\u001b[0m  \u001b[1;33m-\u001b[0m \u001b[0mtherapeut_dose\u001b[0m \u001b[1;33m)\u001b[0m\u001b[1;33m,\u001b[0m\u001b[0mrange\u001b[0m\u001b[1;33m=\u001b[0m\u001b[1;33m[\u001b[0m\u001b[1;36m0\u001b[0m\u001b[1;33m,\u001b[0m\u001b[1;36m80\u001b[0m\u001b[1;33m]\u001b[0m\u001b[1;33m,\u001b[0m\u001b[0malpha\u001b[0m \u001b[1;33m=\u001b[0m \u001b[1;36m0.5\u001b[0m\u001b[1;33m,\u001b[0m\u001b[0mlabel\u001b[0m\u001b[1;33m=\u001b[0m\u001b[0mpolicy_label\u001b[0m\u001b[1;33m)\u001b[0m\u001b[1;33m\u001b[0m\u001b[0m\n\u001b[0m\u001b[1;32m     40\u001b[0m     \u001b[0mplt\u001b[0m\u001b[1;33m.\u001b[0m\u001b[0mhist\u001b[0m\u001b[1;33m(\u001b[0m\u001b[0mnp\u001b[0m\u001b[1;33m.\u001b[0m\u001b[0mabs\u001b[0m\u001b[1;33m(\u001b[0m\u001b[0msim_dose\u001b[0m \u001b[1;33m-\u001b[0m \u001b[0mtherapeut_dose\u001b[0m\u001b[1;33m)\u001b[0m\u001b[1;33m,\u001b[0m\u001b[0malpha\u001b[0m \u001b[1;33m=\u001b[0m \u001b[1;36m0.5\u001b[0m\u001b[1;33m,\u001b[0m\u001b[0mrange\u001b[0m\u001b[1;33m=\u001b[0m\u001b[1;33m[\u001b[0m\u001b[1;36m0\u001b[0m\u001b[1;33m,\u001b[0m\u001b[1;36m80\u001b[0m\u001b[1;33m]\u001b[0m\u001b[1;33m,\u001b[0m\u001b[0mcolor\u001b[0m \u001b[1;33m=\u001b[0m \u001b[1;34m'g'\u001b[0m\u001b[1;33m,\u001b[0m\u001b[0mlabel\u001b[0m\u001b[1;33m=\u001b[0m\u001b[1;34m'original simulated dose'\u001b[0m \u001b[1;33m)\u001b[0m\u001b[1;33m\u001b[0m\u001b[0m\n\u001b[1;32m     41\u001b[0m     \u001b[0mplt\u001b[0m\u001b[1;33m.\u001b[0m\u001b[0mlegend\u001b[0m\u001b[1;33m(\u001b[0m\u001b[1;33m)\u001b[0m\u001b[1;33m\u001b[0m\u001b[0m\n",
      "\u001b[0;32mC:\\Users\\paint_000\\Anaconda\\lib\\site-packages\\matplotlib\\pyplot.pyc\u001b[0m in \u001b[0;36mhist\u001b[0;34m(x, bins, range, normed, weights, cumulative, bottom, histtype, align, orientation, rwidth, log, color, label, stacked, hold, data, **kwargs)\u001b[0m\n\u001b[1;32m   2956\u001b[0m                       \u001b[0mhisttype\u001b[0m\u001b[1;33m=\u001b[0m\u001b[0mhisttype\u001b[0m\u001b[1;33m,\u001b[0m \u001b[0malign\u001b[0m\u001b[1;33m=\u001b[0m\u001b[0malign\u001b[0m\u001b[1;33m,\u001b[0m \u001b[0morientation\u001b[0m\u001b[1;33m=\u001b[0m\u001b[0morientation\u001b[0m\u001b[1;33m,\u001b[0m\u001b[1;33m\u001b[0m\u001b[0m\n\u001b[1;32m   2957\u001b[0m                       \u001b[0mrwidth\u001b[0m\u001b[1;33m=\u001b[0m\u001b[0mrwidth\u001b[0m\u001b[1;33m,\u001b[0m \u001b[0mlog\u001b[0m\u001b[1;33m=\u001b[0m\u001b[0mlog\u001b[0m\u001b[1;33m,\u001b[0m \u001b[0mcolor\u001b[0m\u001b[1;33m=\u001b[0m\u001b[0mcolor\u001b[0m\u001b[1;33m,\u001b[0m \u001b[0mlabel\u001b[0m\u001b[1;33m=\u001b[0m\u001b[0mlabel\u001b[0m\u001b[1;33m,\u001b[0m\u001b[1;33m\u001b[0m\u001b[0m\n\u001b[0;32m-> 2958\u001b[0;31m                       stacked=stacked, data=data, **kwargs)\n\u001b[0m\u001b[1;32m   2959\u001b[0m     \u001b[1;32mfinally\u001b[0m\u001b[1;33m:\u001b[0m\u001b[1;33m\u001b[0m\u001b[0m\n\u001b[1;32m   2960\u001b[0m         \u001b[0max\u001b[0m\u001b[1;33m.\u001b[0m\u001b[0mhold\u001b[0m\u001b[1;33m(\u001b[0m\u001b[0mwashold\u001b[0m\u001b[1;33m)\u001b[0m\u001b[1;33m\u001b[0m\u001b[0m\n",
      "\u001b[0;32mC:\\Users\\paint_000\\Anaconda\\lib\\site-packages\\matplotlib\\__init__.pyc\u001b[0m in \u001b[0;36minner\u001b[0;34m(ax, *args, **kwargs)\u001b[0m\n\u001b[1;32m   1808\u001b[0m                     warnings.warn(msg % (label_namer, func.__name__),\n\u001b[1;32m   1809\u001b[0m                                   RuntimeWarning, stacklevel=2)\n\u001b[0;32m-> 1810\u001b[0;31m             \u001b[1;32mreturn\u001b[0m \u001b[0mfunc\u001b[0m\u001b[1;33m(\u001b[0m\u001b[0max\u001b[0m\u001b[1;33m,\u001b[0m \u001b[1;33m*\u001b[0m\u001b[0margs\u001b[0m\u001b[1;33m,\u001b[0m \u001b[1;33m**\u001b[0m\u001b[0mkwargs\u001b[0m\u001b[1;33m)\u001b[0m\u001b[1;33m\u001b[0m\u001b[0m\n\u001b[0m\u001b[1;32m   1811\u001b[0m         \u001b[0mpre_doc\u001b[0m \u001b[1;33m=\u001b[0m \u001b[0minner\u001b[0m\u001b[1;33m.\u001b[0m\u001b[0m__doc__\u001b[0m\u001b[1;33m\u001b[0m\u001b[0m\n\u001b[1;32m   1812\u001b[0m         \u001b[1;32mif\u001b[0m \u001b[0mpre_doc\u001b[0m \u001b[1;32mis\u001b[0m \u001b[0mNone\u001b[0m\u001b[1;33m:\u001b[0m\u001b[1;33m\u001b[0m\u001b[0m\n",
      "\u001b[0;32mC:\\Users\\paint_000\\Anaconda\\lib\\site-packages\\matplotlib\\axes\\_axes.pyc\u001b[0m in \u001b[0;36mhist\u001b[0;34m(self, x, bins, range, normed, weights, cumulative, bottom, histtype, align, orientation, rwidth, log, color, label, stacked, **kwargs)\u001b[0m\n\u001b[1;32m   6075\u001b[0m                 patch = _barfunc(bins[:-1]+boffset, height, width,\n\u001b[1;32m   6076\u001b[0m                                  \u001b[0malign\u001b[0m\u001b[1;33m=\u001b[0m\u001b[1;34m'center'\u001b[0m\u001b[1;33m,\u001b[0m \u001b[0mlog\u001b[0m\u001b[1;33m=\u001b[0m\u001b[0mlog\u001b[0m\u001b[1;33m,\u001b[0m\u001b[1;33m\u001b[0m\u001b[0m\n\u001b[0;32m-> 6077\u001b[0;31m                                  color=c, **{bottom_kwarg: bottom})\n\u001b[0m\u001b[1;32m   6078\u001b[0m                 \u001b[0mpatches\u001b[0m\u001b[1;33m.\u001b[0m\u001b[0mappend\u001b[0m\u001b[1;33m(\u001b[0m\u001b[0mpatch\u001b[0m\u001b[1;33m)\u001b[0m\u001b[1;33m\u001b[0m\u001b[0m\n\u001b[1;32m   6079\u001b[0m                 \u001b[1;32mif\u001b[0m \u001b[0mstacked\u001b[0m\u001b[1;33m:\u001b[0m\u001b[1;33m\u001b[0m\u001b[0m\n",
      "\u001b[0;32mC:\\Users\\paint_000\\Anaconda\\lib\\site-packages\\matplotlib\\__init__.pyc\u001b[0m in \u001b[0;36minner\u001b[0;34m(ax, *args, **kwargs)\u001b[0m\n\u001b[1;32m   1808\u001b[0m                     warnings.warn(msg % (label_namer, func.__name__),\n\u001b[1;32m   1809\u001b[0m                                   RuntimeWarning, stacklevel=2)\n\u001b[0;32m-> 1810\u001b[0;31m             \u001b[1;32mreturn\u001b[0m \u001b[0mfunc\u001b[0m\u001b[1;33m(\u001b[0m\u001b[0max\u001b[0m\u001b[1;33m,\u001b[0m \u001b[1;33m*\u001b[0m\u001b[0margs\u001b[0m\u001b[1;33m,\u001b[0m \u001b[1;33m**\u001b[0m\u001b[0mkwargs\u001b[0m\u001b[1;33m)\u001b[0m\u001b[1;33m\u001b[0m\u001b[0m\n\u001b[0m\u001b[1;32m   1811\u001b[0m         \u001b[0mpre_doc\u001b[0m \u001b[1;33m=\u001b[0m \u001b[0minner\u001b[0m\u001b[1;33m.\u001b[0m\u001b[0m__doc__\u001b[0m\u001b[1;33m\u001b[0m\u001b[0m\n\u001b[1;32m   1812\u001b[0m         \u001b[1;32mif\u001b[0m \u001b[0mpre_doc\u001b[0m \u001b[1;32mis\u001b[0m \u001b[0mNone\u001b[0m\u001b[1;33m:\u001b[0m\u001b[1;33m\u001b[0m\u001b[0m\n",
      "\u001b[0;32mC:\\Users\\paint_000\\Anaconda\\lib\\site-packages\\matplotlib\\axes\\_axes.pyc\u001b[0m in \u001b[0;36mbar\u001b[0;34m(self, left, height, width, bottom, **kwargs)\u001b[0m\n\u001b[1;32m   2135\u001b[0m             \u001b[0mr\u001b[0m\u001b[1;33m.\u001b[0m\u001b[0mget_path\u001b[0m\u001b[1;33m(\u001b[0m\u001b[1;33m)\u001b[0m\u001b[1;33m.\u001b[0m\u001b[0m_interpolation_steps\u001b[0m \u001b[1;33m=\u001b[0m \u001b[1;36m100\u001b[0m\u001b[1;33m\u001b[0m\u001b[0m\n\u001b[1;32m   2136\u001b[0m             \u001b[1;31m#print r.get_label(), label, 'label' in kwargs\u001b[0m\u001b[1;33m\u001b[0m\u001b[1;33m\u001b[0m\u001b[0m\n\u001b[0;32m-> 2137\u001b[0;31m             \u001b[0mself\u001b[0m\u001b[1;33m.\u001b[0m\u001b[0madd_patch\u001b[0m\u001b[1;33m(\u001b[0m\u001b[0mr\u001b[0m\u001b[1;33m)\u001b[0m\u001b[1;33m\u001b[0m\u001b[0m\n\u001b[0m\u001b[1;32m   2138\u001b[0m             \u001b[0mpatches\u001b[0m\u001b[1;33m.\u001b[0m\u001b[0mappend\u001b[0m\u001b[1;33m(\u001b[0m\u001b[0mr\u001b[0m\u001b[1;33m)\u001b[0m\u001b[1;33m\u001b[0m\u001b[0m\n\u001b[1;32m   2139\u001b[0m \u001b[1;33m\u001b[0m\u001b[0m\n",
      "\u001b[0;32mC:\\Users\\paint_000\\Anaconda\\lib\\site-packages\\matplotlib\\axes\\_base.pyc\u001b[0m in \u001b[0;36madd_patch\u001b[0;34m(self, p)\u001b[0m\n\u001b[1;32m   1761\u001b[0m         \u001b[1;32mif\u001b[0m \u001b[0mp\u001b[0m\u001b[1;33m.\u001b[0m\u001b[0mget_clip_path\u001b[0m\u001b[1;33m(\u001b[0m\u001b[1;33m)\u001b[0m \u001b[1;32mis\u001b[0m \u001b[0mNone\u001b[0m\u001b[1;33m:\u001b[0m\u001b[1;33m\u001b[0m\u001b[0m\n\u001b[1;32m   1762\u001b[0m             \u001b[0mp\u001b[0m\u001b[1;33m.\u001b[0m\u001b[0mset_clip_path\u001b[0m\u001b[1;33m(\u001b[0m\u001b[0mself\u001b[0m\u001b[1;33m.\u001b[0m\u001b[0mpatch\u001b[0m\u001b[1;33m)\u001b[0m\u001b[1;33m\u001b[0m\u001b[0m\n\u001b[0;32m-> 1763\u001b[0;31m         \u001b[0mself\u001b[0m\u001b[1;33m.\u001b[0m\u001b[0m_update_patch_limits\u001b[0m\u001b[1;33m(\u001b[0m\u001b[0mp\u001b[0m\u001b[1;33m)\u001b[0m\u001b[1;33m\u001b[0m\u001b[0m\n\u001b[0m\u001b[1;32m   1764\u001b[0m         \u001b[0mself\u001b[0m\u001b[1;33m.\u001b[0m\u001b[0mpatches\u001b[0m\u001b[1;33m.\u001b[0m\u001b[0mappend\u001b[0m\u001b[1;33m(\u001b[0m\u001b[0mp\u001b[0m\u001b[1;33m)\u001b[0m\u001b[1;33m\u001b[0m\u001b[0m\n\u001b[1;32m   1765\u001b[0m         \u001b[0mp\u001b[0m\u001b[1;33m.\u001b[0m\u001b[0m_remove_method\u001b[0m \u001b[1;33m=\u001b[0m \u001b[1;32mlambda\u001b[0m \u001b[0mh\u001b[0m\u001b[1;33m:\u001b[0m \u001b[0mself\u001b[0m\u001b[1;33m.\u001b[0m\u001b[0mpatches\u001b[0m\u001b[1;33m.\u001b[0m\u001b[0mremove\u001b[0m\u001b[1;33m(\u001b[0m\u001b[0mh\u001b[0m\u001b[1;33m)\u001b[0m\u001b[1;33m\u001b[0m\u001b[0m\n",
      "\u001b[0;32mC:\\Users\\paint_000\\Anaconda\\lib\\site-packages\\matplotlib\\axes\\_base.pyc\u001b[0m in \u001b[0;36m_update_patch_limits\u001b[0;34m(self, patch)\u001b[0m\n\u001b[1;32m   1787\u001b[0m                 \u001b[0mxys\u001b[0m \u001b[1;33m=\u001b[0m \u001b[0mpatch_to_data\u001b[0m\u001b[1;33m.\u001b[0m\u001b[0mtransform\u001b[0m\u001b[1;33m(\u001b[0m\u001b[0mxys\u001b[0m\u001b[1;33m)\u001b[0m\u001b[1;33m\u001b[0m\u001b[0m\n\u001b[1;32m   1788\u001b[0m \u001b[1;33m\u001b[0m\u001b[0m\n\u001b[0;32m-> 1789\u001b[0;31m             \u001b[0mupdatex\u001b[0m\u001b[1;33m,\u001b[0m \u001b[0mupdatey\u001b[0m \u001b[1;33m=\u001b[0m \u001b[0mpatch\u001b[0m\u001b[1;33m.\u001b[0m\u001b[0mget_transform\u001b[0m\u001b[1;33m(\u001b[0m\u001b[1;33m)\u001b[0m\u001b[1;33m.\u001b[0m\u001b[0;31m\\\u001b[0m\u001b[1;33m\u001b[0m\u001b[0m\n\u001b[0m\u001b[1;32m   1790\u001b[0m                 \u001b[0mcontains_branch_seperately\u001b[0m\u001b[1;33m(\u001b[0m\u001b[0mself\u001b[0m\u001b[1;33m.\u001b[0m\u001b[0mtransData\u001b[0m\u001b[1;33m)\u001b[0m\u001b[1;33m\u001b[0m\u001b[0m\n\u001b[1;32m   1791\u001b[0m             self.update_datalim(xys, updatex=updatex,\n",
      "\u001b[0;32mC:\\Users\\paint_000\\Anaconda\\lib\\site-packages\\matplotlib\\patches.pyc\u001b[0m in \u001b[0;36mget_transform\u001b[0;34m(self)\u001b[0m\n\u001b[1;32m    193\u001b[0m         \u001b[0mto\u001b[0m \u001b[0mthe\u001b[0m \u001b[1;33m:\u001b[0m\u001b[1;32mclass\u001b[0m\u001b[1;33m:\u001b[0m\u001b[1;33m`\u001b[0m\u001b[0mPatch\u001b[0m\u001b[1;33m`\u001b[0m\u001b[1;33m.\u001b[0m\u001b[1;33m\u001b[0m\u001b[0m\n\u001b[1;32m    194\u001b[0m         \"\"\"\n\u001b[0;32m--> 195\u001b[0;31m         \u001b[1;32mreturn\u001b[0m \u001b[0mself\u001b[0m\u001b[1;33m.\u001b[0m\u001b[0mget_patch_transform\u001b[0m\u001b[1;33m(\u001b[0m\u001b[1;33m)\u001b[0m \u001b[1;33m+\u001b[0m \u001b[0martist\u001b[0m\u001b[1;33m.\u001b[0m\u001b[0mArtist\u001b[0m\u001b[1;33m.\u001b[0m\u001b[0mget_transform\u001b[0m\u001b[1;33m(\u001b[0m\u001b[0mself\u001b[0m\u001b[1;33m)\u001b[0m\u001b[1;33m\u001b[0m\u001b[0m\n\u001b[0m\u001b[1;32m    196\u001b[0m \u001b[1;33m\u001b[0m\u001b[0m\n\u001b[1;32m    197\u001b[0m     \u001b[1;32mdef\u001b[0m \u001b[0mget_data_transform\u001b[0m\u001b[1;33m(\u001b[0m\u001b[0mself\u001b[0m\u001b[1;33m)\u001b[0m\u001b[1;33m:\u001b[0m\u001b[1;33m\u001b[0m\u001b[0m\n",
      "\u001b[0;32mC:\\Users\\paint_000\\Anaconda\\lib\\site-packages\\matplotlib\\patches.pyc\u001b[0m in \u001b[0;36mget_patch_transform\u001b[0;34m(self)\u001b[0m\n\u001b[1;32m    668\u001b[0m \u001b[1;33m\u001b[0m\u001b[0m\n\u001b[1;32m    669\u001b[0m     \u001b[1;32mdef\u001b[0m \u001b[0mget_patch_transform\u001b[0m\u001b[1;33m(\u001b[0m\u001b[0mself\u001b[0m\u001b[1;33m)\u001b[0m\u001b[1;33m:\u001b[0m\u001b[1;33m\u001b[0m\u001b[0m\n\u001b[0;32m--> 670\u001b[0;31m         \u001b[0mself\u001b[0m\u001b[1;33m.\u001b[0m\u001b[0m_update_patch_transform\u001b[0m\u001b[1;33m(\u001b[0m\u001b[1;33m)\u001b[0m\u001b[1;33m\u001b[0m\u001b[0m\n\u001b[0m\u001b[1;32m    671\u001b[0m         \u001b[1;32mreturn\u001b[0m \u001b[0mself\u001b[0m\u001b[1;33m.\u001b[0m\u001b[0m_rect_transform\u001b[0m\u001b[1;33m\u001b[0m\u001b[0m\n\u001b[1;32m    672\u001b[0m \u001b[1;33m\u001b[0m\u001b[0m\n",
      "\u001b[0;32mC:\\Users\\paint_000\\Anaconda\\lib\\site-packages\\matplotlib\\patches.pyc\u001b[0m in \u001b[0;36m_update_patch_transform\u001b[0;34m(self)\u001b[0m\n\u001b[1;32m    663\u001b[0m         \u001b[0mbbox\u001b[0m \u001b[1;33m=\u001b[0m \u001b[0mtransforms\u001b[0m\u001b[1;33m.\u001b[0m\u001b[0mBbox\u001b[0m\u001b[1;33m.\u001b[0m\u001b[0mfrom_bounds\u001b[0m\u001b[1;33m(\u001b[0m\u001b[0mx\u001b[0m\u001b[1;33m,\u001b[0m \u001b[0my\u001b[0m\u001b[1;33m,\u001b[0m \u001b[0mwidth\u001b[0m\u001b[1;33m,\u001b[0m \u001b[0mheight\u001b[0m\u001b[1;33m)\u001b[0m\u001b[1;33m\u001b[0m\u001b[0m\n\u001b[1;32m    664\u001b[0m         \u001b[0mrot_trans\u001b[0m \u001b[1;33m=\u001b[0m \u001b[0mtransforms\u001b[0m\u001b[1;33m.\u001b[0m\u001b[0mAffine2D\u001b[0m\u001b[1;33m(\u001b[0m\u001b[1;33m)\u001b[0m\u001b[1;33m\u001b[0m\u001b[0m\n\u001b[0;32m--> 665\u001b[0;31m         \u001b[0mrot_trans\u001b[0m\u001b[1;33m.\u001b[0m\u001b[0mrotate_deg_around\u001b[0m\u001b[1;33m(\u001b[0m\u001b[0mx\u001b[0m\u001b[1;33m,\u001b[0m \u001b[0my\u001b[0m\u001b[1;33m,\u001b[0m \u001b[0mself\u001b[0m\u001b[1;33m.\u001b[0m\u001b[0m_angle\u001b[0m\u001b[1;33m)\u001b[0m\u001b[1;33m\u001b[0m\u001b[0m\n\u001b[0m\u001b[1;32m    666\u001b[0m         \u001b[0mself\u001b[0m\u001b[1;33m.\u001b[0m\u001b[0m_rect_transform\u001b[0m \u001b[1;33m=\u001b[0m \u001b[0mtransforms\u001b[0m\u001b[1;33m.\u001b[0m\u001b[0mBboxTransformTo\u001b[0m\u001b[1;33m(\u001b[0m\u001b[0mbbox\u001b[0m\u001b[1;33m)\u001b[0m\u001b[1;33m\u001b[0m\u001b[0m\n\u001b[1;32m    667\u001b[0m         \u001b[0mself\u001b[0m\u001b[1;33m.\u001b[0m\u001b[0m_rect_transform\u001b[0m \u001b[1;33m+=\u001b[0m \u001b[0mrot_trans\u001b[0m\u001b[1;33m\u001b[0m\u001b[0m\n",
      "\u001b[0;32mC:\\Users\\paint_000\\Anaconda\\lib\\site-packages\\matplotlib\\transforms.pyc\u001b[0m in \u001b[0;36mrotate_deg_around\u001b[0;34m(self, x, y, degrees)\u001b[0m\n\u001b[1;32m   1924\u001b[0m         \u001b[1;32mand\u001b[0m \u001b[1;33m:\u001b[0m\u001b[0mmeth\u001b[0m\u001b[1;33m:\u001b[0m\u001b[1;33m`\u001b[0m\u001b[0mscale\u001b[0m\u001b[1;33m`\u001b[0m\u001b[1;33m.\u001b[0m\u001b[1;33m\u001b[0m\u001b[0m\n\u001b[1;32m   1925\u001b[0m         \"\"\"\n\u001b[0;32m-> 1926\u001b[0;31m         \u001b[1;32mreturn\u001b[0m \u001b[0mself\u001b[0m\u001b[1;33m.\u001b[0m\u001b[0mtranslate\u001b[0m\u001b[1;33m(\u001b[0m\u001b[1;33m-\u001b[0m\u001b[0mx\u001b[0m\u001b[1;33m,\u001b[0m \u001b[1;33m-\u001b[0m\u001b[0my\u001b[0m\u001b[1;33m)\u001b[0m\u001b[1;33m.\u001b[0m\u001b[0mrotate_deg\u001b[0m\u001b[1;33m(\u001b[0m\u001b[0mdegrees\u001b[0m\u001b[1;33m)\u001b[0m\u001b[1;33m.\u001b[0m\u001b[0mtranslate\u001b[0m\u001b[1;33m(\u001b[0m\u001b[0mx\u001b[0m\u001b[1;33m,\u001b[0m \u001b[0my\u001b[0m\u001b[1;33m)\u001b[0m\u001b[1;33m\u001b[0m\u001b[0m\n\u001b[0m\u001b[1;32m   1927\u001b[0m \u001b[1;33m\u001b[0m\u001b[0m\n\u001b[1;32m   1928\u001b[0m     \u001b[1;32mdef\u001b[0m \u001b[0mtranslate\u001b[0m\u001b[1;33m(\u001b[0m\u001b[0mself\u001b[0m\u001b[1;33m,\u001b[0m \u001b[0mtx\u001b[0m\u001b[1;33m,\u001b[0m \u001b[0mty\u001b[0m\u001b[1;33m)\u001b[0m\u001b[1;33m:\u001b[0m\u001b[1;33m\u001b[0m\u001b[0m\n",
      "\u001b[0;31mKeyboardInterrupt\u001b[0m: "
     ]
    },
    {
     "data": {
      "image/png": "[encoded data removed]",
      "text/plain": [
       "<matplotlib.figure.Figure at 0x1de484a8>"
      ]
     },
     "metadata": {},
     "output_type": "display_data"
    }
   ],
   "source": [
    "# best_off_pol_beta = pickle.load(open('2017-05-16_23-32empirical_opt_beta-v2',\"rb\"))\n",
    "\n",
    "plot_training_set_hist(best_off_pol_beta, X[trainind,:], therapeut_dose[trainind], sim_dose[trainind],\"Comparison of empirically optimal treatment policy vs original dose\",\"empirically optimal training policy\")\n",
    "plot_training_set_hist(best_off_pol_beta, X[test_mask,:], therapeut_dose[test_mask], sim_dose[test_mask],\"Comparison of empirically optimal treatment policy vs original dose\",\"empirically optimal training policy\")"
   ]
  },
  {
   "cell_type": "code",
   "execution_count": 16,
   "metadata": {
    "collapsed": true
   },
   "outputs": [],
   "source": []
  },
  {
   "cell_type": "code",
   "execution_count": 15,
   "metadata": {
    "collapsed": false
   },
   "outputs": [
    {
     "name": "stdout",
     "output_type": "stream",
     "text": [
      "[[  3.34878260e-12]\n",
      " [  2.27233744e+00]\n",
      " [  2.10186436e-13]\n",
      " [  1.94613037e+00]\n",
      " [  4.93963436e-13]\n",
      " [ -4.59980522e-13]\n",
      " [  5.47827155e-11]\n",
      " [ -1.15325336e-13]\n",
      " [  1.48744485e-01]\n",
      " [ -1.05391182e-13]\n",
      " [  3.95693317e+00]\n",
      " [  3.06510535e+00]\n",
      " [ -7.63551671e-14]\n",
      " [  4.01937904e+00]\n",
      " [  1.01013936e-11]\n",
      " [  4.37414928e-12]\n",
      " [  2.58864883e+00]\n",
      " [  9.48284751e-01]\n",
      " [  1.41427592e-12]\n",
      " [  8.54196282e-12]\n",
      " [  1.81297162e-01]\n",
      " [  1.58129760e-13]\n",
      " [  1.38782100e-13]\n",
      " [  5.47813915e-11]\n",
      " [  1.86564553e-01]\n",
      " [  1.86913855e-12]\n",
      " [  1.14177992e-11]\n",
      " [  5.69451219e-12]\n",
      " [  5.14907981e-12]\n",
      " [  3.95146992e-01]\n",
      " [  2.09766884e-12]\n",
      " [  4.44294320e-12]\n",
      " [  4.10999861e-12]\n",
      " [  1.83330525e-12]\n",
      " [  2.01268876e-12]\n",
      " [  3.62105766e-11]\n",
      " [  1.86483697e-12]\n",
      " [  1.76396490e-11]\n",
      " [  1.79634632e-12]\n",
      " [  4.36252780e+00]\n",
      " [  6.86478941e-13]\n",
      " [  3.25328825e+00]\n",
      " [  2.71032694e-12]\n",
      " [  1.73112785e-12]\n",
      " [  1.25880200e+01]\n",
      " [  1.73112887e-12]\n",
      " [  1.53340836e+01]\n",
      " [  1.79634721e-12]\n",
      " [  1.39707498e-12]\n",
      " [  1.93685720e-12]\n",
      " [  1.93685829e-12]\n",
      " [  2.13552122e-11]\n",
      " [  2.22546695e+00]\n",
      " [  8.14146381e-13]\n",
      " [  3.21197396e-02]\n",
      " [  2.62757185e+00]\n",
      " [  7.85466746e+00]\n",
      " [  3.12960252e+00]\n",
      " [  2.73353289e-12]\n",
      " [  6.03574940e+00]\n",
      " [ -3.13894344e-13]\n",
      " [  2.90217705e+00]\n",
      " [  7.79963303e+00]\n",
      " [  5.36453104e-14]\n",
      " [  3.15295794e-12]\n",
      " [  2.36331980e-12]\n",
      " [ -9.59825904e-14]\n",
      " [  2.70707747e+00]\n",
      " [  4.52580093e+00]\n",
      " [ -2.68331030e-13]\n",
      " [  1.01199851e+00]\n",
      " [  5.66660826e+00]\n",
      " [  3.73786403e-12]\n",
      " [  4.33937273e-12]\n",
      " [ -2.96983686e-13]\n",
      " [  1.67093953e-12]\n",
      " [  1.54999388e-12]\n",
      " [ -1.41385616e-13]\n",
      " [  1.05543784e-12]\n",
      " [  4.75539444e-12]\n",
      " [  5.25852378e-12]]\n"
     ]
    }
   ],
   "source": [
    "import cvxpy as cvx\n",
    "d = X.shape[1]\n",
    "beta = cvx.Variable(d)\n",
    "# Implement a thresholded loss\n",
    "#cost = cvx.sum_entries(cvx.max_elemwise(cvx.abs(X[trainind,:]*beta - therapeut_dose[trainind]) - therapeut_dose[trainind]*0.1, 0))/n*1.0\n",
    "# normal l1 loss (median regression)\n",
    "cost = cvx.sum_entries(cvx.abs(X[trainind,:]*beta - therapeut_dose[trainind]))/n*1.0\n",
    "\n",
    "constraints = [beta >= 0]\n",
    "for i in range(d): \n",
    "    constraints += [beta[i] <= np.mean(therapeut_dose[trainind])/np.mean(X[trainind,i]) ]\n",
    "prob = cvx.Problem(cvx.Minimize(cost), constraints)\n",
    "\n",
    "prob.solve()\n",
    "print beta.value\n",
    "prescient_beta = beta.value.flatten().T\n",
    "prescient_beta = np.ravel(prescient_beta).T\n",
    "\n",
    "pickle.dump(prescient_beta, open(str(datetime.datetime.now().strftime(\"%Y-%m-%d_%H-%M\")) + 'prescient-beta-v2', 'wb'))\n"
   ]
  },
  {
   "cell_type": "code",
   "execution_count": null,
   "metadata": {
    "collapsed": true
   },
   "outputs": [],
   "source": [
    "def oracle_eval_wrapper(beta, args): \n",
    "    data = dict(args)\n",
    "    INDS = data['inds']\n",
    "    t_lo = data['t_lo']; t_hi = data['t_hi']\n",
    "    tau = np.clip(np.dot(beta, data['x_samp'].T) , t_lo, t_hi).flatten()\n",
    "    return np.mean( simulated_loss(tau,therapeut_dose[INDS],obs_INR[INDS]) )\n",
    "\n",
    "beta_d = np.random.rand(d)\n",
    "train_data['inds'] = trainind\n",
    "oracle_actual_oracle_res = minimize(oracle_eval_wrapper, x0 = beta_d, bounds = bnds , options={'disp':True,'gtol':1e-4}, args=train_data.items())  \n",
    "pickle.dump(oracle_actual_oracle_res.x, open('oracle_opt_beta', 'wb'))\n",
    "print oracle_actual_oracle_res"
   ]
  },
  {
   "cell_type": "code",
   "execution_count": null,
   "metadata": {
    "collapsed": true
   },
   "outputs": [],
   "source": [
    "print oracle_actual_oracle_res\n",
    "print \"off pol oracle\"\n",
    "print oracle_res"
   ]
  },
  {
   "cell_type": "markdown",
   "metadata": {},
   "source": [
    "## Build direct estimate and use 'regress and compare' "
   ]
  },
  {
   "cell_type": "code",
   "execution_count": 28,
   "metadata": {
    "collapsed": false
   },
   "outputs": [],
   "source": [
    "from sklearn.ensemble import RandomForestRegressor\n",
    "\n",
    "X_w_dose = np.column_stack((X, sim_dose))\n",
    "X_w_dose.shape\n",
    "\n",
    "clf = RandomForestRegressor(n_estimators=10)\n",
    "\n",
    "clf = clf.fit(X[trainind,:],y=therapeut_dose[trainind])\n",
    "train_data['x_full'] = X_w_dose\n",
    "train_data['rf'] = clf\n",
    "\n",
    "d = X.shape[1]\n",
    "# Regression and compare \n",
    "# Iterate through dataset and choose dose maximizing dose response \n",
    "\n",
    "# n = len(trainind)\n",
    "# ts = np.linspace(0,80,160)\n",
    "# best_taus_for_x = np.zeros(n)\n",
    "# for i in range(n): \n",
    "#     if (i%500 == 0): \n",
    "#         print i \n",
    "#     drf_vals = [clf.predict( np.append(X_w_dose[trainind[i],0:d-1], np.asarray(t)).reshape(1,-1)) for t in ts ]\n",
    "#     best_tau = np.argmin(drf_vals)\n",
    "#     best_taus_for_x[i] = ts[best_tau]\n",
    "    \n"
   ]
  },
  {
   "cell_type": "code",
   "execution_count": 23,
   "metadata": {
    "collapsed": false
   },
   "outputs": [
    {
     "ename": "AttributeError",
     "evalue": "'numpy.ndarray' object has no attribute 'append'",
     "output_type": "error",
     "traceback": [
      "\u001b[0;31m---------------------------------------------------------------------------\u001b[0m",
      "\u001b[0;31mAttributeError\u001b[0m                            Traceback (most recent call last)",
      "\u001b[0;32m<ipython-input-23-6f727c87310b>\u001b[0m in \u001b[0;36m<module>\u001b[0;34m()\u001b[0m\n\u001b[0;32m----> 1\u001b[0;31m \u001b[0mXwnames\u001b[0m \u001b[1;33m=\u001b[0m \u001b[0mXnames\u001b[0m\u001b[1;33m.\u001b[0m\u001b[0mappend\u001b[0m\u001b[1;33m(\u001b[0m\u001b[1;34m'simdose'\u001b[0m\u001b[1;33m)\u001b[0m\u001b[1;33m\u001b[0m\u001b[0m\n\u001b[0m",
      "\u001b[0;31mAttributeError\u001b[0m: 'numpy.ndarray' object has no attribute 'append'"
     ]
    }
   ],
   "source": []
  },
  {
   "cell_type": "code",
   "execution_count": 24,
   "metadata": {
    "collapsed": false
   },
   "outputs": [
    {
     "data": {
      "text/plain": [
       "array(['Male?', 'White?', 'Asian?', 'Black?', 'Non-hispanic?', 'Age group',\n",
       "       'No age?', 'Height', 'Weight', 'BMI',\n",
       "       'Indication for Warfarin Treatment: 1',\n",
       "       'Indication for Warfarin Treatment: 2',\n",
       "       'Indication for Warfarin Treatment: 3',\n",
       "       'Indication for Warfarin Treatment: 4',\n",
       "       'Indication for Warfarin Treatment: 5',\n",
       "       'Indication for Warfarin Treatment: 6',\n",
       "       'Indication for Warfarin Treatment: 7',\n",
       "       'Indication for Warfarin Treatment: 8', 'Diabetes=0?',\n",
       "       'Diabetes=1?', 'Congestive Heart Failure and/or Cardiomyopathy=0?',\n",
       "       'Congestive Heart Failure and/or Cardiomyopathy=1?',\n",
       "       'Valve Replacement=0?', 'Valve Replacement=1?', 'aspirin=0?',\n",
       "       'aspirin=1?', 'Acetaminophen=0?', 'Acetaminophen=1?',\n",
       "       'Acetaminophen hi dose=0?', 'Simvastatin=0?', 'Simvastatin=1?',\n",
       "       'Simvastatin=0?', 'Simvastatin=1?', 'Fluvastatin=0?',\n",
       "       'Lovastatin=0?', 'Lovastatin=1?', 'Pravastatin=0?',\n",
       "       'Pravastatin=1?', 'Rosuvastatin=0?', 'Rosuvastatin=1?',\n",
       "       'Cerivastatin=0?', 'Amiodarone=0?', 'Amiodarone=1?',\n",
       "       'Carbamazepine=0?', 'Carbamazepine=1?', 'Phenytoin=0?',\n",
       "       'Phenytoin=1?', 'Rifampin=0?', 'Sulfonamide Antibiotics=0?',\n",
       "       'Macrolide Antibiotics=0?', 'Anti-fungal Azoles=0?',\n",
       "       'Anti-fungal Azoles=1?',\n",
       "       'Herbal Medications, Vitamins, Supplements=0?',\n",
       "       'Herbal Medications, Vitamins, Supplements=1?', 'Smoker=0?',\n",
       "       'Smoker=0?', 'CYP2C9 *1/*1', 'CYP2C9 *1/*2', 'CYP2C9 *1/*3',\n",
       "       'CYP2C9 NA', 'VKORC1 -1639 A/A', 'VKORC1 -1639 A/G',\n",
       "       'VKORC1 -1639 G/G', 'VKORC1 497 T/T', 'VKORC1 497 G/T',\n",
       "       'VKORC1 497 G/G', 'VKORC1 1173 T/T', 'VKORC1 1173 C/T',\n",
       "       'VKORC1 1173 C/C', 'VKORC1 1542 C/C', 'VKORC1 1542 C/G',\n",
       "       'VKORC1 1542 G/G', 'VKORC1 3730 A/A', 'VKORC1 3730 A/G',\n",
       "       'VKORC1 3730 G/G', 'VKORC1 2255 C/C', 'VKORC1 2255 C/T',\n",
       "       'VKORC1 2255 T/T', 'VKORC1 -4451 C/C', 'VKORC1 -4451 A/C',\n",
       "       'VKORC1 -4451 A/A'], \n",
       "      dtype='|S49')"
      ]
     },
     "execution_count": 24,
     "metadata": {},
     "output_type": "execute_result"
    }
   ],
   "source": [
    "Xnames"
   ]
  },
  {
   "cell_type": "code",
   "execution_count": 33,
   "metadata": {
    "collapsed": false
   },
   "outputs": [
    {
     "name": "stdout",
     "output_type": "stream",
     "text": [
      "['Weight' 'VKORC1 -1639 A/A' 'VKORC1 -1639 G/G' 'Age group' 'BMI' 'Height'\n",
      " 'CYP2C9 *1/*1' 'Anti-fungal Azoles=1?' 'VKORC1 1542 G/G' 'VKORC1 2255 T/T'\n",
      " 'Congestive Heart Failure and/or Cardiomyopathy=0?'\n",
      " 'Acetaminophen hi dose=0?' 'Carbamazepine=1?' 'VKORC1 1173 C/C'\n",
      " 'Indication for Warfarin Treatment: 3' 'aspirin=1?'\n",
      " 'Indication for Warfarin Treatment: 8' 'CYP2C9 NA' 'aspirin=0?'\n",
      " 'Indication for Warfarin Treatment: 2' 'White?'\n",
      " 'Indication for Warfarin Treatment: 1' 'Simvastatin=0?' 'VKORC1 3730 A/G'\n",
      " 'Diabetes=0?']\n"
     ]
    }
   ],
   "source": [
    "d=X.shape[1]\n",
    "sort_inds = np.argsort(clf.feature_importances_)[::-1][:d]\n",
    "\n",
    "pickle.dump(sort_inds, open('important_features_fm_regr.p','wb'))\n",
    "print Xnames[sort_inds[0:25]]"
   ]
  },
  {
   "cell_type": "code",
   "execution_count": 96,
   "metadata": {
    "collapsed": false
   },
   "outputs": [],
   "source": [
    "pickle.dump(best_taus_for_x, open(str(datetime.datetime.now().strftime(\"%Y-%m-%d_%H-%M\")) + 'dm_best_treatments-RC-train.p', 'wb'))\n",
    "pickle.dump(best_taus_for_x_test, open(str(datetime.datetime.now().strftime(\"%Y-%m-%d_%H-%M\")) + 'dm_best_treatments-RC-test.p', 'wb'))\n"
   ]
  },
  {
   "cell_type": "code",
   "execution_count": 23,
   "metadata": {
    "collapsed": true
   },
   "outputs": [],
   "source": [
    "best_taus_for_x = pickle.load(open('2017-05-16_15-41dm_best_treatments-RC-train.p'))\n",
    "best_taus_for_x_test = pickle.load(open('2017-05-16_15-41dm_best_treatments-RC-test.p'))"
   ]
  },
  {
   "cell_type": "markdown",
   "metadata": {
    "collapsed": true
   },
   "source": [
    "## Optimizing direct method "
   ]
  },
  {
   "cell_type": "code",
   "execution_count": null,
   "metadata": {
    "collapsed": true
   },
   "outputs": [],
   "source": [
    "bounds = [ (0, np.mean(therapeut_dose)/(np.sqrt(d)*np.mean(X_w_dose[:,i]))) for i in range(d) ]\n",
    "bnds = tuple(tuple(x) for x in bounds)\n",
    "def dm_wrapper(beta, args): \n",
    "    data = dict(args)\n",
    "    INDS = data['inds']\n",
    "    t_lo = data['t_lo']; t_hi = data['t_hi']\n",
    "    clf = train_data['rf']\n",
    "    tau = np.clip(np.dot(beta, data['x_full'][trainind,:].T), t_lo, t_hi).flatten()\n",
    "    counterfactual_X = np.column_stack((data['x_full'][trainind,0:d-1], tau))\n",
    "    reg_lambda = 3\n",
    "    return 100* (np.mean( clf.predict( counterfactual_X )) + reg_lambda * np.linalg.norm( beta, 1 )) \n",
    "\n",
    "\n",
    "\n",
    "beta_d = np.random.uniform(low = np.zeros(d), high = [bnds[i][1] for i in range(d) ], size = d)\n",
    "epsilon = np.ones(d)*1e-2\n",
    "dm_res = minimize(dm_wrapper, x0 = beta_d, jac= None, bounds = bnds , options={'disp':True,'gtol':1e-8, 'eps':np.ones(d)*1e-1}, args=train_data.items())  \n",
    "\n",
    "pickle.dump(dm_res.x, open(str(datetime.datetime.now().strftime(\"%Y-%m-%d_%H-%M\")) + 'dm_beta-v2', 'wb'))\n"
   ]
  },
  {
   "cell_type": "code",
   "execution_count": null,
   "metadata": {
    "collapsed": true
   },
   "outputs": [],
   "source": [
    "np.dot(dm_res.x, X_w_dose[trainind,:].T)\n",
    "\n",
    "print dm_res.x\n",
    "print len(dm_res.x[0:len(dm_res.x)-1])\n",
    "print Xnames[np.where(dm_res.x[0:len(dm_res.x)-2] > 0)[0]]"
   ]
  },
  {
   "cell_type": "code",
   "execution_count": null,
   "metadata": {
    "collapsed": true
   },
   "outputs": [],
   "source": [
    "from statsmodels.nonparametric.kernel_regression import KernelReg\n",
    "\n",
    "list_data = [ subframe[trainind,i] for i in range(d) ] + [sim_dose[trainind]]\n",
    "print list_data\n",
    "print len(list_data)\n",
    "print [len(list_data[i]) for i in range(len(list_data))]\n",
    "kernel_regr = KernelReg(endog = [y.reshape([len(trainind),1])], exog=list_data, var_type=['c']*len(list_data) )"
   ]
  },
  {
   "cell_type": "code",
   "execution_count": null,
   "metadata": {
    "collapsed": true
   },
   "outputs": [],
   "source": [
    "import pandas as pd \n",
    "df = pd.DataFrame(np.hstack([subframe[trainind], sim_dose[trainind].reshape([len(trainind),1])]) )\n",
    "\n",
    "df.to_csv(\"train_data.csv\", header = list(subXnames)+[\"sim_dose\"],index=None)\n",
    "ydf = pd.DataFrame(y) \n",
    "ydf.to_csv('y.csv',header='y',index =None)"
   ]
  },
  {
   "cell_type": "markdown",
   "metadata": {},
   "source": [
    "## Discrete off-policy evaluation and optimization "
   ]
  },
  {
   "cell_type": "code",
   "execution_count": 73,
   "metadata": {
    "collapsed": false
   },
   "outputs": [
    {
     "ename": "KeyboardInterrupt",
     "evalue": "",
     "output_type": "error",
     "traceback": [
      "\u001b[0;31m---------------------------------------------------------------------------\u001b[0m",
      "\u001b[0;31mKeyboardInterrupt\u001b[0m                         Traceback (most recent call last)",
      "\u001b[0;32m<ipython-input-73-ab81b900c228>\u001b[0m in \u001b[0;36m<module>\u001b[0;34m()\u001b[0m\n\u001b[1;32m     36\u001b[0m     \u001b[1;32mreturn\u001b[0m \u001b[0mGPS\u001b[0m\u001b[1;33m\u001b[0m\u001b[0m\n\u001b[1;32m     37\u001b[0m \u001b[1;33m\u001b[0m\u001b[0m\n\u001b[0;32m---> 38\u001b[0;31m \u001b[0mintegrated_propensity_scores\u001b[0m \u001b[1;33m=\u001b[0m \u001b[0mintegrated_gps\u001b[0m\u001b[1;33m(\u001b[0m\u001b[0mX\u001b[0m\u001b[1;33m[\u001b[0m\u001b[0mtrainind\u001b[0m\u001b[1;33m,\u001b[0m\u001b[1;36m9\u001b[0m\u001b[1;33m]\u001b[0m\u001b[1;33m,\u001b[0m \u001b[0msim_dose\u001b[0m\u001b[1;33m[\u001b[0m\u001b[0mtrainind\u001b[0m\u001b[1;33m]\u001b[0m\u001b[1;33m,\u001b[0m \u001b[0mmin_T\u001b[0m\u001b[1;33m,\u001b[0m \u001b[0mmax_T\u001b[0m\u001b[1;33m)\u001b[0m\u001b[1;33m\u001b[0m\u001b[0m\n\u001b[0m",
      "\u001b[0;32m<ipython-input-73-ab81b900c228>\u001b[0m in \u001b[0;36mintegrated_gps\u001b[0;34m(bmi, T, min_T, max_T)\u001b[0m\n\u001b[1;32m     29\u001b[0m             \u001b[0mGPS\u001b[0m\u001b[1;33m[\u001b[0m\u001b[0mi\u001b[0m\u001b[1;33m]\u001b[0m \u001b[1;33m=\u001b[0m \u001b[0mscipy\u001b[0m\u001b[1;33m.\u001b[0m\u001b[0mintegrate\u001b[0m\u001b[1;33m.\u001b[0m\u001b[0mquad\u001b[0m\u001b[1;33m(\u001b[0m \u001b[0mgenerated_Q_wrapper\u001b[0m\u001b[1;33m,\u001b[0m \u001b[1;36m5\u001b[0m\u001b[1;33m,\u001b[0m \u001b[1;36m21\u001b[0m\u001b[1;33m,\u001b[0m \u001b[0margs\u001b[0m\u001b[1;33m=\u001b[0m\u001b[1;33m(\u001b[0m\u001b[0mbmi\u001b[0m\u001b[1;33m[\u001b[0m\u001b[0mi\u001b[0m\u001b[1;33m]\u001b[0m\u001b[1;33m,\u001b[0m \u001b[0mtheta\u001b[0m\u001b[1;33m,\u001b[0m \u001b[0mtheta\u001b[0m\u001b[1;33m)\u001b[0m \u001b[1;33m)\u001b[0m\u001b[1;33m[\u001b[0m\u001b[1;36m0\u001b[0m\u001b[1;33m]\u001b[0m\u001b[1;33m\u001b[0m\u001b[0m\n\u001b[1;32m     30\u001b[0m         \u001b[1;32melif\u001b[0m \u001b[0mT\u001b[0m\u001b[1;33m[\u001b[0m\u001b[0mi\u001b[0m\u001b[1;33m]\u001b[0m \u001b[1;33m<\u001b[0m \u001b[1;36m49\u001b[0m\u001b[1;33m:\u001b[0m\u001b[1;33m\u001b[0m\u001b[0m\n\u001b[0;32m---> 31\u001b[0;31m             \u001b[0mGPS\u001b[0m\u001b[1;33m[\u001b[0m\u001b[0mi\u001b[0m\u001b[1;33m]\u001b[0m \u001b[1;33m=\u001b[0m \u001b[0mscipy\u001b[0m\u001b[1;33m.\u001b[0m\u001b[0mintegrate\u001b[0m\u001b[1;33m.\u001b[0m\u001b[0mquad\u001b[0m\u001b[1;33m(\u001b[0m \u001b[0mgenerated_Q_wrapper\u001b[0m\u001b[1;33m,\u001b[0m \u001b[1;36m21\u001b[0m\u001b[1;33m,\u001b[0m \u001b[1;36m49\u001b[0m\u001b[1;33m,\u001b[0m \u001b[0margs\u001b[0m\u001b[1;33m=\u001b[0m\u001b[1;33m(\u001b[0m\u001b[0mbmi\u001b[0m\u001b[1;33m[\u001b[0m\u001b[0mi\u001b[0m\u001b[1;33m]\u001b[0m\u001b[1;33m,\u001b[0m \u001b[0mtheta\u001b[0m\u001b[1;33m,\u001b[0m \u001b[0mtheta\u001b[0m\u001b[1;33m)\u001b[0m \u001b[1;33m)\u001b[0m\u001b[1;33m[\u001b[0m\u001b[1;36m0\u001b[0m\u001b[1;33m]\u001b[0m\u001b[1;33m\u001b[0m\u001b[0m\n\u001b[0m\u001b[1;32m     32\u001b[0m         \u001b[1;32melif\u001b[0m \u001b[0mT\u001b[0m\u001b[1;33m[\u001b[0m\u001b[0mi\u001b[0m\u001b[1;33m]\u001b[0m \u001b[1;33m>=\u001b[0m \u001b[1;36m49\u001b[0m\u001b[1;33m:\u001b[0m\u001b[1;33m\u001b[0m\u001b[0m\n\u001b[1;32m     33\u001b[0m             \u001b[0mGPS\u001b[0m\u001b[1;33m[\u001b[0m\u001b[0mi\u001b[0m\u001b[1;33m]\u001b[0m \u001b[1;33m=\u001b[0m \u001b[0mscipy\u001b[0m\u001b[1;33m.\u001b[0m\u001b[0mintegrate\u001b[0m\u001b[1;33m.\u001b[0m\u001b[0mquad\u001b[0m\u001b[1;33m(\u001b[0m \u001b[0mgenerated_Q_wrapper\u001b[0m\u001b[1;33m,\u001b[0m \u001b[1;36m49\u001b[0m\u001b[1;33m,\u001b[0m \u001b[1;36m80\u001b[0m\u001b[1;33m,\u001b[0m \u001b[0margs\u001b[0m\u001b[1;33m=\u001b[0m\u001b[1;33m(\u001b[0m\u001b[0mbmi\u001b[0m\u001b[1;33m[\u001b[0m\u001b[0mi\u001b[0m\u001b[1;33m]\u001b[0m\u001b[1;33m,\u001b[0m \u001b[0mtheta\u001b[0m\u001b[1;33m,\u001b[0m \u001b[0mtheta\u001b[0m\u001b[1;33m)\u001b[0m \u001b[1;33m)\u001b[0m\u001b[1;33m[\u001b[0m\u001b[1;36m0\u001b[0m\u001b[1;33m]\u001b[0m\u001b[1;33m\u001b[0m\u001b[0m\n",
      "\u001b[0;32mC:\\Users\\paint_000\\Anaconda\\lib\\site-packages\\scipy\\integrate\\quadpack.pyc\u001b[0m in \u001b[0;36mquad\u001b[0;34m(func, a, b, args, full_output, epsabs, epsrel, limit, points, weight, wvar, wopts, maxp1, limlst)\u001b[0m\n\u001b[1;32m    309\u001b[0m     \u001b[1;32mif\u001b[0m \u001b[1;33m(\u001b[0m\u001b[0mweight\u001b[0m \u001b[1;32mis\u001b[0m \u001b[0mNone\u001b[0m\u001b[1;33m)\u001b[0m\u001b[1;33m:\u001b[0m\u001b[1;33m\u001b[0m\u001b[0m\n\u001b[1;32m    310\u001b[0m         retval = _quad(func, a, b, args, full_output, epsabs, epsrel, limit,\n\u001b[0;32m--> 311\u001b[0;31m                        points)\n\u001b[0m\u001b[1;32m    312\u001b[0m     \u001b[1;32melse\u001b[0m\u001b[1;33m:\u001b[0m\u001b[1;33m\u001b[0m\u001b[0m\n\u001b[1;32m    313\u001b[0m         retval = _quad_weight(func, a, b, args, full_output, epsabs, epsrel,\n",
      "\u001b[0;32mC:\\Users\\paint_000\\Anaconda\\lib\\site-packages\\scipy\\integrate\\quadpack.pyc\u001b[0m in \u001b[0;36m_quad\u001b[0;34m(func, a, b, args, full_output, epsabs, epsrel, limit, points)\u001b[0m\n\u001b[1;32m    374\u001b[0m     \u001b[1;32mif\u001b[0m \u001b[0mpoints\u001b[0m \u001b[1;32mis\u001b[0m \u001b[0mNone\u001b[0m\u001b[1;33m:\u001b[0m\u001b[1;33m\u001b[0m\u001b[0m\n\u001b[1;32m    375\u001b[0m         \u001b[1;32mif\u001b[0m \u001b[0minfbounds\u001b[0m \u001b[1;33m==\u001b[0m \u001b[1;36m0\u001b[0m\u001b[1;33m:\u001b[0m\u001b[1;33m\u001b[0m\u001b[0m\n\u001b[0;32m--> 376\u001b[0;31m             \u001b[1;32mreturn\u001b[0m \u001b[0m_quadpack\u001b[0m\u001b[1;33m.\u001b[0m\u001b[0m_qagse\u001b[0m\u001b[1;33m(\u001b[0m\u001b[0mfunc\u001b[0m\u001b[1;33m,\u001b[0m\u001b[0ma\u001b[0m\u001b[1;33m,\u001b[0m\u001b[0mb\u001b[0m\u001b[1;33m,\u001b[0m\u001b[0margs\u001b[0m\u001b[1;33m,\u001b[0m\u001b[0mfull_output\u001b[0m\u001b[1;33m,\u001b[0m\u001b[0mepsabs\u001b[0m\u001b[1;33m,\u001b[0m\u001b[0mepsrel\u001b[0m\u001b[1;33m,\u001b[0m\u001b[0mlimit\u001b[0m\u001b[1;33m)\u001b[0m\u001b[1;33m\u001b[0m\u001b[0m\n\u001b[0m\u001b[1;32m    377\u001b[0m         \u001b[1;32melse\u001b[0m\u001b[1;33m:\u001b[0m\u001b[1;33m\u001b[0m\u001b[0m\n\u001b[1;32m    378\u001b[0m             \u001b[1;32mreturn\u001b[0m \u001b[0m_quadpack\u001b[0m\u001b[1;33m.\u001b[0m\u001b[0m_qagie\u001b[0m\u001b[1;33m(\u001b[0m\u001b[0mfunc\u001b[0m\u001b[1;33m,\u001b[0m\u001b[0mbound\u001b[0m\u001b[1;33m,\u001b[0m\u001b[0minfbounds\u001b[0m\u001b[1;33m,\u001b[0m\u001b[0margs\u001b[0m\u001b[1;33m,\u001b[0m\u001b[0mfull_output\u001b[0m\u001b[1;33m,\u001b[0m\u001b[0mepsabs\u001b[0m\u001b[1;33m,\u001b[0m\u001b[0mepsrel\u001b[0m\u001b[1;33m,\u001b[0m\u001b[0mlimit\u001b[0m\u001b[1;33m)\u001b[0m\u001b[1;33m\u001b[0m\u001b[0m\n",
      "\u001b[0;32m<ipython-input-73-ab81b900c228>\u001b[0m in \u001b[0;36mgenerated_Q_wrapper\u001b[0;34m(T, bmi, theta, NULL)\u001b[0m\n\u001b[1;32m     17\u001b[0m     \u001b[1;31m# centeredaround mu_dose with scale stddev of dose\u001b[0m\u001b[1;33m\u001b[0m\u001b[1;33m\u001b[0m\u001b[0m\n\u001b[1;32m     18\u001b[0m     \u001b[0mZ_bmi\u001b[0m \u001b[1;33m=\u001b[0m \u001b[1;33m(\u001b[0m\u001b[0mbmi\u001b[0m\u001b[1;33m-\u001b[0m\u001b[0mmu_bmi\u001b[0m\u001b[1;33m)\u001b[0m\u001b[1;33m/\u001b[0m\u001b[0mstd_bmi\u001b[0m\u001b[1;33m\u001b[0m\u001b[0m\n\u001b[0;32m---> 19\u001b[0;31m     \u001b[1;32mreturn\u001b[0m \u001b[0mnorm\u001b[0m\u001b[1;33m.\u001b[0m\u001b[0mpdf\u001b[0m\u001b[1;33m(\u001b[0m \u001b[0mT\u001b[0m\u001b[1;33m,\u001b[0m \u001b[0mloc\u001b[0m \u001b[1;33m=\u001b[0m \u001b[0mmu_dose\u001b[0m \u001b[1;33m+\u001b[0m \u001b[0mstd_dose\u001b[0m\u001b[1;33m*\u001b[0m\u001b[0mnp\u001b[0m\u001b[1;33m.\u001b[0m\u001b[0msqrt\u001b[0m\u001b[1;33m(\u001b[0m\u001b[0mtheta\u001b[0m\u001b[1;33m)\u001b[0m\u001b[1;33m*\u001b[0m\u001b[0mZ_bmi\u001b[0m\u001b[1;33m,\u001b[0m \u001b[0mscale\u001b[0m \u001b[1;33m=\u001b[0m \u001b[0mnp\u001b[0m\u001b[1;33m.\u001b[0m\u001b[0msqrt\u001b[0m\u001b[1;33m(\u001b[0m\u001b[1;36m1\u001b[0m\u001b[1;33m-\u001b[0m\u001b[0mtheta\u001b[0m\u001b[1;33m)\u001b[0m \u001b[1;33m)\u001b[0m\u001b[1;33m\u001b[0m\u001b[0m\n\u001b[0m\u001b[1;32m     20\u001b[0m \u001b[1;33m\u001b[0m\u001b[0m\n\u001b[1;32m     21\u001b[0m \u001b[0mmin_T\u001b[0m \u001b[1;33m=\u001b[0m \u001b[0mmin\u001b[0m\u001b[1;33m(\u001b[0m\u001b[0msim_dose\u001b[0m\u001b[1;33m)\u001b[0m\u001b[1;33m\u001b[0m\u001b[0m\n",
      "\u001b[0;32mC:\\Users\\paint_000\\Anaconda\\lib\\site-packages\\scipy\\stats\\_distn_infrastructure.pyc\u001b[0m in \u001b[0;36mpdf\u001b[0;34m(self, x, *args, **kwds)\u001b[0m\n\u001b[1;32m   1593\u001b[0m         \u001b[0mcond\u001b[0m \u001b[1;33m=\u001b[0m \u001b[0mcond0\u001b[0m \u001b[1;33m&\u001b[0m \u001b[0mcond1\u001b[0m\u001b[1;33m\u001b[0m\u001b[0m\n\u001b[1;32m   1594\u001b[0m         \u001b[0moutput\u001b[0m \u001b[1;33m=\u001b[0m \u001b[0mzeros\u001b[0m\u001b[1;33m(\u001b[0m\u001b[0mshape\u001b[0m\u001b[1;33m(\u001b[0m\u001b[0mcond\u001b[0m\u001b[1;33m)\u001b[0m\u001b[1;33m,\u001b[0m \u001b[1;34m'd'\u001b[0m\u001b[1;33m)\u001b[0m\u001b[1;33m\u001b[0m\u001b[0m\n\u001b[0;32m-> 1595\u001b[0;31m         \u001b[0mputmask\u001b[0m\u001b[1;33m(\u001b[0m\u001b[0moutput\u001b[0m\u001b[1;33m,\u001b[0m \u001b[1;33m(\u001b[0m\u001b[1;36m1\u001b[0m\u001b[1;33m-\u001b[0m\u001b[0mcond0\u001b[0m\u001b[1;33m)\u001b[0m\u001b[1;33m+\u001b[0m\u001b[0mnp\u001b[0m\u001b[1;33m.\u001b[0m\u001b[0misnan\u001b[0m\u001b[1;33m(\u001b[0m\u001b[0mx\u001b[0m\u001b[1;33m)\u001b[0m\u001b[1;33m,\u001b[0m \u001b[0mself\u001b[0m\u001b[1;33m.\u001b[0m\u001b[0mbadvalue\u001b[0m\u001b[1;33m)\u001b[0m\u001b[1;33m\u001b[0m\u001b[0m\n\u001b[0m\u001b[1;32m   1596\u001b[0m         \u001b[1;32mif\u001b[0m \u001b[0many\u001b[0m\u001b[1;33m(\u001b[0m\u001b[0mcond\u001b[0m\u001b[1;33m)\u001b[0m\u001b[1;33m:\u001b[0m\u001b[1;33m\u001b[0m\u001b[0m\n\u001b[1;32m   1597\u001b[0m             \u001b[0mgoodargs\u001b[0m \u001b[1;33m=\u001b[0m \u001b[0margsreduce\u001b[0m\u001b[1;33m(\u001b[0m\u001b[0mcond\u001b[0m\u001b[1;33m,\u001b[0m \u001b[1;33m*\u001b[0m\u001b[1;33m(\u001b[0m\u001b[1;33m(\u001b[0m\u001b[0mx\u001b[0m\u001b[1;33m,\u001b[0m\u001b[1;33m)\u001b[0m\u001b[1;33m+\u001b[0m\u001b[0margs\u001b[0m\u001b[1;33m+\u001b[0m\u001b[1;33m(\u001b[0m\u001b[0mscale\u001b[0m\u001b[1;33m,\u001b[0m\u001b[1;33m)\u001b[0m\u001b[1;33m)\u001b[0m\u001b[1;33m)\u001b[0m\u001b[1;33m\u001b[0m\u001b[0m\n",
      "\u001b[0;31mKeyboardInterrupt\u001b[0m: "
     ]
    }
   ],
   "source": [
    "def discretize_dose(dose): \n",
    "    discretized_dose = np.zeros(len(dose))\n",
    "    for i in range(len(dose)): \n",
    "        if dose[i] < 21: \n",
    "            discretized_dose[i] = 0 \n",
    "        elif dose[i] < 49: \n",
    "            discretized_dose[i] = 1\n",
    "        elif dose[i] >= 49: \n",
    "            discretized_dose[i] = 2\n",
    "    return discretized_dose\n",
    "\n",
    "disc_therapeutic_dose = discretize_dose(therapeut_dose)\n",
    "disc_sim_dose = discretize_dose(sim_dose) \n",
    "\n",
    "def generated_Q_wrapper(T, bmi, theta, NULL): \n",
    "    theta = 0.5\n",
    "    # centeredaround mu_dose with scale stddev of dose\n",
    "    Z_bmi = (bmi-mu_bmi)/std_bmi\n",
    "    return norm.pdf( T, loc = mu_dose + std_dose*np.sqrt(theta)*Z_bmi, scale = np.sqrt(1-theta) )\n",
    "\n",
    "min_T = min(sim_dose)\n",
    "max_T = max(sim_dose)\n",
    "# y is still the same loss information ( distance from treatment ) \n",
    "def integrated_gps(bmi, T, min_T, max_T ): \n",
    "    theta = 0.5\n",
    "    GPS = np.zeros(len(T))\n",
    "    for i in range(len(T)): \n",
    "        if T[i] < 21: \n",
    "            GPS[i] = scipy.integrate.quad( generated_Q_wrapper, 5, 21, args=(bmi[i], theta, theta) )[0]\n",
    "        elif T[i] < 49: \n",
    "            GPS[i] = scipy.integrate.quad( generated_Q_wrapper, 21, 49, args=(bmi[i], theta, theta) )[0]\n",
    "        elif T[i] >= 49: \n",
    "            GPS[i] = scipy.integrate.quad( generated_Q_wrapper, 49, 80, args=(bmi[i], theta, theta) )[0]\n",
    "    if i % 500 == 0: \n",
    "        print i \n",
    "    return GPS\n",
    "\n",
    "integrated_propensity_scores = integrated_gps(X[trainind,9], sim_dose[trainind], min_T, max_T)"
   ]
  },
  {
   "cell_type": "code",
   "execution_count": null,
   "metadata": {
    "collapsed": true
   },
   "outputs": [],
   "source": []
  },
  {
   "cell_type": "code",
   "execution_count": 72,
   "metadata": {
    "collapsed": false
   },
   "outputs": [
    {
     "ename": "NameError",
     "evalue": "name 'disc_sim_dose' is not defined",
     "output_type": "error",
     "traceback": [
      "\u001b[0;31m---------------------------------------------------------------------------\u001b[0m",
      "\u001b[0;31mNameError\u001b[0m                                 Traceback (most recent call last)",
      "\u001b[0;32m<ipython-input-72-9dc4171cc2d7>\u001b[0m in \u001b[0;36m<module>\u001b[0;34m()\u001b[0m\n\u001b[1;32m      5\u001b[0m \u001b[1;33m\u001b[0m\u001b[0m\n\u001b[1;32m      6\u001b[0m \u001b[0mXtrain\u001b[0m \u001b[1;33m=\u001b[0m \u001b[0mX\u001b[0m\u001b[1;33m[\u001b[0m\u001b[0mtrainind\u001b[0m\u001b[1;33m,\u001b[0m\u001b[1;33m:\u001b[0m\u001b[1;33m]\u001b[0m\u001b[1;33m\u001b[0m\u001b[0m\n\u001b[0;32m----> 7\u001b[0;31m \u001b[0mttrain\u001b[0m \u001b[1;33m=\u001b[0m \u001b[0mdisc_sim_dose\u001b[0m\u001b[1;33m.\u001b[0m\u001b[0mastype\u001b[0m\u001b[1;33m(\u001b[0m\u001b[0mint\u001b[0m\u001b[1;33m)\u001b[0m\u001b[1;33m[\u001b[0m\u001b[0mtrainind\u001b[0m\u001b[1;33m]\u001b[0m\u001b[1;33m\u001b[0m\u001b[0m\n\u001b[0m\u001b[1;32m      8\u001b[0m \u001b[0mgps\u001b[0m \u001b[1;33m=\u001b[0m \u001b[0mnp\u001b[0m\u001b[1;33m.\u001b[0m\u001b[0masarray\u001b[0m\u001b[1;33m(\u001b[0m\u001b[1;33m[\u001b[0m\u001b[0mgenerated_Q_wrapper\u001b[0m\u001b[1;33m(\u001b[0m\u001b[0msim_dose\u001b[0m\u001b[1;33m[\u001b[0m\u001b[0mi\u001b[0m\u001b[1;33m]\u001b[0m\u001b[1;33m,\u001b[0m \u001b[0mX\u001b[0m\u001b[1;33m[\u001b[0m\u001b[0mtrainind\u001b[0m\u001b[1;33m,\u001b[0m\u001b[1;36m9\u001b[0m\u001b[1;33m]\u001b[0m\u001b[1;33m[\u001b[0m\u001b[0mi\u001b[0m\u001b[1;33m]\u001b[0m\u001b[1;33m,\u001b[0m \u001b[1;36m0.5\u001b[0m\u001b[1;33m,\u001b[0m \u001b[1;36m0.5\u001b[0m \u001b[1;33m)\u001b[0m \u001b[1;32mfor\u001b[0m \u001b[0mi\u001b[0m \u001b[1;32min\u001b[0m \u001b[0mrange\u001b[0m\u001b[1;33m(\u001b[0m\u001b[0mlen\u001b[0m\u001b[1;33m(\u001b[0m\u001b[0mtrainind\u001b[0m\u001b[1;33m)\u001b[0m\u001b[1;33m)\u001b[0m\u001b[1;33m]\u001b[0m\u001b[1;33m)\u001b[0m\u001b[1;33m\u001b[0m\u001b[0m\n\u001b[1;32m      9\u001b[0m \u001b[1;31m# all 0-1\u001b[0m\u001b[1;33m\u001b[0m\u001b[1;33m\u001b[0m\u001b[0m\n",
      "\u001b[0;31mNameError\u001b[0m: name 'disc_sim_dose' is not defined"
     ]
    }
   ],
   "source": [
    "# Impute POEM \n",
    "import sys\n",
    "sys.path.append('./POEM-norm/')\n",
    "import DatasetReader, Skylines\n",
    "\n",
    "Xtrain = X[trainind,:]\n",
    "ttrain = disc_sim_dose.astype(int)[trainind]\n",
    "gps = np.asarray([generated_Q_wrapper(sim_dose[i], X[trainind,9][i], 0.5, 0.5 ) for i in range(len(trainind))])\n",
    "# all 0-1\n",
    "# gps = integrated_propensity_scores\n",
    "ytrain = y\n",
    "Xtest = X[test_mask,:]\n",
    "\n",
    "\n",
    "\n",
    "mydata = DatasetReader.BanditDataset(None,False)\n",
    "mydata.trainFeatures        = np.hstack((Xtrain.copy(),np.ones((len(Xtrain),1))))\n",
    "mydata.sampledLabels        = np.zeros((len(ttrain),max(ttrain)+1))\n",
    "mydata.sampledLabels[range(len(ttrain)),ttrain] = 1.\n",
    "mydata.trainLabels          = np.empty(mydata.sampledLabels.shape)\n",
    "mydata.sampledLoss          = ytrain.copy()\n",
    "mydata.sampledLoss         -= mydata.sampledLoss.min()\n",
    "mydata.sampledLoss         /= mydata.sampledLoss.max()\n",
    "# computed on training set \n",
    "mydata.sampledLogPropensity = np.log(gps)\n",
    "#ones_like vs ones_line? \n",
    "mydata.testFeatures              = np.hstack((np.ones_like(Xtest),np.ones((len(Xtest),1))))\n",
    "mydata.testLabels                = np.array([])\n",
    "mydata.createTrainValidateSplit(validateFrac = 0.25)\n",
    "pool = None \n",
    "coef = None\n",
    "\n",
    "maj = Skylines.PRMWrapper(mydata, n_iter = 1000, tol = 1e-6, minC = 0, maxC = -1, minV = 0, maxV = -1,\n",
    "                            minClip = 0, maxClip = 0, estimator_type = 'Vanilla', verbose = True,\n",
    "                            parallel = pool, smartStart = coef)\n",
    "maj.calibrateHyperParams()\n",
    "maj.validate()\n",
    "Xtest1 = np.hstack((Xtest,np.ones((len(Xtest),1))))\n",
    "rec = Xtest1.dot(maj.labeler.coef_).argmax(1)\n",
    "\n"
   ]
  },
  {
   "cell_type": "code",
   "execution_count": null,
   "metadata": {
    "collapsed": true
   },
   "outputs": [],
   "source": [
    "rec"
   ]
  },
  {
   "cell_type": "code",
   "execution_count": null,
   "metadata": {
    "collapsed": true
   },
   "outputs": [],
   "source": [
    "### POEM-norm\n",
    "\n",
    "mydata = DatasetReader.BanditDataset(None,False)\n",
    "mydata.trainFeatures        = np.hstack((Xtrain.copy(),np.ones((len(Xtrain),1))))\n",
    "mydata.sampledLabels        = np.zeros((len(ttrain),max(ttrain)+1))\n",
    "mydata.sampledLabels[range(len(ttrain)),ttrain] = 1.\n",
    "mydata.trainLabels          = np.empty(mydata.sampledLabels.shape)\n",
    "mydata.sampledLoss          = ytrain.copy()\n",
    "mydata.sampledLoss         -= mydata.sampledLoss.min()\n",
    "mydata.sampledLoss         /= mydata.sampledLoss.max()\n",
    "mydata.sampledLogPropensity = np.log(gps)\n",
    "mydata.testFeatures              = np.hstack((np.ones_like(Xtest),np.ones((len(Xtest),1))))\n",
    "mydata.testLabels                = np.array([])\n",
    "mydata.createTrainValidateSplit(validateFrac = 0.25)\n",
    "pool = None \n",
    "coef = None\n",
    "\n",
    "maj = Skylines.PRMWrapper(mydata, n_iter = 1000, tol = 1e-6, minC = 0, maxC = -1, minV = 0, maxV = -1,\n",
    "                            minClip = 0, maxClip = 0, estimator_type = 'SelfNormal', verbose = True,\n",
    "                            parallel = pool, smartStart = coef)\n",
    "maj.calibrateHyperParams()\n",
    "maj.validate()\n",
    "Xtest1 = np.hstack((Xtest,np.ones((len(Xtest),1))))\n",
    "rec = Xtest1.dot(maj.labeler.coef_).argmax(1)"
   ]
  },
  {
   "cell_type": "code",
   "execution_count": null,
   "metadata": {
    "collapsed": true
   },
   "outputs": [],
   "source": [
    "rec"
   ]
  },
  {
   "cell_type": "code",
   "execution_count": null,
   "metadata": {
    "collapsed": true
   },
   "outputs": [],
   "source": [
    "from sklearn.linear_model import LogisticRegression\n",
    "\n",
    "imputed_Q = LogisticRegression(multi_class = \"multinomial\",solver='lbfgs')\n",
    "# Impute probability of low/medium/high simulated dose\n",
    "imputed_Q.fit(subframe[trainind], disc_sim_dose[trainind])\n",
    "\n",
    "recentered_loss = discretized_loss - np.mean(discretized_loss)"
   ]
  },
  {
   "cell_type": "code",
   "execution_count": null,
   "metadata": {
    "collapsed": false
   },
   "outputs": [],
   "source": [
    "def off_pol_disc_given_disc_evaluation(policy, **params):\n",
    "    THRESH = 0.000001\n",
    "    y_out = params['y']; x = params['x_samp']; h = params['h']; Q = params['Q']; n = params['n']; t_lo = params['t_lo']; t_hi = params['t_hi']\n",
    "    imputed_Q = params['imputed_Q']\n",
    "    if ('y_samp' in params.keys()):\n",
    "        y_out = params['y_samp'].flatten()\n",
    "    if ('T_samp' in params.keys()):\n",
    "        T = params['T_samp'].flatten()\n",
    "    else:\n",
    "        T = params['T'].flatten()\n",
    "\n",
    "    t_lo = min(T)\n",
    "    t_hi = max(T)\n",
    "    \n",
    "    T_binned = discretize_dose(T)\n",
    "    bins = range(unique(T_binned)) + 1\n",
    "    bin_means = [T[T_binned == i].mean() for i in range(1, len(bins))]\n",
    "    tau_bins = discretize_dose(params['tau'])\n",
    "    loss = 0\n",
    "    treatment_overlap = np.where(np.equal(tau_bins, T_binned))[0]\n",
    "\n",
    "    for ind in treatment_overlap:\n",
    "        # use a discrete probability \n",
    "        loss += y_out[ind]/max(Q_i,THRESH)\n",
    "    n_overlap = len(treatment_overlap)\n",
    "    if n_overlap == 0:\n",
    "        print \"no overlap\"\n",
    "        return np.inf\n",
    "    return loss/(1.0*n_overlap)\n",
    "\n",
    "\n",
    "def oracle_eval_wrapper(beta, args): \n",
    "    data = dict(args)\n",
    "    INDS = data['inds']\n",
    "    t_lo = data['t_lo']; t_hi = data['t_hi']\n",
    "    tau = np.clip(np.dot(beta, data['x'].T) , t_lo, t_hi).flatten()\n",
    "    return np.mean( simulated_loss(tau,therapeut_dose[INDS],obs_INR[INDS]) )\n",
    "\n",
    "\n",
    "beta_d = np.random.rand(d)\n",
    "train_data['inds'] = trainind\n",
    "oracle_actual_oracle_res = minimize(oracle_eval_wrapper, x0 = beta_d, bounds = bnds , options={'disp':True,'gtol':1e-4}, args=train_data.items())  \n",
    "pickle.dump(oracle_actual_oracle_res.x, open('oracle_opt_beta', 'wb'))\n",
    "print oracle_actual_oracle_res"
   ]
  },
  {
   "cell_type": "markdown",
   "metadata": {},
   "source": [
    "## Histograms of performance"
   ]
  },
  {
   "cell_type": "code",
   "execution_count": 13,
   "metadata": {
    "collapsed": false
   },
   "outputs": [],
   "source": []
  },
  {
   "cell_type": "markdown",
   "metadata": {},
   "source": [
    "### hist results of giving mu_dose amount of treatment"
   ]
  },
  {
   "cell_type": "code",
   "execution_count": 18,
   "metadata": {
    "collapsed": false
   },
   "outputs": [
    {
     "data": {
      "image/png": "[encoded data removed]",
      "text/plain": [
       "<matplotlib.figure.Figure at 0x1ffa0438>"
      ]
     },
     "metadata": {},
     "output_type": "display_data"
    },
    {
     "data": {
      "image/png": "[encoded data removed]",
      "text/plain": [
       "<matplotlib.figure.Figure at 0x1ffa0a20>"
      ]
     },
     "metadata": {},
     "output_type": "display_data"
    }
   ],
   "source": [
    "\n",
    "plt.hist(np.abs(np.mean(sim_dose[trainind]) - therapeut_dose[trainind] ).T,range=[0,80],alpha = 0.5,label='best-in-class treatment policy')\n",
    "plt.hist(np.abs(sim_dose[trainind] - therapeut_dose[trainind]),range=[0,80],alpha = 0.5,color = 'g',label='original simulated dose' )\n",
    "plt.title(\"Histogram of training set performance of assigning mean of simulated dose\",y=1.08)\n",
    "plt.legend()\n",
    "plt.ylabel('frequencies')\n",
    "plt.ylim((0,1800))\n",
    "plt.xlabel('Absolute value of distance between recommended and therapeutic dose')\n",
    "plt.show()\n",
    "\n",
    "plt.hist(np.abs(np.mean(sim_dose[test_mask]) - therapeut_dose[test_mask] ).T,range=[0,80],alpha = 0.5,label='best-in-class treatment policy')\n",
    "plt.hist(np.abs(sim_dose[test_mask] - therapeut_dose[test_mask]),range=[0,80],alpha = 0.5,color = 'g',label='original simulated dose' )\n",
    "plt.title(\"Histogram of training set performance of assigning mean of simulated dose\",y=1.08)\n",
    "plt.legend()\n",
    "plt.ylabel('frequencies')\n",
    "plt.ylim((0,1800))\n",
    "plt.xlabel('Absolute value of distance between recommended and therapeutic dose')\n",
    "plt.show()"
   ]
  },
  {
   "cell_type": "code",
   "execution_count": 19,
   "metadata": {
    "collapsed": false
   },
   "outputs": [
    {
     "ename": "ValueError",
     "evalue": "operands could not be broadcast together with shapes (3171,24) (81,) ",
     "output_type": "error",
     "traceback": [
      "\u001b[0;31m---------------------------------------------------------------------------\u001b[0m",
      "\u001b[0;31mValueError\u001b[0m                                Traceback (most recent call last)",
      "\u001b[0;32m<ipython-input-19-3474e9310210>\u001b[0m in \u001b[0;36m<module>\u001b[0;34m()\u001b[0m\n\u001b[1;32m      1\u001b[0m \u001b[1;33m\u001b[0m\u001b[0m\n\u001b[0;32m----> 2\u001b[0;31m \u001b[0mplt\u001b[0m\u001b[1;33m.\u001b[0m\u001b[0mhist\u001b[0m\u001b[1;33m(\u001b[0m\u001b[0mnp\u001b[0m\u001b[1;33m.\u001b[0m\u001b[0mabs\u001b[0m\u001b[1;33m(\u001b[0m\u001b[0mnp\u001b[0m\u001b[1;33m.\u001b[0m\u001b[0masarray\u001b[0m\u001b[1;33m(\u001b[0m\u001b[1;33m(\u001b[0m\u001b[0mtrain\u001b[0m\u001b[1;33m*\u001b[0m\u001b[0mprescient_beta\u001b[0m\u001b[1;33m)\u001b[0m\u001b[1;33m.\u001b[0m\u001b[0mflatten\u001b[0m\u001b[1;33m(\u001b[0m\u001b[1;33m)\u001b[0m\u001b[1;33m)\u001b[0m \u001b[1;33m-\u001b[0m \u001b[0mtherapeut_dose\u001b[0m\u001b[1;33m[\u001b[0m\u001b[0mtrainind\u001b[0m\u001b[1;33m]\u001b[0m \u001b[1;33m)\u001b[0m\u001b[1;33m.\u001b[0m\u001b[0mT\u001b[0m\u001b[1;33m,\u001b[0m\u001b[0mrange\u001b[0m\u001b[1;33m=\u001b[0m\u001b[1;33m[\u001b[0m\u001b[1;36m0\u001b[0m\u001b[1;33m,\u001b[0m\u001b[1;36m80\u001b[0m\u001b[1;33m]\u001b[0m\u001b[1;33m,\u001b[0m\u001b[0malpha\u001b[0m \u001b[1;33m=\u001b[0m \u001b[1;36m0.5\u001b[0m\u001b[1;33m,\u001b[0m\u001b[0mlabel\u001b[0m\u001b[1;33m=\u001b[0m\u001b[1;34m'best-in-class treatment policy'\u001b[0m\u001b[1;33m)\u001b[0m\u001b[1;33m\u001b[0m\u001b[0m\n\u001b[0m\u001b[1;32m      3\u001b[0m \u001b[0mplt\u001b[0m\u001b[1;33m.\u001b[0m\u001b[0mhist\u001b[0m\u001b[1;33m(\u001b[0m\u001b[0mnp\u001b[0m\u001b[1;33m.\u001b[0m\u001b[0mabs\u001b[0m\u001b[1;33m(\u001b[0m\u001b[0msim_dose\u001b[0m\u001b[1;33m[\u001b[0m\u001b[0mtrainind\u001b[0m\u001b[1;33m]\u001b[0m \u001b[1;33m-\u001b[0m \u001b[0mtherapeut_dose\u001b[0m\u001b[1;33m[\u001b[0m\u001b[0mtrainind\u001b[0m\u001b[1;33m]\u001b[0m\u001b[1;33m)\u001b[0m\u001b[1;33m,\u001b[0m\u001b[0mrange\u001b[0m\u001b[1;33m=\u001b[0m\u001b[1;33m[\u001b[0m\u001b[1;36m0\u001b[0m\u001b[1;33m,\u001b[0m\u001b[1;36m80\u001b[0m\u001b[1;33m]\u001b[0m\u001b[1;33m,\u001b[0m\u001b[0malpha\u001b[0m \u001b[1;33m=\u001b[0m \u001b[1;36m0.5\u001b[0m\u001b[1;33m,\u001b[0m\u001b[0mcolor\u001b[0m \u001b[1;33m=\u001b[0m \u001b[1;34m'g'\u001b[0m\u001b[1;33m,\u001b[0m\u001b[0mlabel\u001b[0m\u001b[1;33m=\u001b[0m\u001b[1;34m'original simulated dose'\u001b[0m \u001b[1;33m)\u001b[0m\u001b[1;33m\u001b[0m\u001b[0m\n\u001b[1;32m      4\u001b[0m \u001b[0mplt\u001b[0m\u001b[1;33m.\u001b[0m\u001b[0mtitle\u001b[0m\u001b[1;33m(\u001b[0m\u001b[1;34m\"Histogram of training set performance of best-in-class treatment policy\"\u001b[0m\u001b[1;33m,\u001b[0m\u001b[0my\u001b[0m\u001b[1;33m=\u001b[0m\u001b[1;36m1.08\u001b[0m\u001b[1;33m)\u001b[0m\u001b[1;33m\u001b[0m\u001b[0m\n\u001b[1;32m      5\u001b[0m \u001b[0mplt\u001b[0m\u001b[1;33m.\u001b[0m\u001b[0mlegend\u001b[0m\u001b[1;33m(\u001b[0m\u001b[1;33m)\u001b[0m\u001b[1;33m\u001b[0m\u001b[0m\n",
      "\u001b[0;31mValueError\u001b[0m: operands could not be broadcast together with shapes (3171,24) (81,) "
     ]
    }
   ],
   "source": [
    "\n",
    "plt.hist(np.abs(np.asarray((train*prescient_beta).flatten()) - therapeut_dose[trainind] ).T,range=[0,80],alpha = 0.5,label='best-in-class treatment policy')\n",
    "plt.hist(np.abs(sim_dose[trainind] - therapeut_dose[trainind]),range=[0,80],alpha = 0.5,color = 'g',label='original simulated dose' )\n",
    "plt.title(\"Histogram of training set performance of best-in-class treatment policy\",y=1.08)\n",
    "plt.legend()\n",
    "plt.ylabel('frequencies')\n",
    "plt.ylim((0,1800))\n",
    "plt.xlabel('L1 deviation from 10% range of therapeutic dose')\n",
    "plt.show()"
   ]
  },
  {
   "cell_type": "code",
   "execution_count": null,
   "metadata": {
    "collapsed": true
   },
   "outputs": [],
   "source": [
    "np.ravel(prescient_beta).T"
   ]
  },
  {
   "cell_type": "markdown",
   "metadata": {},
   "source": [
    "## histogram results of off-policy evaluation"
   ]
  },
  {
   "cell_type": "code",
   "execution_count": 20,
   "metadata": {
    "collapsed": false
   },
   "outputs": [
    {
     "ename": "TypeError",
     "evalue": "plot_training_set_hist() takes exactly 6 arguments (5 given)",
     "output_type": "error",
     "traceback": [
      "\u001b[0;31m---------------------------------------------------------------------------\u001b[0m",
      "\u001b[0;31mTypeError\u001b[0m                                 Traceback (most recent call last)",
      "\u001b[0;32m<ipython-input-20-83ff1e25b67d>\u001b[0m in \u001b[0;36m<module>\u001b[0;34m()\u001b[0m\n\u001b[0;32m----> 1\u001b[0;31m \u001b[0mplot_training_set_hist\u001b[0m\u001b[1;33m(\u001b[0m\u001b[0mbest_off_pol_beta\u001b[0m\u001b[1;33m,\u001b[0m \u001b[0mX\u001b[0m\u001b[1;33m[\u001b[0m\u001b[0mtrainind\u001b[0m\u001b[1;33m,\u001b[0m\u001b[1;33m:\u001b[0m\u001b[1;33m]\u001b[0m\u001b[1;33m,\u001b[0m \u001b[0mtherapeut_dose\u001b[0m\u001b[1;33m[\u001b[0m\u001b[0mtrainind\u001b[0m\u001b[1;33m]\u001b[0m\u001b[1;33m,\u001b[0m \u001b[0msim_dose\u001b[0m\u001b[1;33m[\u001b[0m\u001b[0mtrainind\u001b[0m\u001b[1;33m]\u001b[0m\u001b[1;33m,\u001b[0m \u001b[1;34m\"Training set performance of empirically optimal treatment policy\"\u001b[0m\u001b[1;33m)\u001b[0m\u001b[1;33m\u001b[0m\u001b[0m\n\u001b[0m\u001b[1;32m      2\u001b[0m \u001b[1;33m\u001b[0m\u001b[0m\n\u001b[1;32m      3\u001b[0m \u001b[1;32mprint\u001b[0m \u001b[1;34m\"test set performance\"\u001b[0m\u001b[1;33m\u001b[0m\u001b[0m\n\u001b[1;32m      4\u001b[0m \u001b[0mplot_training_set_hist\u001b[0m\u001b[1;33m(\u001b[0m\u001b[0mbest_off_pol_beta\u001b[0m\u001b[1;33m,\u001b[0m \u001b[0mX\u001b[0m\u001b[1;33m[\u001b[0m\u001b[0mtest_mask\u001b[0m\u001b[1;33m,\u001b[0m\u001b[1;33m:\u001b[0m\u001b[1;33m]\u001b[0m\u001b[1;33m,\u001b[0m \u001b[0mtherapeut_dose\u001b[0m\u001b[1;33m[\u001b[0m\u001b[0mtest_mask\u001b[0m\u001b[1;33m]\u001b[0m\u001b[1;33m,\u001b[0m \u001b[0msim_dose\u001b[0m\u001b[1;33m[\u001b[0m\u001b[0mtest_mask\u001b[0m\u001b[1;33m]\u001b[0m\u001b[1;33m,\u001b[0m \u001b[1;34m\"Test set performance of empirically optimal treatment policy\"\u001b[0m\u001b[1;33m)\u001b[0m\u001b[1;33m\u001b[0m\u001b[0m\n",
      "\u001b[0;31mTypeError\u001b[0m: plot_training_set_hist() takes exactly 6 arguments (5 given)"
     ]
    }
   ],
   "source": [
    "plot_training_set_hist(best_off_pol_beta, X[trainind,:], therapeut_dose[trainind], sim_dose[trainind], \"Training set performance of empirically optimal treatment policy\")\n",
    "\n",
    "print \"test set performance\"\n",
    "plot_training_set_hist(best_off_pol_beta, X[test_mask,:], therapeut_dose[test_mask], sim_dose[test_mask], \"Test set performance of empirically optimal treatment policy\")"
   ]
  },
  {
   "cell_type": "code",
   "execution_count": null,
   "metadata": {
    "collapsed": true
   },
   "outputs": [],
   "source": [
    "plot_training_set_hist(prescient_beta, X[trainind,:], therapeut_dose[trainind], sim_dose[trainind], 'Training set performance of best-in-class treatment policy')\n",
    "\n",
    "print \"test set performance\"\n",
    "plot_training_set_hist(prescient_beta, X[test_mask,:], therapeut_dose[test_mask], sim_dose[test_mask], 'Test set performance of best-in-class treatment policy')"
   ]
  },
  {
   "cell_type": "code",
   "execution_count": null,
   "metadata": {
    "collapsed": true
   },
   "outputs": [],
   "source": [
    "print sum(np.abs(sim_dose[trainind] - therapeut_dose[trainind]))\n",
    "print sum(np.abs(np.dot(oracle_actual_oracle_res.x, train.T) - therapeut_dose[trainind]))\n",
    "print sum(np.abs(np.dot(oracle_res.x, train.T) - therapeut_dose[trainind]))"
   ]
  },
  {
   "cell_type": "code",
   "execution_count": null,
   "metadata": {
    "collapsed": true
   },
   "outputs": [],
   "source": [
    "np.asarray((np.dot(best_off_pol_beta, train.T) - sim_dose[trainind]))"
   ]
  },
  {
   "cell_type": "code",
   "execution_count": null,
   "metadata": {
    "collapsed": true
   },
   "outputs": [],
   "source": [
    "np.dot(best_off_pol_beta, train.T)\n",
    "\n",
    "plt.hist(np.abs(np.dot(best_off_pol_beta, train.T)  - therapeut_dose[trainind] ),range=[0,80],alpha = 0.5,label='empirically optimal treatment policy')\n",
    "plt.hist(np.abs(sim_dose[trainind] - therapeut_dose[trainind]),alpha = 0.5,range=[0,80],color = 'g',label='original simulated dose' )\n",
    "plt.legend()\n",
    "plt.title('Histogram of training set performance of empirically optimal treatment policy',y=1.08)\n",
    "plt.ylabel('frequencies')\n",
    "plt.ylim((0, 1800))\n",
    "plt.xlabel('L1 deviation from 10% range of therapeutic dose')\n",
    "plt.show()\n"
   ]
  },
  {
   "cell_type": "code",
   "execution_count": null,
   "metadata": {
    "collapsed": true
   },
   "outputs": [],
   "source": [
    "print test.shape\n",
    "plt.hist(np.abs(np.dot(oracle_actual_oracle_res.x, test.T) - therapeut_dose[test_mask]),range=[0,50],alpha = 0.7,color='r', label='best-in-class treatment policy')\n",
    "plt.hist(np.abs(np.dot(oracle_res.x, test.T) - therapeut_dose[test_mask]),range=[0,50],alpha = 0.7,color='g', label='empirically optimal treatment policy')\n",
    "plt.hist(np.abs(sim_dose[test_mask] - therapeut_dose[test_mask]),range=[0,50],alpha = 0.5, color = 'b' ,label = 'original simulated dose')\n",
    "plt.title(\"Histogram of out-of-sample test performance (deviation from therapeutic dose)\",y=1.08)\n",
    "plt.legend(loc='upper right')\n",
    "plt.ylabel('frequency')\n",
    "plt.xlabel('L1 deviation from 10% range of therapeutic dose')\n",
    "plt.show()"
   ]
  },
  {
   "cell_type": "markdown",
   "metadata": {},
   "source": [
    "## Direct method regress and compare "
   ]
  },
  {
   "cell_type": "code",
   "execution_count": null,
   "metadata": {
    "collapsed": true
   },
   "outputs": [],
   "source": [
    "plot_training_set_hist(dm_res.x, X_w_dose[trainind,:], therapeut_dose[trainind], sim_dose[trainind], 'Test set performance of direct method (random forest) policy optimization', 'random forest policy')\n",
    "plot_training_set_hist(dm_res.x, X_w_dose[test_mask,:], therapeut_dose[test_mask], sim_dose[test_mask], 'Test set performance of direct method (random forest) policy optimization', 'random forest policy')\n",
    "\n"
   ]
  },
  {
   "cell_type": "code",
   "execution_count": 34,
   "metadata": {
    "collapsed": false
   },
   "outputs": [
    {
     "name": "stdout",
     "output_type": "stream",
     "text": [
      "0\n",
      "100\n",
      "200\n",
      "300\n",
      "400\n",
      "500\n",
      "600\n",
      "700\n",
      "[ 43.27044025  43.77358491  44.77987421  22.64150943  20.12578616\n",
      "  27.16981132  64.40251572  27.67295597  28.17610063  23.64779874\n",
      "  20.12578616  26.66666667  16.10062893  38.74213836  40.25157233\n",
      "  25.66037736  23.64779874  21.13207547  38.74213836  18.11320755\n",
      "  39.24528302  38.74213836  35.72327044  30.6918239   51.82389937\n",
      "  16.10062893  22.13836478  16.10062893  21.13207547  39.24528302\n",
      "  31.19496855  39.24528302  38.74213836  35.22012579  38.74213836\n",
      "  24.65408805  38.74213836  36.22641509  28.17610063  44.27672956\n",
      "  27.67295597  44.77987421  22.13836478  22.64150943  33.20754717\n",
      "  47.79874214  39.24528302  25.1572327   17.10691824  16.10062893\n",
      "  33.20754717  36.22641509  38.74213836  16.10062893  40.25157233\n",
      "  30.6918239   43.77358491  55.34591195  44.27672956  23.64779874\n",
      "  23.64779874  20.12578616  16.10062893  16.60377358  33.20754717\n",
      "  29.68553459  22.64150943  42.7672956   43.27044025  52.83018868\n",
      "  16.10062893  42.26415094  34.71698113  28.17610063  27.67295597\n",
      "  17.10691824  20.12578616  28.17610063  16.10062893  16.60377358\n",
      "  11.06918239  25.66037736  19.11949686  16.10062893  12.0754717\n",
      "  16.10062893  16.10062893  12.57861635  15.09433962  21.13207547\n",
      "  20.12578616  27.67295597  14.59119497  20.62893082  10.56603774\n",
      "  23.14465409  27.67295597  25.1572327   14.59119497  24.1509434\n",
      "  14.59119497  18.11320755  17.61006289  32.70440252  23.14465409\n",
      "  10.56603774  24.1509434   16.60377358  24.1509434   16.10062893\n",
      "  14.59119497  16.60377358  19.11949686  27.16981132  23.14465409\n",
      "  15.59748428  19.62264151  16.10062893  16.60377358   9.55974843\n",
      "  16.60377358  13.58490566  31.69811321  16.10062893  14.59119497\n",
      "  15.09433962  16.10062893  21.13207547  12.0754717    9.55974843\n",
      "  12.57861635  16.10062893  13.58490566  12.57861635   8.55345912\n",
      "  14.59119497  17.61006289  25.66037736  13.58490566  24.1509434\n",
      "  20.12578616  12.57861635  29.68553459  12.57861635  15.59748428\n",
      "  16.10062893  15.59748428  12.57861635  15.09433962  14.59119497\n",
      "  16.10062893  16.60377358  10.56603774  19.62264151  14.59119497\n",
      "  12.0754717   19.62264151  21.63522013  14.59119497  23.14465409\n",
      "  13.58490566  19.62264151  15.09433962  12.57861635  17.10691824\n",
      "  15.59748428  17.10691824  24.65408805  10.56603774  31.69811321\n",
      "  30.6918239   11.57232704  23.14465409  16.60377358  15.59748428\n",
      "  23.14465409  14.59119497  16.10062893  18.6163522   11.06918239\n",
      "  15.59748428  10.56603774  23.14465409  16.60377358  20.12578616\n",
      "  18.6163522   29.68553459  11.06918239  24.1509434   44.27672956\n",
      "  17.10691824  19.62264151  10.56603774  20.62893082  12.57861635\n",
      "  11.06918239  16.10062893  16.60377358  23.14465409  15.09433962\n",
      "  17.61006289  12.57861635  27.16981132  16.60377358  12.57861635\n",
      "  29.68553459  16.60377358  16.10062893  29.68553459  10.56603774\n",
      "  17.61006289  16.10062893  25.66037736  20.12578616  25.66037736\n",
      "  25.1572327   16.10062893  13.08176101  21.13207547  16.10062893\n",
      "  16.10062893  24.1509434   13.58490566  24.1509434   25.1572327\n",
      "  23.14465409  26.16352201  14.59119497  12.57861635  22.64150943\n",
      "  53.83647799  12.57861635  12.57861635  18.11320755  19.11949686\n",
      "  20.62893082  24.1509434   24.65408805  24.1509434   15.09433962\n",
      "  21.13207547  25.66037736  24.1509434   35.72327044  27.67295597\n",
      "  18.11320755  43.27044025  43.27044025  11.06918239  35.72327044\n",
      "  42.26415094  31.19496855  40.25157233  22.13836478  39.24528302\n",
      "  38.23899371  28.17610063  21.13207547  19.11949686  38.74213836\n",
      "  42.7672956   27.16981132  40.25157233  31.69811321  40.25157233\n",
      "  40.25157233  35.72327044  42.26415094  45.28301887  32.20125786\n",
      "  33.20754717  20.12578616  38.74213836  34.21383648  31.19496855\n",
      "  31.19496855  39.74842767  40.25157233  46.28930818  23.14465409\n",
      "  43.77358491  39.74842767  41.25786164  44.77987421  48.30188679\n",
      "  17.10691824  38.74213836  23.64779874  31.19496855  38.23899371\n",
      "  32.70440252  43.27044025  42.26415094  42.7672956   25.66037736\n",
      "  42.26415094  27.67295597   9.55974843  39.24528302  42.26415094\n",
      "  24.1509434   31.19496855  40.25157233  27.67295597  33.20754717\n",
      "  24.1509434   20.12578616  23.64779874  27.67295597  36.22641509\n",
      "  51.32075472  43.77358491  42.26415094  16.10062893  38.74213836\n",
      "  32.70440252  17.61006289  33.71069182  37.73584906  40.25157233\n",
      "  27.67295597  36.22641509  40.25157233  17.61006289  37.2327044\n",
      "  18.6163522   40.25157233  25.66037736  29.68553459  14.59119497\n",
      "  24.65408805  17.61006289  44.77987421  24.65408805  38.74213836\n",
      "  33.71069182  40.25157233  55.34591195  40.25157233  38.74213836\n",
      "  37.73584906  21.63522013  37.2327044   35.72327044  35.72327044\n",
      "  32.20125786  40.25157233  21.13207547  44.27672956  43.27044025\n",
      "  40.25157233  36.22641509  23.14465409  28.67924528  11.06918239\n",
      "  33.71069182  39.24528302  17.61006289  35.22012579  23.14465409\n",
      "  23.64779874  38.74213836  37.73584906  35.72327044  48.30188679\n",
      "  44.27672956  37.73584906  44.27672956  25.1572327   40.25157233\n",
      "  23.64779874  37.73584906  27.67295597  22.64150943  33.20754717\n",
      "  33.71069182  30.6918239   46.79245283  40.25157233  34.71698113\n",
      "  27.67295597  36.72955975  25.66037736  40.25157233  39.74842767\n",
      "  25.66037736  25.1572327   28.17610063  31.69811321  23.64779874\n",
      "  33.20754717  40.25157233  28.17610063  29.68553459  44.27672956\n",
      "  34.71698113  18.11320755  20.12578616  32.70440252  31.69811321\n",
      "  16.10062893  32.70440252  33.20754717  33.20754717  23.14465409\n",
      "  35.22012579  20.62893082  34.71698113  29.68553459  30.6918239\n",
      "  34.71698113  32.70440252  25.66037736  23.14465409  25.1572327\n",
      "  16.10062893  34.71698113  32.20125786  31.69811321  27.16981132\n",
      "  33.20754717  29.68553459  32.70440252  23.14465409  25.1572327\n",
      "  33.20754717  29.68553459  20.62893082  16.10062893  32.70440252\n",
      "  32.70440252  16.60377358  33.20754717  32.70440252  23.14465409\n",
      "  32.70440252  18.11320755  18.11320755  35.22012579  39.74842767\n",
      "  33.20754717  15.59748428  44.27672956  56.35220126  39.24528302\n",
      "  53.83647799  27.16981132  44.27672956  27.67295597  54.33962264\n",
      "  33.20754717  44.27672956  38.74213836  12.0754717   23.64779874\n",
      "  48.80503145  44.27672956  23.14465409  31.19496855  42.26415094\n",
      "  27.67295597  44.27672956  25.66037736  25.66037736  27.67295597\n",
      "  19.62264151  29.68553459  15.59748428  29.68553459  44.77987421\n",
      "  47.29559748  29.18238994  35.22012579  33.20754717  39.24528302\n",
      "  27.67295597  36.22641509  39.24528302  25.66037736  25.1572327\n",
      "  44.77987421  20.12578616  27.67295597  35.72327044  21.13207547\n",
      "  35.22012579  29.68553459  44.27672956  16.10062893  21.13207547\n",
      "  15.09433962  37.73584906  28.17610063  27.67295597  42.26415094\n",
      "  12.57861635  23.14465409  42.26415094  18.11320755  33.71069182\n",
      "  44.27672956  53.83647799  44.27672956  18.11320755  35.72327044\n",
      "  43.27044025  41.25786164  34.21383648  60.37735849  42.26415094\n",
      "  16.10062893  46.79245283  44.27672956  41.76100629  31.69811321\n",
      "  29.68553459  43.27044025  38.74213836  37.2327044   27.67295597\n",
      "  37.2327044   30.6918239   40.25157233  34.71698113  31.19496855\n",
      "  35.72327044  44.27672956  28.17610063  29.68553459  34.21383648\n",
      "  38.23899371  28.67924528  27.67295597  39.74842767  32.20125786\n",
      "  40.25157233  43.77358491  39.24528302  44.27672956  34.21383648\n",
      "  27.67295597  44.27672956  48.80503145  43.27044025  33.71069182\n",
      "  40.25157233  36.22641509  39.74842767  30.18867925  38.23899371\n",
      "  30.18867925  38.23899371  35.72327044  41.25786164  38.74213836\n",
      "  42.7672956   27.16981132  51.82389937  35.72327044  42.7672956\n",
      "  29.18238994  16.10062893  48.80503145  32.70440252  21.13207547\n",
      "  43.77358491  20.12578616  44.27672956  29.68553459  32.20125786\n",
      "  18.11320755  20.62893082  43.77358491  30.6918239   36.22641509\n",
      "  37.2327044   27.67295597  29.68553459  42.26415094  38.23899371\n",
      "  31.19496855  17.10691824  32.20125786  27.67295597  33.71069182\n",
      "  16.10062893  20.12578616  61.3836478   22.64150943  35.22012579\n",
      "  20.12578616  44.27672956  41.25786164  44.27672956  33.71069182\n",
      "  39.74842767  16.10062893  25.66037736  19.11949686  54.33962264\n",
      "  54.33962264  39.24528302  40.25157233  27.67295597  29.68553459\n",
      "  32.70440252  32.70440252  34.21383648  44.27672956  31.69811321\n",
      "  18.11320755  27.67295597  44.27672956  43.27044025  35.22012579\n",
      "  18.11320755  44.27672956  38.74213836  12.57861635  32.20125786\n",
      "  30.18867925  29.68553459  34.71698113  35.72327044  43.77358491\n",
      "  23.64779874  24.1509434   32.70440252  40.25157233  44.27672956\n",
      "  27.67295597  35.22012579  29.68553459  45.78616352  27.16981132\n",
      "  35.22012579  33.71069182  47.29559748  34.21383648  30.18867925\n",
      "  17.10691824  33.71069182  23.64779874  33.71069182  33.20754717\n",
      "  33.20754717  23.64779874  35.72327044  44.27672956  33.71069182\n",
      "  49.3081761   20.12578616  35.22012579  26.16352201  44.27672956\n",
      "  33.20754717  34.71698113  26.16352201  33.71069182  18.11320755\n",
      "  33.71069182  33.71069182  35.22012579  41.76100629  22.64150943\n",
      "  37.2327044   37.2327044   27.67295597  35.22012579  37.2327044\n",
      "  24.65408805  28.17610063  35.72327044  38.74213836  38.74213836\n",
      "  24.1509434   17.61006289  17.61006289  30.6918239   38.74213836\n",
      "  28.17610063  20.12578616  38.74213836  32.20125786  24.1509434\n",
      "  21.13207547  15.09433962  27.16981132  43.27044025  20.12578616\n",
      "  21.13207547  37.2327044   37.73584906  14.59119497  16.10062893\n",
      "  34.71698113  38.74213836  24.1509434   37.73584906  39.74842767\n",
      "  25.1572327   55.34591195  37.73584906  56.85534591  37.2327044\n",
      "  38.74213836  38.74213836  24.1509434   17.10691824  43.27044025\n",
      "  32.20125786  35.22012579   9.55974843  22.13836478  29.18238994\n",
      "  37.73584906  25.66037736  36.72955975  44.27672956  39.24528302\n",
      "  25.66037736  58.86792453  27.67295597  42.26415094  43.77358491\n",
      "  30.6918239   39.24528302  29.18238994  24.1509434   33.71069182\n",
      "  39.74842767  33.71069182  41.76100629  27.67295597  38.23899371\n",
      "  35.22012579  25.66037736  38.74213836  30.6918239   27.67295597\n",
      "  51.82389937  36.72955975  28.67924528  47.79874214  28.17610063\n",
      "  44.27672956  44.27672956  25.66037736  46.28930818  43.77358491\n",
      "  25.66037736  25.66037736  20.12578616  33.20754717  41.25786164\n",
      "  27.16981132  41.25786164  43.77358491  42.26415094  27.67295597\n",
      "  28.67924528  44.27672956  28.17610063  38.74213836  44.27672956\n",
      "  28.67924528  31.69811321  51.82389937  44.27672956  54.33962264\n",
      "  42.26415094  43.77358491  36.72955975  34.21383648  27.67295597\n",
      "  44.27672956  37.2327044   27.16981132  27.16981132  51.82389937\n",
      "  43.77358491  28.67924528  27.16981132  25.66037736  51.82389937\n",
      "  39.74842767  48.30188679  44.27672956  51.82389937  36.22641509\n",
      "  44.27672956  38.74213836  33.71069182]\n"
     ]
    },
    {
     "data": {
      "image/png": "[encoded data removed]",
      "text/plain": [
       "<matplotlib.figure.Figure at 0x1e61f748>"
      ]
     },
     "metadata": {},
     "output_type": "display_data"
    }
   ],
   "source": [
    "ts = np.linspace(0,80,160)\n",
    "n_test = sum(test_mask)\n",
    "best_taus_for_x_test = np.zeros(n_test)\n",
    "for i in range(n_test): \n",
    "\n",
    "    drf_vals = [clf.predict( np.append(X_w_dose[test_mask,:][i,0:d-1], np.asarray(t)).reshape(1,-1)) for t in ts ]\n",
    "    best_tau = np.argmin(drf_vals)\n",
    "    best_taus_for_x_test[i] = ts[best_tau]\n",
    "    \n",
    "    if (i%100 == 0): \n",
    "        print i \n",
    "        plt.plot(ts, drf_vals)\n",
    "    \n",
    "print best_taus_for_x_test"
   ]
  },
  {
   "cell_type": "code",
   "execution_count": 37,
   "metadata": {
    "collapsed": false
   },
   "outputs": [
    {
     "name": "stdout",
     "output_type": "stream",
     "text": [
      "14.5911949686\n",
      "43.2704402516\n"
     ]
    },
    {
     "name": "stderr",
     "output_type": "stream",
     "text": [
      "C:\\Users\\paint_000\\Anaconda\\lib\\site-packages\\ipykernel\\__main__.py:10: DeprecationWarning: using a boolean instead of an integer will result in an error in the future\n"
     ]
    },
    {
     "data": {
      "image/png": "[encoded data removed]",
      "text/plain": [
       "<matplotlib.figure.Figure at 0x21bd7f28>"
      ]
     },
     "metadata": {},
     "output_type": "display_data"
    },
    {
     "data": {
      "image/png": "[encoded data removed]",
      "text/plain": [
       "<matplotlib.figure.Figure at 0x21af5d30>"
      ]
     },
     "metadata": {},
     "output_type": "display_data"
    }
   ],
   "source": [
    "\n",
    "plt.figure()\n",
    "i=100\n",
    "drf_vals = [clf.predict( np.append(X_w_dose[test_mask][i,0:d-1], np.asarray(t)).reshape(1,-1)) for t in ts ]\n",
    "plt.plot(ts,drf_vals)\n",
    "print ts[np.argmin(drf_vals)]\n",
    "plt.figure()\n",
    "\n",
    "i = 100 \n",
    "drf_vals = [clf.predict( np.append(X_w_dose[test_mask[i],0:d-1], np.asarray(t)).reshape(1,-1)) for t in ts ]\n",
    "plt.plot(ts,drf_vals)\n",
    "\n",
    "print ts[np.argmin(drf_vals)]"
   ]
  },
  {
   "cell_type": "markdown",
   "metadata": {},
   "source": [
    "## Off policy evaluation regress \\& compare "
   ]
  },
  {
   "cell_type": "code",
   "execution_count": null,
   "metadata": {
    "collapsed": true
   },
   "outputs": [],
   "source": [
    "ts = np.linspace(0,80,160)\n",
    "n_test = sum(test_mask)\n",
    "best_taus_for_x_test = np.zeros(n_test)\n",
    "for i in range(n_test): \n",
    "\n",
    "    drf_vals = [clf.predict( np.append(X_w_dose[test_mask,:][i,0:d-1], np.asarray(t)).reshape(1,-1)) for t in ts ]\n",
    "    best_tau = np.argmin(drf_vals)\n",
    "    best_taus_for_x_test[i] = ts[best_tau]\n",
    "    \n",
    "    if (i%100 == 0): \n",
    "        print i \n",
    "        plt.plot(ts, drf_vals)\n",
    "    \n",
    "print best_taus_for_x_test"
   ]
  },
  {
   "cell_type": "code",
   "execution_count": null,
   "metadata": {
    "collapsed": true
   },
   "outputs": [],
   "source": [
    "print np.median(np.abs(sim_dose[test_mask] - therapeut_dose[test_mask]))\n",
    "print np.median(np.abs(np.dot(oracle_actual_oracle_res.x, test.T) - therapeut_dose[test_mask]))\n",
    "print np.median(np.abs(np.dot(oracle_res.x, test.T) - therapeut_dose[test_mask]))"
   ]
  },
  {
   "cell_type": "markdown",
   "metadata": {
    "collapsed": false
   },
   "source": [
    "## boxplot of results "
   ]
  },
  {
   "cell_type": "code",
   "execution_count": 78,
   "metadata": {
    "collapsed": false
   },
   "outputs": [
    {
     "name": "stdout",
     "output_type": "stream",
     "text": [
      "[u'seaborn-darkgrid', u'seaborn-notebook', u'classic', u'seaborn-ticks', u'grayscale', u'bmh', u'seaborn-talk', u'dark_background', u'ggplot', u'fivethirtyeight', u'seaborn-colorblind', u'seaborn-deep', u'seaborn-whitegrid', u'seaborn-bright', u'seaborn-poster', u'seaborn-muted', u'seaborn-paper', u'seaborn-white', u'seaborn-pastel', u'seaborn-dark', u'seaborn-dark-palette']\n"
     ]
    }
   ],
   "source": [
    "print(plt.style.available)\n",
    "\n",
    "plt.style.use('seaborn-notebook')"
   ]
  },
  {
   "cell_type": "code",
   "execution_count": 25,
   "metadata": {
    "collapsed": false,
    "scrolled": true
   },
   "outputs": [
    {
     "data": {
      "text/plain": [
       "<matplotlib.figure.Figure at 0x1da9dcc0>"
      ]
     },
     "metadata": {},
     "output_type": "display_data"
    },
    {
     "data": {
      "image/png": "[encoded data removed]",
      "text/plain": [
       "<matplotlib.figure.Figure at 0x1d64c400>"
      ]
     },
     "metadata": {},
     "output_type": "display_data"
    },
    {
     "data": {
      "text/plain": [
       "{u'bodies': [<matplotlib.collections.PolyCollection at 0x1d515a90>,\n",
       "  <matplotlib.collections.PolyCollection at 0x45a57b8>,\n",
       "  <matplotlib.collections.PolyCollection at 0x45a5668>,\n",
       "  <matplotlib.collections.PolyCollection at 0x45a5630>,\n",
       "  <matplotlib.collections.PolyCollection at 0x1d4be198>],\n",
       " u'cbars': <matplotlib.collections.LineCollection at 0x1d239b70>,\n",
       " u'cmaxes': <matplotlib.collections.LineCollection at 0x1d5155c0>,\n",
       " u'cmins': <matplotlib.collections.LineCollection at 0x1d4bee10>}"
      ]
     },
     "execution_count": 25,
     "metadata": {},
     "output_type": "execute_result"
    },
    {
     "data": {
      "image/png": "[encoded data removed]",
      "text/plain": [
       "<matplotlib.figure.Figure at 0x1d246668>"
      ]
     },
     "metadata": {},
     "output_type": "display_data"
    }
   ],
   "source": [
    "%matplotlib inline\n",
    "plt.style.use('seaborn-white')\n",
    "plt.figure()\n",
    "\n",
    "\n",
    "# prescient_norm = np.abs(np.dot(prescient_beta, X[test_mask,:].T)  - therapeut_dose[test_mask] )\n",
    "# off_pol_norm = np.abs(np.dot(best_off_pol_beta, X[test_mask,:].T)  - therapeut_dose[test_mask] )\n",
    "# mean_dose_pol_norm = np.abs(np.mean(sim_dose[test_mask]) - therapeut_dose[test_mask] )\n",
    "# dm_norms = np.abs(np.dot(dm_res.x, X_w_dose[test_mask,:].T)  - therapeut_dose[test_mask] )\n",
    "# original = np.abs(sim_dose[test_mask] - therapeut_dose[test_mask])\n",
    "\n",
    "prescient_norm =(np.dot(prescient_beta, X[test_mask,:].T)  - therapeut_dose[test_mask] )\n",
    "off_pol_norm = (np.dot(best_off_pol_beta, X[test_mask,:].T)  - therapeut_dose[test_mask] )\n",
    "mean_dose_pol_norm = (np.mean(sim_dose[test_mask]) - therapeut_dose[test_mask] )\n",
    "dm_norms = (best_taus_for_x_test  - therapeut_dose[test_mask] )\n",
    "original = (sim_dose[test_mask] - therapeut_dose[test_mask])\n",
    "\n",
    "\n",
    "norms = [prescient_norm, off_pol_norm, dm_norms, mean_dose_pol_norm, original]\n",
    "\n",
    "plt.figure(figsize=(4.5,3))\n",
    "plt.ylabel('Differences btn. policy and therapeutic dose')\n",
    "flierprops = dict(linestyle='-',color='black')\n",
    "\n",
    "# prefer to turn off mean line\n",
    "bp_dict = plt.boxplot(norms,sym='', showmeans = False, meanline=False)\n",
    "\n",
    "for whisker in bp_dict['whiskers']:\n",
    "    whisker.set(color='#000000',linestyle='solid')\n",
    "for box in bp_dict['boxes']:\n",
    "    # change outline color\n",
    "    box.set( color='#000000')\n",
    "for ind,line in enumerate(bp_dict['medians']):\n",
    "    # get position data for median line\n",
    "    x, y = line.get_xydata()[1] # top of median line\n",
    "    if ind == 4: \n",
    "        plt.text(x-0.18, y+4, '%.1f' % y, horizontalalignment='center') # draw above, centered\n",
    "    # overlay median value\n",
    "    else:\n",
    "        plt.text(x+0.2, y+4, '%.1f' % y, horizontalalignment='center') # draw above, centered\n",
    "\n",
    "top = 60\n",
    "bottom = -60\n",
    "plt.ylim(bottom, top)\n",
    "# plt.title('Boxplot of distances between policy-recommended doses and therapeutic doses',y = 1.2)\n",
    "plt.axhline(y=np.median(mean_dose_pol_norm), xmin=0,xmax=1,color='g', ls='dashdot',linewidth=0.7)\n",
    "plt.axhline(y=0, xmin=0,xmax=1,color='g',alpha=0.3, ls='dashed',linewidth=0.7)\n",
    "plt.xticks([1, 2, 3,4,5], ['Best-In-Class', 'Continuous OPE', 'DM (Random Forest R&C)', 'Mean dose', 'Original doses'])\n",
    "plt.xticks(rotation=25)\n",
    "plt.show()\n",
    "\n",
    "plt.violinplot(norms)\n",
    "\n"
   ]
  },
  {
   "cell_type": "code",
   "execution_count": 95,
   "metadata": {
    "collapsed": false
   },
   "outputs": [
    {
     "data": {
      "text/plain": [
       "array([  0.00000000e+00,   0.00000000e+00,   0.00000000e+00,\n",
       "         0.00000000e+00,   0.00000000e+00,   0.00000000e+00,\n",
       "         4.52237224e+01,   1.40693419e-01,   5.41198528e-02,\n",
       "         3.84589475e-02,   0.00000000e+00,   0.00000000e+00,\n",
       "         0.00000000e+00,   0.00000000e+00,   0.00000000e+00,\n",
       "         0.00000000e+00,   0.00000000e+00,   0.00000000e+00,\n",
       "         0.00000000e+00,   0.00000000e+00,   0.00000000e+00,\n",
       "         0.00000000e+00,   0.00000000e+00,   0.00000000e+00,\n",
       "         0.00000000e+00,   0.00000000e+00,   0.00000000e+00,\n",
       "         0.00000000e+00,   0.00000000e+00,   0.00000000e+00,\n",
       "         0.00000000e+00,   0.00000000e+00,   0.00000000e+00,\n",
       "         0.00000000e+00,   0.00000000e+00,   2.22407643e+01,\n",
       "         0.00000000e+00,   3.51258428e+00,   0.00000000e+00,\n",
       "         7.20597022e+01,   0.00000000e+00,   0.00000000e+00,\n",
       "         0.00000000e+00,   0.00000000e+00,   4.15588041e+01,\n",
       "         0.00000000e+00,   5.91847734e+01,   0.00000000e+00,\n",
       "         0.00000000e+00,   0.00000000e+00,   0.00000000e+00,\n",
       "         8.92863627e+01,   0.00000000e+00,   0.00000000e+00,\n",
       "         0.00000000e+00,   0.00000000e+00,   0.00000000e+00,\n",
       "         0.00000000e+00,   0.00000000e+00,   1.14990322e-01,\n",
       "         0.00000000e+00,   0.00000000e+00,   0.00000000e+00,\n",
       "         0.00000000e+00,   0.00000000e+00,   0.00000000e+00,\n",
       "         0.00000000e+00,   0.00000000e+00,   0.00000000e+00,\n",
       "         0.00000000e+00,   0.00000000e+00,   0.00000000e+00,\n",
       "         0.00000000e+00,   0.00000000e+00,   0.00000000e+00,\n",
       "         0.00000000e+00,   0.00000000e+00,   0.00000000e+00,\n",
       "         0.00000000e+00,   0.00000000e+00,   2.30327152e+00])"
      ]
     },
     "execution_count": 95,
     "metadata": {},
     "output_type": "execute_result"
    }
   ],
   "source": [
    "best_off_pol_beta\n"
   ]
  },
  {
   "cell_type": "code",
   "execution_count": 28,
   "metadata": {
    "collapsed": false
   },
   "outputs": [
    {
     "name": "stdout",
     "output_type": "stream",
     "text": [
      "medians\n",
      "-0.315987717471\n",
      "-2.1888248526\n",
      "5.10023816108\n",
      "-0.786163522013\n",
      "1.62006993519\n",
      "means\n",
      "-2.14812783534\n",
      "-4.13316674065\n",
      "0.492798060197\n",
      "-2.425105681\n",
      "0.492798060197\n",
      "sum of absolute values of differences\n",
      "7322.33032243\n",
      "10352.858741\n",
      "10398.3378676\n",
      "10835.3081761\n",
      "12059.3834326\n",
      "standard deviations \n",
      "15.8304480498\n",
      "19.8645306839\n",
      "19.2959552669\n",
      "20.3006901124\n",
      "21.3480834224\n"
     ]
    }
   ],
   "source": [
    "print \"medians\"\n",
    "print np.median(prescient_norm)\n",
    "print np.median(off_pol_norm )\n",
    "print np.median(mean_dose_pol_norm )\n",
    "print np.median(dm_norms)\n",
    "print np.median(original)\n",
    "\n",
    "print \"means\"\n",
    "print_f_(np.mean)\n",
    "\n",
    "def print_f_(func): \n",
    "    print func(prescient_norm)\n",
    "    print func(off_pol_norm )\n",
    "    print func(mean_dose_pol_norm )\n",
    "    print func(dm_norms)\n",
    "    print func(original)\n",
    "               \n",
    "               \n",
    "print \"sum of absolute values of differences\"\n",
    "print_f_(lambda x: sum(abs(x)))\n",
    "print \"standard deviations \"\n",
    "print_f_(np.std)"
   ]
  },
  {
   "cell_type": "code",
   "execution_count": 54,
   "metadata": {
    "collapsed": false
   },
   "outputs": [
    {
     "ename": "NameError",
     "evalue": "name 'off_pol_dose_test' is not defined",
     "output_type": "error",
     "traceback": [
      "\u001b[0;31m---------------------------------------------------------------------------\u001b[0m",
      "\u001b[0;31mNameError\u001b[0m                                 Traceback (most recent call last)",
      "\u001b[0;32m<ipython-input-54-4eee0397ffc8>\u001b[0m in \u001b[0;36m<module>\u001b[0;34m()\u001b[0m\n\u001b[0;32m----> 1\u001b[0;31m \u001b[0moff_pol_dose_test\u001b[0m\u001b[1;33m\u001b[0m\u001b[0m\n\u001b[0m\u001b[1;32m      2\u001b[0m \u001b[0mplt\u001b[0m\u001b[1;33m.\u001b[0m\u001b[0mscatter\u001b[0m\u001b[1;33m(\u001b[0m\u001b[0mX\u001b[0m\u001b[1;33m[\u001b[0m\u001b[0mtest_mask\u001b[0m\u001b[1;33m]\u001b[0m\u001b[1;33m[\u001b[0m\u001b[1;33m:\u001b[0m\u001b[1;33m,\u001b[0m\u001b[1;36m9\u001b[0m\u001b[1;33m]\u001b[0m\u001b[1;33m,\u001b[0m \u001b[0mbest_taus_for_x_test\u001b[0m\u001b[1;33m,\u001b[0m\u001b[0mcolor\u001b[0m\u001b[1;33m=\u001b[0m\u001b[1;34m'r'\u001b[0m\u001b[1;33m,\u001b[0m\u001b[0malpha\u001b[0m\u001b[1;33m=\u001b[0m\u001b[1;36m0.3\u001b[0m\u001b[1;33m,\u001b[0m\u001b[0mlabel\u001b[0m\u001b[1;33m=\u001b[0m\u001b[1;34m'treatment dose from DM'\u001b[0m\u001b[1;33m)\u001b[0m\u001b[1;33m\u001b[0m\u001b[0m\n\u001b[1;32m      3\u001b[0m \u001b[0mplt\u001b[0m\u001b[1;33m.\u001b[0m\u001b[0mscatter\u001b[0m\u001b[1;33m(\u001b[0m\u001b[0mX\u001b[0m\u001b[1;33m[\u001b[0m\u001b[0mtest_mask\u001b[0m\u001b[1;33m]\u001b[0m\u001b[1;33m[\u001b[0m\u001b[1;33m:\u001b[0m\u001b[1;33m,\u001b[0m\u001b[1;36m9\u001b[0m\u001b[1;33m]\u001b[0m\u001b[1;33m,\u001b[0m \u001b[0mnp\u001b[0m\u001b[1;33m.\u001b[0m\u001b[0mdot\u001b[0m\u001b[1;33m(\u001b[0m\u001b[0mbest_off_pol_beta\u001b[0m\u001b[1;33m,\u001b[0m \u001b[0mX\u001b[0m\u001b[1;33m[\u001b[0m\u001b[0mtest_mask\u001b[0m\u001b[1;33m,\u001b[0m\u001b[1;33m:\u001b[0m\u001b[1;33m]\u001b[0m\u001b[1;33m.\u001b[0m\u001b[0mT\u001b[0m\u001b[1;33m)\u001b[0m\u001b[1;33m,\u001b[0m\u001b[0mcolor\u001b[0m\u001b[1;33m=\u001b[0m\u001b[1;34m'g'\u001b[0m\u001b[1;33m,\u001b[0m\u001b[0malpha\u001b[0m\u001b[1;33m=\u001b[0m\u001b[1;36m0.3\u001b[0m \u001b[1;33m,\u001b[0m \u001b[0mlabel\u001b[0m\u001b[1;33m=\u001b[0m\u001b[1;34m'treatment dose from OPE'\u001b[0m\u001b[1;33m)\u001b[0m\u001b[1;33m\u001b[0m\u001b[0m\n\u001b[1;32m      4\u001b[0m \u001b[0mplt\u001b[0m\u001b[1;33m.\u001b[0m\u001b[0mscatter\u001b[0m\u001b[1;33m(\u001b[0m\u001b[0mX\u001b[0m\u001b[1;33m[\u001b[0m\u001b[0mtest_mask\u001b[0m\u001b[1;33m]\u001b[0m\u001b[1;33m[\u001b[0m\u001b[1;33m:\u001b[0m\u001b[1;33m,\u001b[0m\u001b[1;36m9\u001b[0m\u001b[1;33m]\u001b[0m\u001b[1;33m,\u001b[0m \u001b[0mtherapeut_dose\u001b[0m\u001b[1;33m[\u001b[0m\u001b[0mtest_mask\u001b[0m\u001b[1;33m]\u001b[0m\u001b[1;33m,\u001b[0m\u001b[0mcolor\u001b[0m\u001b[1;33m=\u001b[0m\u001b[1;34m'b'\u001b[0m\u001b[1;33m,\u001b[0m\u001b[0malpha\u001b[0m\u001b[1;33m=\u001b[0m\u001b[1;36m0.1\u001b[0m \u001b[1;33m,\u001b[0m \u001b[0mlabel\u001b[0m\u001b[1;33m=\u001b[0m\u001b[1;34m'therapeutic dose'\u001b[0m\u001b[1;33m)\u001b[0m\u001b[1;33m\u001b[0m\u001b[0m\n\u001b[1;32m      5\u001b[0m \u001b[1;33m\u001b[0m\u001b[0m\n",
      "\u001b[0;31mNameError\u001b[0m: name 'off_pol_dose_test' is not defined"
     ]
    }
   ],
   "source": [
    "off_pol_dose_test = np.dot(best_off_pol_beta, X[test_mask,:].T\n",
    "plt.scatter(X[test_mask][:,9], best_taus_for_x_test,color='r',alpha=0.3,label='treatment dose from DM')\n",
    "plt.scatter(X[test_mask][:,9], np.dot(best_off_pol_beta, X[test_mask,:].T),color='g',alpha=0.3 , label='treatment dose from OPE')\n",
    "plt.scatter(X[test_mask][:,9], therapeut_dose[test_mask],color='b',alpha=0.1 , label='therapeutic dose')\n",
    "\n",
    "\n",
    "plt.xlabel(\"BMI\")\n",
    "plt.ylabel('dose')\n",
    "plt.legend()"
   ]
  },
  {
   "cell_type": "markdown",
   "metadata": {},
   "source": [
    "# Doubly Robust estimator from DM, IPW "
   ]
  },
  {
   "cell_type": "code",
   "execution_count": null,
   "metadata": {
    "collapsed": true
   },
   "outputs": [],
   "source": [
    "from copy import deepcopy \n",
    "def DR_wrapper(beta, args): \n",
    "    data = dict(args)\n",
    "    INDS = data['inds']\n",
    "    t_lo = data['t_lo']; t_hi = data['t_hi']\n",
    "    clf = train_data['rf']\n",
    "    # train beta which gets best treatment policy for direct estimator \n",
    "    tau = np.clip(np.dot(beta, data['x'][INDS,:].T), t_lo, t_hi).flatten()\n",
    "    # concatenate 1st (d) colunns of full X \n",
    "    counterfactual_X = np.column_stack((data['x_full'][INDS,0:-1], tau))\n",
    "    reg_lambda = 3\n",
    "    data = dict(args)\n",
    "    # evaluate rhat(\\tau_i, x_i) \n",
    "    dm = np.mean( clf.predict( counterfactual_X ))\n",
    "    t_lo = data['t_lo']; t_hi = data['t_hi']\n",
    "    tau = np.clip(np.dot(beta, data['x'].T) , t_lo, t_hi).flatten()\n",
    "    data['tau'] = tau\n",
    "    \n",
    "    # evaluate rhat(t_i, x_i) on observed treatments\n",
    "    T_X = np.column_stack((data['x_full'][INDS,0:-1], sim_dose[INDS]))\n",
    "    old_y = data_copy['y_samp']\n",
    "    data['y_samp'] = data['y_samp'] - clf.predict( T_X )\n",
    "    ipw = off_policy_evaluation(**data)\n",
    "    data['y_samp'] = old_y \n",
    "    \n",
    "    return 100*(dm + ipw) \n",
    "\n",
    "d = X.shape[1]\n",
    "beta_d = np.random.rand(d)\n",
    "train_data['inds'] = trainind\n",
    "\n",
    "bounds = [(0, np.mean(therapeut_dose)/(np.sqrt(d)*np.mean(X_w_dose[:,i]))) for i in range(d) ]\n",
    "bnds = tuple(tuple(x) for x in bounds)\n",
    "\n",
    "oracle_DR_res = minimize(DR_wrapper, x0 = beta_d, bounds = bnds , options={'disp':True,'gtol':1e-3}, args=train_data.items())  \n",
    "pickle.dump(DR_wrapper.x, open('oracle_DR_beta', 'wb'))\n",
    "print oracle_DR_res"
   ]
  }
 ],
 "metadata": {
  "anaconda-cloud": {},
  "kernelspec": {
   "display_name": "Python 2",
   "language": "python",
   "name": "python2"
  },
  "language_info": {
   "codemirror_mode": {
    "name": "ipython",
    "version": 2
   },
   "file_extension": ".py",
   "mimetype": "text/x-python",
   "name": "python",
   "nbconvert_exporter": "python",
   "pygments_lexer": "ipython2",
   "version": "2.7.13"
  }
 },
 "nbformat": 4,
 "nbformat_minor": 2
}
