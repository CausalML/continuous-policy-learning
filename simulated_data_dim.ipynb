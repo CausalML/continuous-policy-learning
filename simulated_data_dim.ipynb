{
 "cells": [
  {
   "cell_type": "code",
   "execution_count": 1,
   "metadata": {},
   "outputs": [
    {
     "name": "stderr",
     "output_type": "stream",
     "text": [
      "/Users/az/anaconda/lib/python2.7/site-packages/sklearn/cross_validation.py:44: DeprecationWarning: This module was deprecated in version 0.18 in favor of the model_selection module into which all the refactored classes and functions are moved. Also note that the interface of the new CV iterators are different from that of this module. This module will be removed in 0.20.\n",
      "  \"This module will be removed in 0.20.\", DeprecationWarning)\n",
      "/Users/az/anaconda/lib/python2.7/site-packages/sklearn/grid_search.py:43: DeprecationWarning: This module was deprecated in version 0.18 in favor of the model_selection module into which all the refactored classes and functions are moved. This module will be removed in 0.20.\n",
      "  DeprecationWarning)\n"
     ]
    },
    {
     "name": "stdout",
     "output_type": "stream",
     "text": [
      "[2.43349633 1.34400588 1.36532069 2.50839624 2.21611601 0.74632222\n",
      " 1.58068352 1.8676711  1.96042976 3.41867412]\n",
      "(2000, 10)\n",
      "xshape\n",
      "81.11497247772766\n"
     ]
    },
    {
     "data": {
      "text/plain": [
       "(array([298., 161., 139., 135., 126., 136., 141., 142., 211., 511.]),\n",
       " array([3.53811817e-08, 9.97357913e-03, 1.99471229e-02, 2.99206666e-02,\n",
       "        3.98942104e-02, 4.98677541e-02, 5.98412979e-02, 6.98148417e-02,\n",
       "        7.97883854e-02, 8.97619292e-02, 9.97354729e-02]),\n",
       " <a list of 10 Patch objects>)"
      ]
     },
     "execution_count": 1,
     "metadata": {},
     "output_type": "execute_result"
    },
    {
     "data": {
      "image/png": "[encoded data removed]",
      "text/plain": [
       "<matplotlib.figure.Figure at 0x118c5b990>"
      ]
     },
     "metadata": {},
     "output_type": "display_data"
    },
    {
     "data": {
      "image/png": "[encoded data removed]",
      "text/plain": [
       "<matplotlib.figure.Figure at 0x10f900590>"
      ]
     },
     "metadata": {},
     "output_type": "display_data"
    },
    {
     "data": {
      "image/png": "[encoded data removed]",
      "text/plain": [
       "<matplotlib.figure.Figure at 0x1207aef50>"
      ]
     },
     "metadata": {},
     "output_type": "display_data"
    }
   ],
   "source": [
    "%matplotlib inline \n",
    "import matplotlib.pyplot as plt\n",
    "import numpy as np \n",
    "import cvxpy as cvx \n",
    "# from gurobipy import * \n",
    "from off_pol_eval_functions import * \n",
    "\n",
    "\n",
    "from scipy.optimize import minimize\n",
    "import datetime as datetime\n",
    "import pickle\n",
    "from matplotlib.backends.backend_pdf import PdfPages\n",
    "from matplotlib import collections as matcoll\n",
    "from sklearn import svm\n",
    "import sys\n",
    "from sklearn.linear_model import LinearRegression\n",
    "from scipy.stats import norm\n",
    "\n",
    "np.random.seed(2)\n",
    "def multipage(filename, figs=None, dpi=200):\n",
    "    pp = PdfPages(filename)\n",
    "    if figs is None:\n",
    "        figs = [plt.figure(n) for n in plt.get_fignums()]\n",
    "    for fig in figs:\n",
    "        fig.savefig(pp, format='pdf')\n",
    "    pp.close()\n",
    "\n",
    "d = 10  # dimension of x \n",
    "n = 2000; \n",
    "mu_x = np.zeros(d); \n",
    "sigma_x = np.random.normal(size = (d,1))\n",
    "sigma_x += np.abs(np.min(sigma_x))+0.5\n",
    "sigma_x = np.multiply(sigma_x, np.eye(d))\n",
    "sigma_x /= 2# normalize covariances a little bit \n",
    "\n",
    "W = 1.5 #treatment effect\n",
    "# interact_x = 2\n",
    "white_noise_coef = 0.1\n",
    "\n",
    "\n",
    "# generate propensity model \n",
    "def real_prop(x, beta_prop): \n",
    "    T_SIG = 5\n",
    "    if len(x.shape) > 1: \n",
    "        n= x.shape[1]\n",
    "    else:\n",
    "        n= len(x)\n",
    "    return np.dot(x, beta_prop) + np.random.normal(size = (n,1))*T_SIG\n",
    "    # T is normally distributed conditional on covariates \n",
    "    \n",
    "# coefficient of treatment effect\n",
    "beta_cons = -5\n",
    "beta_x = np.random.normal(size = (d,1))\n",
    "# interaction term with treatment \n",
    "beta_x_T = np.random.normal(size = (d,1))*1.5\n",
    "\n",
    "# sparse interaction terms \n",
    "sparse_entries = np.random.choice(range(d),size =  int(round(0.7*d)),replace = False)\n",
    "beta_x_T[sparse_entries] = 0     \n",
    "sparse_entries = np.random.choice(range(d),size =  int(round(0.35*d)),replace = False)\n",
    "beta_x[sparse_entries] = 0  \n",
    "\n",
    "FREQ = 20 \n",
    "beta_x_quad_T = np.random.normal(size = (d,1))\n",
    "sparse_entries = np.random.choice(range(d),size =  int(round(0.65*d)),replace = False)\n",
    "beta_x_quad_T[sparse_entries] = 0\n",
    "\n",
    "TRUE_PROP_BETA = np.asarray(beta_x_quad_T + np.random.normal( loc= np.ones((d,1))*2, size = (d,1))).flatten()\n",
    "print TRUE_PROP_BETA\n",
    "def real_risk(T, beta_cons, beta_x, beta_x_T, beta_x_quad_T, x):    \n",
    "    n = len(T); risk = np.zeros(n)\n",
    "    if np.isscalar(T):\n",
    "        risk = T*beta_cons + np.dot(beta_x.T, x) + np.dot(beta_x_T.T, x*T) + (T-np.dot(beta_x_quad_T.T,x))**2\n",
    "    else: \n",
    "        for i in range(len(T)): \n",
    "            risk[i] = T[i]*beta_cons + np.dot(beta_x.T, x[i,:]) + np.dot(beta_x_T.T, x[i,:]*T[i]) + (T[i]-np.dot(beta_x_quad_T.T,x[i,:]))**2#+ np.dot(beta_x_quad_T.T, (x[i,:]**2)*T[i]) + np.dot(beta_x_high_freq.T, np.sin(x[i,0:HIGH_FREQ_N]*FREQ)*T[i])\n",
    "    return risk\n",
    "\n",
    "T_SIG = 4\n",
    "def generate_data(mu_x, sigma_x_mat, n, beta_cons, beta_x, beta_x_T): \n",
    "#     x = np.random.normal(mu_x, sigma_x, size = n)\n",
    "    # generate n datapoints from the same multivariate normal distribution\n",
    "    x = np.random.multivariate_normal(mean = mu_x, cov= sigma_x_mat, size = n ) \n",
    "    print x.shape \n",
    "    print \"xshape\"\n",
    "    T = np.random.normal(0, T_SIG, n) + np.dot(x, TRUE_PROP_BETA) + 2*x[:,1] + 4*x[:,2] - 2*x[:,3]\n",
    "    true_resid = T - np.dot(x, TRUE_PROP_BETA)\n",
    "    true_Q = norm.pdf( T - np.dot(x, TRUE_PROP_BETA), loc = 0, scale = T_SIG )\n",
    "    y_sigma = 0.5\n",
    "    white_noise_coef = 5\n",
    "    \n",
    "    clf = LinearRegression(); clf.fit(x, T)\n",
    "    y_hat = clf.predict(x)\n",
    "    Y = np.zeros(n)\n",
    "    for i in range(n): \n",
    "        Y[i] = T[i]*beta_cons + np.dot(beta_x.T, x[i,:]) + T[i]*np.dot(beta_x_T.T, x[i,:]) + (T[i] - np.dot(beta_x_quad_T.T,x[i,:]))**2 #+ np.dot(beta_x_quad_T.T, (x[i,:]**2)*T[i]) + np.dot(beta_x_high_freq.T, np.sin(x[i,0:HIGH_FREQ_N]*FREQ)*T[i])\n",
    "    Y += np.random.multivariate_normal(mean = np.zeros(n), cov=white_noise_coef * np.eye(n))\n",
    "    # get pdf from residuals \n",
    "    resid = Y - y_hat\n",
    "    # get norm pdf \n",
    "    Q = norm.pdf(resid, loc = np.mean(resid), scale=np.std(resid))\n",
    "    T = T.flatten()\n",
    "    return [x, T, Y, true_Q, clf]\n",
    "\n",
    "[x_full, T_full, Y_full, true_Q_full, clf] = generate_data(mu_x, sigma_x, n, beta_cons, beta_x, beta_x_T)\n",
    "\n",
    "#compute real risk \n",
    "print np.mean( real_risk(T_full, beta_cons, beta_x, beta_x_T, beta_x_quad_T, x_full))\n",
    "\n",
    "plt.hist(Y_full); plt.title('Y')\n",
    "plt.figure()\n",
    "plt.title('T')\n",
    "plt.hist(T_full)\n",
    "Q = true_Q_full\n",
    "plt.figure()\n",
    "plt.hist(true_Q_full)\n"
   ]
  },
  {
   "cell_type": "markdown",
   "metadata": {},
   "source": [
    "## In this setting the optimal treatment is similar to the observed treatment policy. "
   ]
  },
  {
   "cell_type": "code",
   "execution_count": 2,
   "metadata": {},
   "outputs": [
    {
     "data": {
      "text/plain": [
       "(array([198., 131., 119., 113., 116., 129., 132., 131., 197., 483.]),\n",
       " array([2.65065187e-06, 9.97593288e-03, 1.99492151e-02, 2.99224973e-02,\n",
       "        3.98957796e-02, 4.98690618e-02, 5.98423440e-02, 6.98156262e-02,\n",
       "        7.97889085e-02, 8.97621907e-02, 9.97354729e-02]),\n",
       " <a list of 10 Patch objects>)"
      ]
     },
     "execution_count": 2,
     "metadata": {},
     "output_type": "execute_result"
    },
    {
     "data": {
      "image/png": "[encoded data removed]",
      "text/plain": [
       "<matplotlib.figure.Figure at 0x120a4a710>"
      ]
     },
     "metadata": {},
     "output_type": "display_data"
    },
    {
     "data": {
      "image/png": "[encoded data removed]",
      "text/plain": [
       "<matplotlib.figure.Figure at 0x12c76a510>"
      ]
     },
     "metadata": {},
     "output_type": "display_data"
    },
    {
     "data": {
      "image/png": "[encoded data removed]",
      "text/plain": [
       "<matplotlib.figure.Figure at 0x12c8099d0>"
      ]
     },
     "metadata": {},
     "output_type": "display_data"
    }
   ],
   "source": [
    "cutoff = 200\n",
    "x_full=x_full[Y_full < cutoff]\n",
    "T_full=T_full[Y_full < cutoff]\n",
    "true_Q_full=true_Q_full[Y_full < cutoff]\n",
    "Y_full = Y_full[Y_full < cutoff]\n",
    "\n",
    "plt.hist(Y_full); plt.title('Y')\n",
    "plt.figure()\n",
    "plt.title('T')\n",
    "plt.hist(T_full)\n",
    "Q = true_Q_full\n",
    "plt.figure()\n",
    "plt.hist(true_Q_full)"
   ]
  },
  {
   "cell_type": "markdown",
   "metadata": {},
   "source": [
    "## Reserve half for out of sample evaluation\n",
    "\n"
   ]
  },
  {
   "cell_type": "code",
   "execution_count": 3,
   "metadata": {
    "collapsed": true
   },
   "outputs": [],
   "source": [
    "n = 1000\n",
    "x_test = x_full[n:]; Y_test = Y_full[n:]; T_test = T_full[n:]; true_Q = true_Q_full[n:]\n",
    "x = x_full[0:n]; Y = Y_full[0:n];T = T_full[0:n]; true_Q = true_Q_full[0:n]\n"
   ]
  },
  {
   "cell_type": "markdown",
   "metadata": {},
   "source": [
    "## Optimal treatment tends to bounds"
   ]
  },
  {
   "cell_type": "code",
   "execution_count": 4,
   "metadata": {
    "collapsed": true
   },
   "outputs": [],
   "source": [
    "\n",
    "# import pickle\n",
    "\n",
    "# pickle.dump(x_full, open(str(datetime.datetime.now().strftime(\"%Y-%m-%d_%H-%M\")) + 'x.p', 'wb'))\n",
    "# pickle.dump(T_full, open(str(datetime.datetime.now().strftime(\"%Y-%m-%d_%H-%M\")) + 'T.p', 'wb'))\n",
    "# pickle.dump(Y_full, open(str(datetime.datetime.now().strftime(\"%Y-%m-%d_%H-%M\")) + 'Y.p', 'wb'))\n",
    "# pickle.dump(true_Q_full, open(str(datetime.datetime.now().strftime(\"%Y-%m-%d_%H-%M\")) + 'Q.p', 'wb'))\n"
   ]
  },
  {
   "cell_type": "code",
   "execution_count": 5,
   "metadata": {},
   "outputs": [
    {
     "data": {
      "image/png": "[encoded data removed]",
      "text/plain": [
       "<matplotlib.figure.Figure at 0x120a82b90>"
      ]
     },
     "metadata": {},
     "output_type": "display_data"
    },
    {
     "data": {
      "image/png": "[encoded data removed]",
      "text/plain": [
       "<matplotlib.figure.Figure at 0x12cb14f10>"
      ]
     },
     "metadata": {},
     "output_type": "display_data"
    }
   ],
   "source": [
    "cons_T = np.linspace(-15,15,20)\n",
    "\n",
    "plt.scatter(cons_T,  [np.mean( real_risk(np.ones(n)*t, beta_cons, beta_x, beta_x_T, beta_x_quad_T,x)) for t in cons_T ] )\n",
    "\n",
    "def real_risk(T, beta_cons, beta_x, beta_x_T, beta_x_quad_T, x):    \n",
    "    if np.isscalar(T):\n",
    "        risk = T*beta_cons + np.dot(beta_x.T, x) + np.dot(beta_x_T.T, x*T) + (T-np.dot(beta_x_quad_T.T,x))**2\n",
    "    else: \n",
    "        risk = np.zeros(len(T))\n",
    "        for i in range(len(T)): \n",
    "            risk[i] = T[i]*beta_cons + np.dot(beta_x.T, x[i,:]) + np.dot(beta_x_T.T, x[i,:]*T[i])+ (T[i]-np.dot(beta_x_quad_T.T,x[i,:]))**2 #+ np.dot(beta_x_quad_T.T, (x[i,:]**2)*T[i]) + np.dot(beta_x_high_freq.T, np.sin(x[i,0:HIGH_FREQ_N]*FREQ)*T[i])\n",
    "    return risk\n",
    "def real_risk_scalar(T, beta_cons, beta_x, beta_x_T, beta_x_quad_T, x):    \n",
    "    return T*beta_cons + np.dot(beta_x.T, x) + np.dot(beta_x_T.T, x*T) + (T-np.dot(beta_x_quad_T.T,x))**2\n",
    "\n",
    "bounds = [(min(T)/(0.5*d) , max(T)/np.abs(0.5*d)  ) for i in range(d) ]\n",
    "bnds = tuple(tuple(x) for x in bounds)\n",
    "\n",
    "def get_oracle_treatment(beta_cons, beta_x, beta_x_T, beta_x_quad_T, x): \n",
    "    res = minimize(real_risk_scalar, np.mean(T), args =(beta_cons, beta_x, beta_x_T, beta_x_quad_T,x))\n",
    "    return res.x \n",
    "\n",
    "oracle_T = [ get_oracle_treatment(beta_cons, beta_x, beta_x_T, beta_x_quad_T, x[i,:]) for i in range(n)]\n",
    "plt.hist(np.asarray(oracle_T))\n",
    "\n",
    "fig=plt.figure()\n",
    "for i in range(50): \n",
    "    plt.plot(cons_T, np.asarray([ real_risk(t, beta_cons, beta_x, beta_x_T, beta_x_quad_T, x[i,:]) for t in cons_T ]), alpha = 0.3 )\n",
    "\n",
    "for i in range(50): \n",
    "    plt.scatter(T[i], real_risk(T[i], beta_cons, beta_x, beta_x_T, beta_x_quad_T, x[i,:]),color='r')\n",
    "plt.xlabel('T')\n",
    "plt.ylabel('y (loss)')\n",
    "# plt.axis('off')\n",
    "\n",
    "\n",
    "fig.savefig('outcome-model.pdf')"
   ]
  },
  {
   "cell_type": "markdown",
   "metadata": {},
   "source": [
    "# Constant policy "
   ]
  },
  {
   "cell_type": "code",
   "execution_count": 6,
   "metadata": {},
   "outputs": [
    {
     "ename": "NameError",
     "evalue": "name 'disc_res' is not defined",
     "output_type": "error",
     "traceback": [
      "\u001b[0;31m---------------------------------------------------------------------------\u001b[0m",
      "\u001b[0;31mNameError\u001b[0m                                 Traceback (most recent call last)",
      "\u001b[0;32m<ipython-input-6-0ccc84649c8a>\u001b[0m in \u001b[0;36m<module>\u001b[0;34m()\u001b[0m\n\u001b[0;32m----> 1\u001b[0;31m \u001b[0mreal_risk\u001b[0m\u001b[0;34m(\u001b[0m\u001b[0mdisc_res\u001b[0m\u001b[0;34m,\u001b[0m  \u001b[0;34m)\u001b[0m\u001b[0;34m\u001b[0m\u001b[0m\n\u001b[0m\u001b[1;32m      2\u001b[0m \u001b[0mdisc_res\u001b[0m\u001b[0;34m\u001b[0m\u001b[0m\n",
      "\u001b[0;31mNameError\u001b[0m: name 'disc_res' is not defined"
     ]
    }
   ],
   "source": [
    "# real_risk(disc_res,  )\n",
    "# disc_res"
   ]
  },
  {
   "cell_type": "code",
   "execution_count": 7,
   "metadata": {
    "collapsed": true
   },
   "outputs": [],
   "source": [
    "LAMBDA = -3\n",
    "\n",
    "def pol_eval_wrapper(beta, args): \n",
    "    data = dict(args)\n",
    "    t_lo = data['t_lo']; t_hi = data['t_hi']\n",
    "    tau = np.clip(np.dot(beta, data['x'].T) , t_lo, t_hi).flatten()\n",
    "    data['tau'] = tau\n",
    "    return data['sgn']*(off_policy_evaluation(**data))\n",
    "\n",
    "def pol_eval_l2_wrapper(beta, args): \n",
    "    data = dict(args)\n",
    "    t_lo = data['t_lo']; t_hi = data['t_hi']\n",
    "    tau = np.clip(np.dot(beta, data['x'].T) , t_lo, t_hi).flatten()\n",
    "    data['tau'] = tau\n",
    "    return data['sgn']*(off_policy_evaluation(**data) + LAMBDA * np.linalg.norm(beta,2))\n",
    "\n",
    "\n",
    "def pol_eval_l1_wrapper(beta, args): \n",
    "    data = dict(args)\n",
    "    t_lo = data['t_lo']; t_hi = data['t_hi']\n",
    "    tau = np.clip(np.dot(beta, data['x'].T) , t_lo, t_hi).flatten()\n",
    "    data['tau'] = tau\n",
    "    return data['sgn']*(off_policy_evaluation(**data) + LAMBDA * sum(abs(beta)))\n",
    "\n",
    "def off_policy_evaluation(**params):\n",
    "    \"\"\"\n",
    "    Takes in a choice of kernel and dictionary of parameters and data required for evaluation\n",
    "    tau is a vector of treatment values (assumed given)\n",
    "    If y_samp, T_samp is present, use that instead. \n",
    "    \"\"\"\n",
    "    THRESH = params['threshold']\n",
    "    y_out = params['y']; x = params['x']; h = params['h'];Q = params['Q']; n = params['n']; t_lo = params['t_lo'];  t_hi = params['t_hi']\n",
    "    kernel = params['kernel_func'];kernel_int =  params['kernel_int_func']\n",
    "    if ('y_samp' in params.keys()):\n",
    "        y_out = params['y_samp']\n",
    "    if ('T_samp' in params.keys()): \n",
    "        T = params['T_samp']\n",
    "    else: \n",
    "        T = params['T']\n",
    "    if ('x_samp' in params.keys()):\n",
    "        x = params['x_samp']\n",
    "    loss = 0\n",
    "    tau = params['tau']\n",
    "    clip_tau = np.clip(tau, t_lo, t_hi)\n",
    "    for i in np.arange(n): \n",
    "        Q_i = Q(x[i,:], T[i], t_lo, t_hi)\n",
    "        if (abs(clip_tau[i] - t_lo) <= h):\n",
    "            alpha = kernel_int((t_lo-clip_tau[i])/h, 1)\n",
    "            if alpha < 0.5: \n",
    "                print alpha\n",
    "        elif (abs(clip_tau[i] - t_hi) <= h):\n",
    "            alpha = kernel_int(-1,  (t_hi - clip_tau[i])/h )\n",
    "            if alpha < 0.5: \n",
    "                print alpha\n",
    "        else:\n",
    "            alpha = 1\n",
    "        loss += kernel( (clip_tau[i] - T[i])/h )*1.0 * y_out[i]/max(Q_i,THRESH) * 1.0/alpha\n",
    "    return loss/(1.0*h*n)\n",
    "\n",
    "\n",
    "def off_pol_epan_lin_l2_grad(beta, *args):\n",
    "    \"\"\"\n",
    "    Compute a gradient for special case of Epanechnikov kernel and linear policy tau\n",
    "    \"\"\"\n",
    "    # THRESH = 0.001\n",
    "    d = len(beta) \n",
    "    params = dict(args[0])\n",
    "    #! FIXME x vs xsamp\n",
    "    tau = np.dot(beta, params['x'].T)\n",
    "    params['tau'] = tau\n",
    "    params['beta'] = beta\n",
    "\n",
    "    THRESH = params['threshold']\n",
    "\n",
    "    [f, g, nabla_f, nabla_g] = f_g(**params)\n",
    "    # compute gradient vector via quotient rule\n",
    "    if g < THRESH: \n",
    "        g = THRESH  \n",
    "    \n",
    "    return params['sgn']*(np.asarray((g*nabla_f - f*nabla_g) / g**2 ) + LAMBDA * 2*beta)\n",
    "\n",
    "def off_pol_epan_lin_l1_grad(beta, *args):\n",
    "    \"\"\"\n",
    "    Compute a gradient for special case of Epanechnikov kernel and linear policy tau\n",
    "    \"\"\"\n",
    "    d = len(beta) \n",
    "    params = dict(args[0])\n",
    "    #! FIXME x vs xsamp\n",
    "    tau = np.dot(beta, params['x'].T)\n",
    "    params['tau'] = tau; params['beta'] = beta\n",
    "    THRESH = params['threshold']\n",
    "    [f, g, nabla_f, nabla_g] = f_g(**params)\n",
    "    # compute gradient vector via quotient rule\n",
    "    if g < THRESH: \n",
    "        g = THRESH  \n",
    "    l1_sub = np.zeros(d)\n",
    "    for i in range(d): \n",
    "        if beta[i] < 0: \n",
    "            l1_sub[i] = -1 \n",
    "        elif beta[i] > 0: \n",
    "            l1_sub[i] = 1\n",
    "        else: \n",
    "            l1_sub[i] = 0 \n",
    "    return params['sgn']*(np.asarray((g*nabla_f - f*nabla_g) / g**2 ) + LAMBDA * l1_sub)\n",
    "\n",
    "def f_g(**params): \n",
    "    THRESH = params['threshold']\n",
    "    y_out = params['y']; x = params['x']; h = params['h'];Q = params['Q']; n = params['n']; t_lo = params['t_lo'];  t_hi = params['t_hi']\n",
    "    kernel = params['kernel_func'];kernel_int =  params['kernel_int_func']\n",
    "    if ('y_samp' in params.keys()):\n",
    "        y_out = params['y_samp']\n",
    "    if ('T_samp' in params.keys()): \n",
    "        T = params['T_samp']\n",
    "    else: \n",
    "        T = params['T']\n",
    "    if ('x_samp' in params.keys()):\n",
    "        x = params['x_samp']\n",
    "    BMI_IND = params.get('BMI_IND') # propensity score for warfarin data evaluations \n",
    "        \n",
    "    loss = 0\n",
    "    g = 0 # also keep track of normalized probability ratio quantity \n",
    "    partial_f = 0 \n",
    "    partial_g = 0 \n",
    "    tau = params['tau']\n",
    "    clip_tau = np.clip(tau, t_lo, t_hi)\n",
    "    Qs = np.zeros(n)\n",
    "    for i in np.arange(n): \n",
    "        if (params.get('DATA_TYPE') == 'warfarin'): \n",
    "            Q_i = Q(x[i,BMI_IND], T[i], t_lo, t_hi)\n",
    "        else: \n",
    "            Q_i = Q(x[i], T[i], t_lo, t_hi)\n",
    "        if (abs(clip_tau[i] - t_lo) <= h):\n",
    "            alpha = kernel_int((t_lo-clip_tau[i])/h, 1)\n",
    "        elif (abs(clip_tau[i] - t_hi) <= h):\n",
    "            alpha = kernel_int(-1,  (t_hi - clip_tau[i])/h )\n",
    "        else:\n",
    "            alpha = 1\n",
    "        Qs[i] = kernel( (clip_tau[i] - T[i])/h )/max(Q_i,THRESH)\n",
    "        loss += kernel( (clip_tau[i] - T[i])/h )*1.0 * y_out[i]/max(Q_i,THRESH) * 1.0/alpha\n",
    "        if abs((clip_tau[i] - T[i])/h) >= 1:\n",
    "            partial_f += 0 # don't add anything to partial derivatives \n",
    "        else:\n",
    "            partial_g += -1.5 * ((clip_tau[i] - T[i])/h ) * 1.0/max(Q_i,THRESH) * x[i,:]\n",
    "            partial_f += -1.5 * ((clip_tau[i] - T[i])/h ) * y_out[i]/max(Q_i,THRESH) * x[i,:]\n",
    "    norm_sum = np.mean(Qs)\n",
    "    return [loss/(1.0*h*n), 1.0*norm_sum/h, partial_f/(1.0*n*h**2) , partial_g/(1.0*n*h**2) ]\n",
    "\n",
    "\n"
   ]
  },
  {
   "cell_type": "code",
   "execution_count": 8,
   "metadata": {
    "collapsed": true
   },
   "outputs": [],
   "source": [
    "def oracle_eval_wrapper(beta, args): \n",
    "    data = dict(args)\n",
    "    t_lo = data['t_lo']; t_hi = data['t_hi']\n",
    "    tau = np.clip(np.dot(beta, data['x'].T) , t_lo, t_hi).flatten()\n",
    "    x = data['x']\n",
    "    return np.mean(real_risk(tau, beta_cons, beta_x, beta_x_T, beta_x_quad_T, x))\n",
    "\n"
   ]
  },
  {
   "cell_type": "code",
   "execution_count": null,
   "metadata": {
    "collapsed": true
   },
   "outputs": [],
   "source": []
  },
  {
   "cell_type": "code",
   "execution_count": 9,
   "metadata": {
    "collapsed": true
   },
   "outputs": [],
   "source": [
    "## Train GPS on your simulated data\n",
    "def norm_T_Q(x,t,t_lo,t_hi): \n",
    "    return norm.pdf( t - np.dot(x, TRUE_PROP_BETA), loc = 0, scale = T_SIG )\n",
    "\n",
    "trainind = np.random.choice(range(n),size = int(round(0.4*n)),replace = False)\n",
    "train = x[trainind]\n",
    "test_mask = np.ones(n, dtype=bool)\n",
    "test_mask[trainind] = False\n",
    "test = x[test_mask,:]\n",
    "t_lo = min(T)\n",
    "t_hi = max(T) \n",
    "d = x.shape[1]\n",
    "train_data = { 'n': train.shape[0],'h': 4, 'y': Y[trainind],'Q': norm_T_Q,'x_full': x[trainind], 'x': x[trainind],'x_samp': x[trainind], 'T_samp': T[trainind], 'd': d, 'T': T[trainind],'t_lo': t_lo ,'t_hi': t_hi  }\n",
    "train_data['kernel_int_func'] = epanechnikov_int\n",
    "train_data['T_samp'] = np.array(T[trainind],order='F'); train_data['y_samp'] = Y[trainind]\n",
    "train_data['kernel_func'] = epanechnikov_kernel\n",
    "train_data['inds'] = trainind\n",
    "train_data['threshold'] = 0.01\n"
   ]
  },
  {
   "cell_type": "code",
   "execution_count": 10,
   "metadata": {
    "collapsed": true
   },
   "outputs": [],
   "source": [
    "\n",
    "def discretize_tau_policy(**params):\n",
    "    '''\n",
    "    Discretize the treatment vector 'tau' according to uniform binning.\n",
    "    '''\n",
    "    x = params['x_samp']\n",
    "    T = params['T_samp']\n",
    "    n_bins = params['n_bins']\n",
    "    t_lo = min(T)\n",
    "    t_hi = max(T)\n",
    "    bins = np.linspace(t_lo, t_hi, n_bins)\n",
    "    T_binned = np.digitize(T, bins).flatten()\n",
    "    bin_means = [T[T_binned == i].mean() for i in range(1, n_bins)]\n",
    "    tau_binned = np.digitize(params['tau'], bins).flatten()\n",
    "    return tau_binned\n",
    "\n",
    "def off_pol_disc_evaluation(policy, **params):\n",
    "    THRESH = params['threshold']\n",
    "    y_out = params['y']; x = params['x_samp']; h = params['h']; Q = params['Q']; n = params['n']; t_lo = params['t_lo']; t_hi = params['t_hi']\n",
    "    n_bins = params['n_bins']\n",
    "    if ('y_samp' in params.keys()):\n",
    "        y_out = params['y_samp'].flatten()\n",
    "    if ('T_samp' in params.keys()):\n",
    "        T = params['T_samp'].flatten()\n",
    "    else:\n",
    "        T = params['T'].flatten()\n",
    "\n",
    "    t_lo = min(T)\n",
    "    t_hi = max(T)\n",
    "    bin_width = t_hi-t_lo\n",
    "    bins = np.linspace(t_lo, t_hi, n_bins)\n",
    "    T_binned = np.digitize(T, bins, right = True).flatten()\n",
    "    bin_means = [T[T_binned == i].mean() for i in range(1, len(bins))]\n",
    "\n",
    "    loss = 0\n",
    "    tau_vec = policy(**params).flatten()\n",
    "\n",
    "    i=0\n",
    "    #! FIXME need to establish whether policy returns discrete bins or means\n",
    "    treatment_overlap = np.where(np.equal(tau_vec.flatten(), T_binned))[0]\n",
    "    n_overlap = len(treatment_overlap)\n",
    "    Qs = np.zeros(n_overlap)\n",
    "    for ind in treatment_overlap:\n",
    "        Q_i = Q(x[ind], bin_means[T_binned[ind]-1], t_lo, t_hi) * bin_width*1.0/n_bins # BUG FIX: this is going to have to be integrated against \n",
    "        Qs[i] = 1.0/max(Q_i,THRESH)\n",
    "        loss += y_out[ind]/max(Q_i,THRESH)\n",
    "        i+=1 \n",
    "    \n",
    "    norm_sum = np.mean(Qs)\n",
    "    if n_overlap == 0:\n",
    "        print \"no overlap\"\n",
    "        return 0\n",
    "    return loss/(1.0*n*norm_sum)\n",
    "\n",
    "def pol_disc_l2_wrapper(beta, args): \n",
    "    data = dict(args)\n",
    "    t_lo = data['t_lo']; t_hi = data['t_hi']; pol = data['pol']\n",
    "    tau = np.clip(np.dot(beta, data['x'].T) , t_lo, t_hi).flatten()\n",
    "    data['tau'] = tau\n",
    "    return data['sgn']*(off_pol_disc_evaluation(pol,**data) + LAMBDA * np.linalg.norm(beta,2))\n",
    "\n"
   ]
  },
  {
   "cell_type": "code",
   "execution_count": 11,
   "metadata": {},
   "outputs": [
    {
     "ename": "NameError",
     "evalue": "name 'n_bins' is not defined",
     "output_type": "error",
     "traceback": [
      "\u001b[0;31m---------------------------------------------------------------------------\u001b[0m",
      "\u001b[0;31mNameError\u001b[0m                                 Traceback (most recent call last)",
      "\u001b[0;32m<ipython-input-11-f65c0f1f54e5>\u001b[0m in \u001b[0;36m<module>\u001b[0;34m()\u001b[0m\n\u001b[1;32m      1\u001b[0m \u001b[0mt_lo\u001b[0m \u001b[0;34m=\u001b[0m \u001b[0mmin\u001b[0m\u001b[0;34m(\u001b[0m\u001b[0mT\u001b[0m\u001b[0;34m)\u001b[0m\u001b[0;34m\u001b[0m\u001b[0m\n\u001b[1;32m      2\u001b[0m \u001b[0mt_hi\u001b[0m \u001b[0;34m=\u001b[0m \u001b[0mmax\u001b[0m\u001b[0;34m(\u001b[0m\u001b[0mT\u001b[0m\u001b[0;34m)\u001b[0m\u001b[0;34m\u001b[0m\u001b[0m\n\u001b[0;32m----> 3\u001b[0;31m \u001b[0mbins\u001b[0m \u001b[0;34m=\u001b[0m \u001b[0mnp\u001b[0m\u001b[0;34m.\u001b[0m\u001b[0mlinspace\u001b[0m\u001b[0;34m(\u001b[0m\u001b[0mt_lo\u001b[0m\u001b[0;34m,\u001b[0m \u001b[0mt_hi\u001b[0m\u001b[0;34m,\u001b[0m \u001b[0mn_bins\u001b[0m\u001b[0;34m)\u001b[0m\u001b[0;34m\u001b[0m\u001b[0m\n\u001b[0m\u001b[1;32m      4\u001b[0m \u001b[0mT_binned\u001b[0m \u001b[0;34m=\u001b[0m \u001b[0mnp\u001b[0m\u001b[0;34m.\u001b[0m\u001b[0mdigitize\u001b[0m\u001b[0;34m(\u001b[0m\u001b[0mT\u001b[0m\u001b[0;34m,\u001b[0m \u001b[0mbins\u001b[0m\u001b[0;34m)\u001b[0m\u001b[0;34m.\u001b[0m\u001b[0mflatten\u001b[0m\u001b[0;34m(\u001b[0m\u001b[0;34m)\u001b[0m\u001b[0;34m\u001b[0m\u001b[0m\n\u001b[1;32m      5\u001b[0m \u001b[0mbin_means\u001b[0m \u001b[0;34m=\u001b[0m \u001b[0;34m[\u001b[0m\u001b[0mT\u001b[0m\u001b[0;34m[\u001b[0m\u001b[0mT_binned\u001b[0m \u001b[0;34m==\u001b[0m \u001b[0mi\u001b[0m\u001b[0;34m]\u001b[0m\u001b[0;34m.\u001b[0m\u001b[0mmean\u001b[0m\u001b[0;34m(\u001b[0m\u001b[0;34m)\u001b[0m \u001b[0;32mfor\u001b[0m \u001b[0mi\u001b[0m \u001b[0;32min\u001b[0m \u001b[0mrange\u001b[0m\u001b[0;34m(\u001b[0m\u001b[0;36m1\u001b[0m\u001b[0;34m,\u001b[0m \u001b[0mn_bins\u001b[0m\u001b[0;34m)\u001b[0m\u001b[0;34m]\u001b[0m\u001b[0;34m\u001b[0m\u001b[0m\n",
      "\u001b[0;31mNameError\u001b[0m: name 'n_bins' is not defined"
     ]
    }
   ],
   "source": [
    "t_lo = min(T)\n",
    "t_hi = max(T)\n",
    "bins = np.linspace(t_lo, t_hi, n_bins)\n",
    "T_binned = np.digitize(T, bins).flatten()\n",
    "bin_means = [T[T_binned == i].mean() for i in range(1, n_bins)]"
   ]
  },
  {
   "cell_type": "code",
   "execution_count": 432,
   "metadata": {},
   "outputs": [
    {
     "data": {
      "text/plain": [
       "5.3017425743851954"
      ]
     },
     "execution_count": 432,
     "metadata": {},
     "output_type": "execute_result"
    }
   ],
   "source": [
    "data = { 'n': nn,'h': 5*pow((n_0*1.0/nn),.2), 'y': Y[trainind],'Q': norm_T_Q,'x_full': x[trainind,:], 'x': x[trainind,:],'x_samp': x[trainind,:], 'T_samp': T[trainind].flatten(), 'd': d, 'T': T[trainind],'t_lo': t_lo ,'t_hi': t_hi  }\n",
    "data['kernel_int_func'] = epanechnikov_int\n",
    "data['T_samp'] = np.array(T[trainind],order='F'); train_data['y_samp'] = Y[trainind]\n",
    "data['kernel_func'] = epanechnikov_kernel\n",
    "data['inds'] = trainind; data['sgn'] = 1\n",
    "data['threshold'] = 0.02\n",
    "\n",
    "data['n_bins'] = 10 \n",
    "data['pol'] = discretize_tau_policy\n",
    "data['tau'] = T[trainind]\n",
    "off_pol_disc_evaluation(discretize_tau_policy, **data)\n",
    "beta_d = np.random.uniform(size=(d,1))*4\n",
    "disc_res = minimize(pol_disc_l2_wrapper, x0 = beta_d, bounds = bnds, options={'disp':True,'gtol':1e-1,'maxfun': 1000}, args=data.items())\n",
    "data['tau'] = np.dot(disc_res.x, x.T)\n",
    "disc_pol = discretize_tau_policy(**data)\n",
    "disc_T= np.dot(disc_res.x, x.T)\n",
    "np.mean( real_risk(np.dot(disc_res.x, x.T), beta_cons, beta_x, beta_x_T, beta_x_quad_T, x) )"
   ]
  },
  {
   "cell_type": "code",
   "execution_count": 412,
   "metadata": {},
   "outputs": [
    {
     "data": {
      "text/plain": [
       "(array([    0.,     0.,     0.,     0.,     0.,  1000.,     0.,     0.,\n",
       "            0.,     0.]),\n",
       " array([ 1.12933997,  1.22933997,  1.32933997,  1.42933997,  1.52933997,\n",
       "         1.62933997,  1.72933997,  1.82933997,  1.92933997,  2.02933997,\n",
       "         2.12933997]),\n",
       " <a list of 10 Patch objects>)"
      ]
     },
     "execution_count": 412,
     "metadata": {},
     "output_type": "execute_result"
    },
    {
     "data": {
      "image/png": "[encoded data removed]",
      "text/plain": [
       "<matplotlib.figure.Figure at 0x115749590>"
      ]
     },
     "metadata": {},
     "output_type": "display_data"
    }
   ],
   "source": []
  },
  {
   "cell_type": "code",
   "execution_count": 362,
   "metadata": {
    "scrolled": true
   },
   "outputs": [
    {
     "name": "stdout",
     "output_type": "stream",
     "text": [
      "opt coef bounds for beta: \n",
      "[(-2.9558302454279373, 3.6139946196115438), (-2.9558302454279373, 3.6139946196115438), (-2.9558302454279373, 3.6139946196115438), (-2.9558302454279373, 3.6139946196115438), (-2.9558302454279373, 3.6139946196115438), (-2.9558302454279373, 3.6139946196115438), (-2.9558302454279373, 3.6139946196115438), (-2.9558302454279373, 3.6139946196115438), (-2.9558302454279373, 3.6139946196115438), (-2.9558302454279373, 3.6139946196115438)]\n",
      "200\n",
      "[-0.11307281 -0.87557897 -0.2221516  -0.01761266 -0.2977354   0.24907352\n",
      "  0.11314573  0.0313166   0.0857681   0.45362848]\n",
      "2.53700237051\n",
      "[ 0.15080832 -0.80299567 -0.03155778  0.02964014 -0.1331966   0.20039607\n",
      "  0.03042686  0.11666065  0.03919754  0.81400155]\n",
      "2.60750146004\n",
      "[ 1.30859075 -1.65956808  0.79758927 -1.08244053  0.58893735 -0.40808881\n",
      "  2.22151267  0.62148064  1.46108363  0.38589725]\n",
      "-16.2167815295\n",
      "[ 0.32919023 -0.6009378  -0.01417606  0.63285094  0.61394999  0.39117909\n",
      "  1.17146372 -0.01390529  0.24757144  0.99251226]\n",
      "-10.3189152287\n",
      "[-0.31151171 -0.89586549 -0.46109056  0.0387649   0.13485948 -0.17541403\n",
      "  0.12764604  0.39442471  0.58198597  1.49747   ]\n",
      "-0.286563889634\n",
      "[-0.03791903 -0.79242874 -0.30422346  0.10410075 -0.12139534  0.22705067\n",
      " -0.00402944  0.63875141  0.95179445  1.43240986]\n",
      "-0.207601711412\n",
      "[ 0.22890899 -0.94391466 -0.0622236   0.2145947  -0.11045147 -0.1824121\n",
      "  0.33522837  0.57835308  0.47927675  0.63098552]\n",
      "-19.6540647019\n",
      "[ 0.52207615 -0.77923198  0.64548707  0.49693571  0.12016456  0.04155987\n",
      "  0.12493455 -0.11542606 -0.45057347 -0.06795489]\n",
      "-17.7384139117\n",
      "[ 0.09226392 -1.57387576  0.08628132 -0.33118931  0.15797601  0.12363565\n",
      "  0.00448363  0.39638729  0.94873587  0.31586896]\n",
      "-0.392636234862\n",
      "[-0.35473886 -1.74092101 -0.20617296  0.15914535  0.17841355  0.43307152\n",
      "  0.35723106  0.19698076  0.75069356  0.41069591]\n",
      "-0.753451800093\n",
      "[ 0.09371498  0.44380631  0.09842995  0.8132626   0.18461151  0.46268645\n",
      "  0.76090821  0.26323676  0.26477966  0.47576975]\n",
      "-11.9628311956\n",
      "[ 0.59044975 -0.44111256  0.02633594  0.24218006 -0.20963517  0.05441798\n",
      "  0.44822399  0.78773122  0.57474896  0.19921609]\n",
      "-12.3357171128\n",
      "[-0.66001366 -2.62111699  0.03958665  0.67019471 -0.52959764  0.86192121\n",
      "  0.00345274 -0.21558553  1.07918004 -0.01808281]\n",
      "-1.86774977036\n",
      "[-0.48509896 -1.58144316  0.02208971  0.52790696 -0.59867552  0.6355532\n",
      "  0.07414454  0.2939967   1.15571588  0.65209055]\n",
      "-1.35269720396\n",
      "[ 0.67426695 -0.70723523  0.65945697  0.03875602  0.01019091  0.76781459\n",
      "  0.14275101 -1.13009103  0.18127375  0.71745077]\n",
      "-18.3044174768\n",
      "[ 0.23003264 -0.94427643  1.07083845 -0.21468248  0.35990188  1.15732388\n",
      " -0.31153064 -1.29805098  0.39170043  0.28933049]\n",
      "-17.4295414795\n",
      "[ 0.19162796 -1.24215507 -0.24005383 -0.06433405  0.0895494  -0.21502978\n",
      "  0.01623308  0.60725217  0.49164725  1.0189341 ]\n",
      "0.334801112092\n",
      "[ 0.22412518 -1.33171147 -0.25149784 -0.1006383   0.1404546  -0.20794982\n",
      " -0.05382985  0.69091147  0.44223237  1.11754894]\n",
      "0.259239733455\n",
      "[ 0.21078826 -0.05949267 -0.25334209 -0.18283157  0.47718658  0.04931158\n",
      " -0.59633634  0.14681725  0.36446938  1.02260364]\n",
      "-14.9318471726\n",
      "[ 0.1655292   0.2233692   0.41519769 -0.10374993  0.6281875  -0.15883556\n",
      " -0.42702911  0.44922835  0.29601863  0.81723047]\n",
      "-15.1559020998\n",
      "400\n",
      "[-0.09972316 -1.8556408  -0.01967033  0.10151733  0.26798275  0.58991177\n",
      "  0.12760975  0.12169098  0.86716513  0.5373843 ]\n",
      "-0.0525370431056\n",
      "[-0.21511252 -1.88176757  0.11608009  0.10855363  0.12463581  0.60588134\n",
      "  0.15466299  0.1165353   0.84425939  0.56716428]\n",
      "-0.0614849056645\n",
      "[ 0.72099486  0.44395618 -0.03632855  0.72567368  0.30117554 -0.01503884\n",
      "  0.42736014  0.41250279  0.35404035  0.87787659]\n",
      "-15.0838464401\n",
      "[-0.09800275  0.41144466 -0.54672592  0.35358643 -0.03271996  0.07174221\n",
      "  0.04397075 -0.0348431   1.19659407  1.97084619]\n",
      "-15.7106206108\n",
      "[-0.07444565 -1.63196962 -0.33253005 -0.26853976 -0.0858875   0.4209846\n",
      " -0.22867153 -0.0401592   0.94752866  1.09031694]\n",
      "-0.73985233924\n",
      "[ -4.97997700e-01  -1.30910645e+00   4.14329151e-04  -8.03894497e-02\n",
      "  -3.98364778e-01   3.15935948e-01  -6.77948660e-02   3.01517724e-01\n",
      "   7.85368958e-01   8.53925105e-01]\n",
      "-0.490092616463\n",
      "[ 0.44635722  0.34704944  0.78752632  0.96567909 -0.11654779  0.15436936\n",
      "  0.85298174  0.30026249  0.38111886  0.62092025]\n",
      "-13.405207208\n",
      "[ 0.46170966 -0.13414465  0.44945308  0.79240895 -0.27451362  0.62817393\n",
      "  0.92246077  0.84261522  0.3925641   0.83373531]\n",
      "-14.4566054857\n",
      "[-0.41600284 -1.25998505  0.04094674 -0.03650546 -0.40533438 -0.0728618\n",
      " -0.21688222  0.26420304  0.72636367  0.62990971]\n",
      "-0.10566997137\n",
      "[-0.38309124 -1.83098428  0.03029175 -0.05182346 -0.25246286  0.26377061\n",
      " -0.3087169  -0.29082243  0.42714584  0.75154887]\n",
      "-0.406365260204\n",
      "[ 0.19826045  0.3229281   0.04825191 -0.0241417  -0.25190324  0.60318713\n",
      "  0.22916522 -0.09117743  0.73516101 -0.2361212 ]\n",
      "-10.093898332\n",
      "[-0.00377138  0.68040541  0.07568751  0.06176823  0.03174391  1.18099655\n",
      "  0.46318685  0.62348159  0.95715676  0.06554788]\n",
      "-9.59348036783\n",
      "[-0.32054436 -1.26957999 -0.17576272  0.21467075  0.19288951  0.63306312\n",
      "  0.16582396  0.68014419  1.07480495  0.43286063]\n",
      "0.298777298482\n",
      "[-0.39807039 -1.35639496 -0.00258329  0.1991101   0.16592442  0.69343659\n",
      "  0.10421556  0.81794516  1.12620934  0.4219811 ]\n",
      "0.235067529671\n",
      "[ 0.01093956 -0.23241832  0.96151975  0.47591023  0.33865494  0.14552701\n",
      "  0.79682278  0.22228186  0.64718075  0.62573383]\n",
      "-17.1206624617\n",
      "[-0.22076386 -0.75932234  0.39103528  0.48404827  0.04630062  0.53459796\n",
      "  0.24854423  0.4578074   0.82844305  0.35676584]\n",
      "-16.1946095555\n",
      "[-0.25666197 -1.32654156 -0.21040586 -0.32188933 -0.17898978  0.51869612\n",
      "  0.19045919  0.05412875  0.56994512  0.5445776 ]\n",
      "-0.346768385182\n",
      "[-0.34366646 -1.27237209 -0.0710565  -0.32754781 -0.1026565   0.47840534\n",
      "  0.17917864  0.1834949   0.54524174  0.45081345]\n",
      "-0.313651867306\n",
      "[-0.09577363  0.21193933  0.15493809 -0.36654305 -0.28274736  0.38464674\n",
      "  0.03637606 -0.09213616  0.25478531  0.89128848]\n",
      "-10.9883331496\n",
      "[-0.49371096  0.40320024  0.69974543 -0.68656233 -0.281333    0.99006782\n",
      "  0.02572104  0.21736896  0.07568758  0.81668891]\n",
      "-12.1019056182\n"
     ]
    }
   ],
   "source": [
    "import cvxpy as cvx\n",
    "np.random.seed(2)\n",
    "\n",
    "n = len(Y)\n",
    "SAMP_N = 5; \n",
    "ns = [200, 400]#, 800, 1600 ]\n",
    "n_0 = ns[0]\n",
    "cons_evals = np.zeros([len(ns), SAMP_N]); mean_evals = np.zeros([len(ns), SAMP_N])\n",
    "zero_evals = np.zeros([len(ns), SAMP_N]); oracle_evals = np.zeros([len(ns), SAMP_N]);DR_oracle_evals = np.zeros([len(ns), SAMP_N])\n",
    "oracle_coefs = [ [None]*SAMP_N ] * len(ns)\n",
    "DR_oracle_coefs = [ [None]*SAMP_N ] * len(ns)\n",
    "bounds = [(min(T)/(0.5*d) , max(T)/np.abs(0.5*d)  ) for i in range(d) ]\n",
    "bnds = tuple(tuple(x) for x in bounds)\n",
    "# bounds = [(-np.mean(sampled_T)/max(np.mean(X_sim_std[:,i]), 0.25*d) , np.mean(sampled_T)/max(np.mean(X_sim_std[:,i]),d*.25) ) for i in range(d) ]\n",
    "# bounds = [(-max(sim_dose)/(.25*d*np.mean(subframe[:,i])) , max(sim_dose)/(.25*d*np.mean(subframe[:,i])) ) for i in range(d) ]\n",
    "print \"opt coef bounds for beta: \"\n",
    "print bounds\n",
    "\n",
    "n_restarts = 1\n",
    "for ind, nn in enumerate(ns): \n",
    "    print nn \n",
    "    for k in range(SAMP_N): \n",
    "        trainind = np.random.choice(range(n),size = nn, replace = False)\n",
    "        sub_T = np.zeros(nn)\n",
    "        \n",
    "        # Learn GPS from data\n",
    "        lr = LinearRegression(); lr.fit(x[trainind,:], T[trainind])\n",
    "        T_hat = lr.predict(x[trainind,:])\n",
    "        beta_T_gps = np.dot(x[trainind,:],lr.coef_)\n",
    "        resid = T[trainind] - T_hat\n",
    "        # Assume normal noise\n",
    "        mu_resid = np.mean(resid); sigma_resid = np.std(resid)\n",
    "        def norm_T_Q_est(x,t,t_lo,t_hi): \n",
    "            return norm.pdf( t - np.dot(x, lr.coef_), loc =  mu_resid, scale = sigma_resid )\n",
    "        \n",
    "        data = { 'n': nn,'h': 3*pow((n_0*1.0/nn),.2), 'y': Y[trainind],'Q': norm_T_Q_est,'x_full': x[trainind,:], 'x': x[trainind,:],'x_samp': x[trainind,:], 'T_samp': T[trainind].flatten(), 'd': d, 'T': T[trainind],'t_lo': t_lo ,'t_hi': t_hi  }\n",
    "        data['kernel_int_func'] = epanechnikov_int\n",
    "        data['T_samp'] = np.array(T[trainind],order='F'); train_data['y_samp'] = Y[trainind]\n",
    "        data['kernel_func'] = epanechnikov_kernel\n",
    "        data['inds'] = trainind; data['sgn'] = 1\n",
    "        data['threshold'] = 0.02\n",
    "        betas = []; vals = []\n",
    "        \n",
    "        k_ind = 0\n",
    "        while k_ind <= n_restarts: \n",
    "            k_ind += 1\n",
    "            beta_d = np.random.uniform(size=d)\n",
    "            LAMBDA = 0.5\n",
    "            oracle_res = minimize(pol_eval_l2_wrapper, x0 = beta_d, jac = off_pol_epan_lin_l2_grad, bounds = bnds, options={'disp':True,'gtol':1e-1,'maxfun': 1000}, args=data.items())  \n",
    "            betas += [oracle_res.x]\n",
    "            print oracle_res.x\n",
    "            vals += [oracle_res.fun]\n",
    "            print oracle_res.fun\n",
    "        oracle_coefs[ind][k] = betas[np.argmin(vals)] \n",
    "        oracle_evals[ind, k] = vals[np.argmin(vals)] \n",
    "        zero_T = np.zeros(nn); data['tau'] = zero_T; zero_evals[ind,k] = off_policy_evaluation(**data)\n",
    "#         oracle_coefs[ind] += [ betas[np.argmin(vals)] ]\n",
    "#         oracle_evals[ind, k] = vals[np.argmin(vals)]\n",
    "        mu_T = np.mean(T)*np.ones(nn); data['tau'] = mu_T; mean_evals[ind,k] = off_policy_evaluation(**data)\n",
    "        \n",
    "        clf = RandomForestRegressor(n_estimators=5)\n",
    "        clf = clf.fit(x[trainind,:],y=Y[trainind])\n",
    "#         data['rf'] = clf\n",
    "        y_hat = clf.predict(x[trainind,:])\n",
    "        data['y'] = Y[trainind] - y_hat\n",
    "        betas = []; vals = []\n",
    "        k_ind = 0\n",
    "        while k_ind <= n_restarts: \n",
    "            k_ind += 1\n",
    "            beta_d = np.random.uniform(size=d)\n",
    "            LAMBDA = 0.5\n",
    "            oracle_res = minimize(pol_eval_l2_wrapper, x0 = beta_d, jac = off_pol_epan_lin_l2_grad, bounds = bnds, options={'disp':True,'gtol':1e-1,'maxfun': 1000}, args=data.items())  \n",
    "            print oracle_res.x\n",
    "            betas += [oracle_res.x]\n",
    "            vals += [oracle_res.fun]\n",
    "            print oracle_res.fun\n",
    "        DR_oracle_coefs[ind][k] = betas[np.argmin(vals)] \n",
    "        DR_oracle_evals[ind, k] = vals[np.argmin(vals)] \n",
    "        \n",
    "        data['n_bins'] = 10 \n",
    "        off_pol_disc_evaluation(discretize_tau_policy, **data)\n",
    "        \n",
    "        ## Best-in-class policy via regression\n",
    "        # find best in class policy \n",
    "#         d = x.shape[1]; beta = cvx.Variable(d)\n",
    "#         # Implement a thresholded loss\n",
    "#         cost = cvx.sum_entries(cvx.square(x[trainind,:]*beta)) # minimize y^2 \n",
    "#         constraints = [beta >=min(T)/(0.5*d) ]\n",
    "#         for i in range(d): \n",
    "#             constraints += [beta[i] <= max(T)/(0.5*d) ]\n",
    "#         prob = cvx.Problem(cvx.Minimize(cost), constraints)\n",
    "#         prob.solve('SCS')\n",
    "#         print beta.value\n",
    "#         prescient_beta = beta.value.flatten().T\n",
    "#         prescient_beta = np.ravel(prescient_beta).T\n",
    "        \n"
   ]
  },
  {
   "cell_type": "markdown",
   "metadata": {},
   "source": [
    "$$ \\beta^T X + \\beta_{x,T}*X\\circ T + (\\beta_{x,T^2}^T x - T)^2$$\n",
    "\n",
    "Suppose we replace T with the linear policy $\\beta_{\\tau}x$: \n",
    "\n",
    "$$ \\beta^T X + \\beta_{x,T}*X\\circ \\beta_{\\tau}X + ((\\beta_{x,T^2} - \\beta_{\\tau})^T X)^2 $$ \n",
    "\n",
    "If we derive wrt $\\beta_{\\tau x}$: \n",
    "\n",
    "$$ \\beta_{x,T}X +2(\\beta_{x,T^2}^T X - \\beta_{\\tau}X)X = 0 $$\n",
    "\n",
    "$$\\beta_{\\tau}^T X)X =  \\beta_{x,T}X +2\\beta_{x,T^2}^T X $$\n",
    "\n",
    "$$\\beta_{\\tau}^T  =  (\\beta_{x,T}X +2\\beta_{x,T^2}^T X)(X^TX)^{-1} $$"
   ]
  },
  {
   "cell_type": "code",
   "execution_count": 336,
   "metadata": {},
   "outputs": [
    {
     "name": "stdout",
     "output_type": "stream",
     "text": [
      "[-0.00435006  0.01131169  0.02045897  0.00788028 -0.00518324 -0.01321837\n",
      " -0.00207648  0.00110226  0.00821719  0.00261471]\n",
      "-5.13967400903\n"
     ]
    }
   ],
   "source": [
    "def oracle_eval_wrapper(beta, args): \n",
    "    data = dict(args)\n",
    "    t_lo = data['t_lo']; t_hi = data['t_hi']\n",
    "    tau = np.clip(np.dot(beta, data['x'].T) , t_lo, t_hi).flatten()\n",
    "    x = data['x']\n",
    "    return np.mean(real_risk(np.dot(tau, x), beta_cons, beta_x, beta_x_T, beta_x_quad_T, x))\n",
    "beta_d = np.random.uniform(size=(d,1))*5\n",
    "best_in_class = minimize(oracle_eval_wrapper, x0 = beta_d, bounds = bnds, options={'disp':True,'gtol':1e-1,'maxfun': 1000}, args=data.items())  \n",
    "print best_in_class.x\n",
    "print best_in_class.fun\n"
   ]
  },
  {
   "cell_type": "code",
   "execution_count": 281,
   "metadata": {},
   "outputs": [
    {
     "data": {
      "image/png": "[encoded data removed]",
      "text/plain": [
       "<matplotlib.figure.Figure at 0x115adb810>"
      ]
     },
     "metadata": {},
     "output_type": "display_data"
    },
    {
     "data": {
      "image/png": "[encoded data removed]",
      "text/plain": [
       "<matplotlib.figure.Figure at 0x11e6e8cd0>"
      ]
     },
     "metadata": {},
     "output_type": "display_data"
    },
    {
     "data": {
      "image/png": "[encoded data removed]",
      "text/plain": [
       "<matplotlib.figure.Figure at 0x11e651250>"
      ]
     },
     "metadata": {},
     "output_type": "display_data"
    },
    {
     "data": {
      "image/png": "[encoded data removed]",
      "text/plain": [
       "<matplotlib.figure.Figure at 0x11e4e6d90>"
      ]
     },
     "metadata": {},
     "output_type": "display_data"
    },
    {
     "data": {
      "text/plain": [
       "<matplotlib.figure.Figure at 0x11721b8d0>"
      ]
     },
     "metadata": {},
     "output_type": "display_data"
    }
   ],
   "source": [
    "\n",
    "def real_risk(T, beta_cons, beta_x, beta_x_T, beta_x_quad_T, x):    \n",
    "    n = len(T); risk = np.zeros(n)\n",
    "    if np.isscalar(T):\n",
    "        risk = T*beta_cons + np.dot(beta_x.T, x) + np.dot(beta_x_T.T, x*T) + (T-np.dot(beta_x_quad_T.T,x))**2\n",
    "    else: \n",
    "        for i in range(len(T)): \n",
    "            risk[i] = T[i]*beta_cons + np.dot(beta_x.T, x[i,:]) + np.dot(beta_x_T.T, x[i,:]*T[i]) + (T[i]-np.dot(beta_x_quad_T.T,x[i,:]))**2#+ np.dot(beta_x_quad_T.T, (x[i,:]**2)*T[i]) + np.dot(beta_x_high_freq.T, np.sin(x[i,0:HIGH_FREQ_N]*FREQ)*T[i])\n",
    "    return risk\n",
    "\n",
    "zero_T = np.zeros(n); \n",
    "# pred_T = np.dot(oracle_coefs[1][0], x.T)\n",
    "dr_T = np.dot(DR_oracle_coefs[1][0], x.T)\n",
    "colors = ['b', 'g', 'r', 'y','orange']\n",
    "EVALS = [zero_evals, mean_evals, DR_oracle_evals]\n",
    "\n",
    "# use scipy minimize (1D optimize outcome wrt T )\n",
    "def get_oracle_treatment(beta_cons, beta_x, beta_x_T, x): \n",
    "    res = minimize(real_risk, np.mean(T), args =(beta_cons, beta_x, beta_x_T, beta_x_quad_T, x))\n",
    "    return res.x \n",
    "\n",
    "POLICIES = [ zero_T, mu_T, dr_T ]\n",
    "lbls = ['zero treatment policy', 'mean treatment policy', 'DR treatment policy'   ]\n",
    "\n",
    "def plot_evals(evals, POLICY, X, c, lbl, ns, SAMP_N): \n",
    "    plt.axhline(y = Y_OFFSET + np.mean(real_risk(POLICY, beta_cons, beta_x, beta_x_T, beta_x_quad_T, x)),color=c)\n",
    "    plt.scatter(ns, np.mean(evals,axis=1),label=lbl,color=c)\n",
    "    error = 1.96*np.std(evals,axis=1)/np.sqrt(SAMP_N)\n",
    "    plt.fill_between(ns, np.mean(evals,axis=1)-error,np.mean(evals,axis=1)+error, alpha=0.3, edgecolor=c, facecolor=c)\n",
    "# plt.axhline(y = np.mean(real_risk(oracle_T beta_cons, beta_x, beta_x_T, x)))\n",
    "\n",
    "\n",
    "plt.figure()\n",
    "for j in range(len(ns)):\n",
    "    for i in range(SAMP_N): \n",
    "        plt.hist( np.asarray(real_risk(np.dot(DR_oracle_coefs[j][i], x.T), beta_cons, beta_x, beta_x_T, beta_x_quad_T, x)).flatten())\n",
    "\n",
    "plt.figure()\n",
    "[ plot_evals(EVALS[i], POLICIES[i], x, colors[i], lbls[i], ns, SAMP_N) for i in range(len(EVALS))]\n",
    "for j in range(len(ns)):\n",
    "    for i in range(SAMP_N): \n",
    "        plt.axhline(y = np.mean(real_risk(np.dot(oracle_coefs[j][i], x.T), beta_cons, beta_x, beta_x_T, beta_x_quad_T, x)),color='r')\n",
    "    for i in range(SAMP_N): \n",
    "        plt.axhline(y = np.mean(real_risk(np.dot(DR_oracle_coefs[j][i], x.T), beta_cons, beta_x, beta_x_T, beta_x_quad_T, x)),color='r')\n",
    "plt.axhline(y = np.mean(real_risk(np.dot(oracle_res.x, x.T), beta_cons, beta_x, beta_x_T, beta_x_quad_T, x)))\n",
    "\n",
    "plt.figure()\n",
    "plt.hist(real_risk(np.dot(oracle_res.x, x.T), beta_cons, beta_x, beta_x_T, beta_x_quad_T, x))\n",
    "# plt.axhline(y = np.mean(real_risk(pred_T, beta_cons, beta_x, beta_x_T, beta_x_quad_T, x)),color=c)\n",
    "plt.figure()\n",
    "plt.hist(real_risk(zero_T, beta_cons, beta_x, beta_x_T, beta_x_quad_T, x))\n",
    "\n",
    "\n",
    "# def plot_evals(evals, POLICY, X, c, lbl, ns, SAMP_N): \n",
    "#     plt.axhline(y = np.mean(real_risk(POLICY, beta_cons, beta_x, beta_x_T, x)),color=c)\n",
    "#     plt.scatter(ns, np.mean(evals,axis=1),label=lbl,color=c)\n",
    "#     error = 1.96*np.std(evals,axis=1)/np.sqrt(SAMP_N)\n",
    "#     plt.fill_between(ns, np.mean(evals,axis=1)-error,np.mean(evals,axis=1)+error, alpha=0.5, edgecolor=c, facecolor=c)\n",
    "# plt.axhline(y = np.mean(real_risk(oracle_T, beta_cons, beta_x, beta_x_T, x)))\n",
    "# [ plot_evals(EVALS[i], POLICIES[i], x, colors[i], lbls[i], ns, SAMP_N) for i in range(len(EVALS))]\n",
    "\n",
    "import pickle\n",
    "plt.figure()\n",
    "for i in range(len(EVALS)):  \n",
    "    pickle.dump(EVALS[i], open(str(datetime.datetime.now().strftime(\"%Y-%m-%d_%H-%M\")) +lbls[i]+ 'EVALS.p', 'wb'))\n",
    "    pickle.dump(POLICIES[i], open(str(datetime.datetime.now().strftime(\"%Y-%m-%d_%H-%M\")) +lbls[i]+ 'policy.p', 'wb'))\n",
    "    pickle.dump(oracle_coefs, open(str(datetime.datetime.now().strftime(\"%Y-%m-%d_%H-%M\")) +lbls[i]+ 'oracle_coefs.p', 'wb'))\n",
    "    pickle.dump(DR_oracle_coefs, open(str(datetime.datetime.now().strftime(\"%Y-%m-%d_%H-%M\")) +lbls[i]+ 'DR_oracle_coefs.p', 'wb'))\n",
    "\n"
   ]
  },
  {
   "cell_type": "code",
   "execution_count": 328,
   "metadata": {},
   "outputs": [
    {
     "data": {
      "text/plain": [
       "(array([  10.,   45.,  124.,  184.,  204.,  200.,  135.,   66.,   27.,    5.]),\n",
       " array([-13.49061212, -10.5721903 ,  -7.65376848,  -4.73534666,\n",
       "         -1.81692484,   1.10149698,   4.0199188 ,   6.93834062,\n",
       "          9.85676244,  12.77518426,  15.69360608]),\n",
       " <a list of 10 Patch objects>)"
      ]
     },
     "execution_count": 328,
     "metadata": {},
     "output_type": "execute_result"
    },
    {
     "data": {
      "image/png": "[encoded data removed]",
      "text/plain": [
       "<matplotlib.figure.Figure at 0x11c6a0190>"
      ]
     },
     "metadata": {},
     "output_type": "display_data"
    }
   ],
   "source": [
    "plt.hist(T)"
   ]
  },
  {
   "cell_type": "code",
   "execution_count": 452,
   "metadata": {},
   "outputs": [
    {
     "name": "stdout",
     "output_type": "stream",
     "text": [
      "Calibrating clip to  6.93507159806\n",
      "Calibrating variance regularizer to  774.172130334\n",
      "PRM(Self-Normalized-ERM)  Best. Parameter =  {'varpenalty': 0.0, 'l2reg': 0, 'clip': 6.9350715980596425} Time:  0.0185790061951  ClippedDiagnostic:  2.81444380731e-06 UnclippedDiagnostic:  2.81444380731e-06  Performance:  None\n"
     ]
    }
   ],
   "source": [
    "# Impute POEM \n",
    "import sys\n",
    "sys.path.append('./POEM-norm/')\n",
    "import DatasetReader, Skylines\n",
    "\n",
    "def norm_T_Q(x,t,t_lo,t_hi): \n",
    "    return norm.pdf( t - np.dot(x, TRUE_PROP_BETA), loc = 0, scale = T_SIG )\n",
    "\n",
    "t_lo = min(T)\n",
    "t_hi = max(T)\n",
    "bins = np.linspace(t_lo, t_hi, n_bins)\n",
    "bin_width = (t_hi-t_lo)*1.0/n_bins\n",
    "T_binned = np.digitize(T, bins,right=True).flatten()\n",
    "bin_means = [T[T_binned == i].mean() for i in range(1, n_bins)]\n",
    "Xtrain = x[trainind,:]\n",
    "ttrain = T_binned[trainind]\n",
    "\n",
    "gps = np.asarray([bin_width*norm_T_Q(x[i,:], bin_means[ttrain[i]-1], 0.5, 0.5 ) for i in range(len(trainind))])\n",
    "# all 0-1\n",
    "# gps = integrated_propensity_scores\n",
    "ytrain = Y[trainind]\n",
    "Xtest = x\n",
    "\n",
    "mydata = DatasetReader.BanditDataset(None,False)\n",
    "mydata.trainFeatures        = np.hstack((Xtrain.copy(),np.ones((len(Xtrain),1))))\n",
    "mydata.sampledLabels        = np.zeros((len(ttrain),max(ttrain)+1))\n",
    "mydata.sampledLabels[range(len(ttrain)),ttrain] = 1.\n",
    "mydata.trainLabels          = np.empty(mydata.sampledLabels.shape)\n",
    "mydata.sampledLoss          = ytrain.copy()\n",
    "mydata.sampledLoss         -= mydata.sampledLoss.min()\n",
    "mydata.sampledLoss         /= mydata.sampledLoss.max()\n",
    "# computed on training set \n",
    "mydata.sampledLogPropensity = np.log(gps)\n",
    "#ones_like vs ones_line? \n",
    "mydata.testFeatures              = np.hstack((np.ones_like(Xtest),np.ones((len(Xtest),1))))\n",
    "mydata.testLabels                = np.array([])\n",
    "mydata.createTrainValidateSplit()\n",
    "pool = None \n",
    "coef = None\n",
    "\n",
    "maj = Skylines.PRMWrapper(mydata, n_iter = 1000, tol = 1e-6, minC = 0, maxC = -1, minV = 0, maxV = -1,\n",
    "                            minClip = 0, maxClip = 0, estimator_type = 'Self-Normalized', verbose = True,\n",
    "                            parallel = pool, smartStart = coef)\n",
    "maj.calibrateHyperParams()\n",
    "maj.validate()\n",
    "Xtest1 = np.hstack((Xtest,np.ones((len(Xtest),1))))\n",
    "rec = Xtest1.dot(maj.labeler.coef_).argmax(1)\n",
    "\n"
   ]
  },
  {
   "cell_type": "code",
   "execution_count": 375,
   "metadata": {},
   "outputs": [
    {
     "data": {
      "text/plain": [
       "[-11.981815426936143,\n",
       " -9.0064932552158528,\n",
       " -5.5881381267090555,\n",
       " -1.8942891665267862,\n",
       " 1.6293399730948344,\n",
       " 5.3301456637254274,\n",
       " 8.7249863215911514,\n",
       " 12.268056421501164,\n",
       " 15.814595553523269]"
      ]
     },
     "execution_count": 375,
     "metadata": {},
     "output_type": "execute_result"
    }
   ],
   "source": []
  },
  {
   "cell_type": "code",
   "execution_count": 453,
   "metadata": {},
   "outputs": [
    {
     "name": "stdout",
     "output_type": "stream",
     "text": [
      "100.353197267\n",
      "79.9704574287\n"
     ]
    },
    {
     "data": {
      "text/plain": [
       "(array([  11.,  312.,  201.,  171.,  152.,   88.,   33.,   24.,    6.,    2.]),\n",
       " array([ -86.73588356,  -28.25840323,   30.21907711,   88.69655744,\n",
       "         147.17403778,  205.65151811,  264.12899844,  322.60647878,\n",
       "         381.08395911,  439.56143945,  498.03891978]),\n",
       " <a list of 10 Patch objects>)"
      ]
     },
     "execution_count": 453,
     "metadata": {},
     "output_type": "execute_result"
    },
    {
     "data": {
      "image/png": "[encoded data removed]",
      "text/plain": [
       "<matplotlib.figure.Figure at 0x11e429fd0>"
      ]
     },
     "metadata": {},
     "output_type": "display_data"
    }
   ],
   "source": [
    "POEM_pol =  [bin_means[rec[i]-1] for i in range(n)]  \n",
    "# print POEM_pol\n",
    "POEM_risk = real_risk(POEM_pol, beta_cons, beta_x, beta_x_T, beta_x_quad_T, x)\n",
    "print np.mean(POEM_risk)\n",
    "print np.median(POEM_risk)\n",
    "plt.hist(POEM_risk)\n"
   ]
  },
  {
   "cell_type": "code",
   "execution_count": 295,
   "metadata": {},
   "outputs": [
    {
     "data": {
      "text/plain": [
       "array([[ -1.51635123,  -0.76968095,   0.0332445 , ...,  -0.58029878,\n",
       "          0.68329363,   3.17487636],\n",
       "       [ -0.09633913,  -3.02051254,   0.62410646, ...,  -0.16831035,\n",
       "         -1.88969581,  -0.93700002],\n",
       "       [  1.28295978,   1.55285965,   0.70334812, ...,   0.33922146,\n",
       "          0.32607988,  11.66598013],\n",
       "       ..., \n",
       "       [ -0.84835847,  -1.78056669,   0.28752181, ...,   0.45480389,\n",
       "          0.97962469,   0.69258063],\n",
       "       [ -0.41519852,  -0.65276462,  -0.31912961, ...,  -0.38795049,\n",
       "          1.01675513,   3.16505215],\n",
       "       [  0.32207699,  -2.34564014,   0.25879004, ...,  -0.92527222,\n",
       "         -0.46216755,   5.78096866]])"
      ]
     },
     "execution_count": 295,
     "metadata": {},
     "output_type": "execute_result"
    }
   ],
   "source": [
    "X_w_dose"
   ]
  },
  {
   "cell_type": "markdown",
   "metadata": {},
   "source": [
    "DM with random forest regressor"
   ]
  },
  {
   "cell_type": "code",
   "execution_count": 377,
   "metadata": {},
   "outputs": [
    {
     "name": "stdout",
     "output_type": "stream",
     "text": [
      "0.876501283585\n",
      "[-0.14869785 -1.94284229  0.29220843  0.07710959  0.6036456  -0.02156021\n",
      "  0.00812235  0.23521679  0.38506636  0.28939633]\n"
     ]
    }
   ],
   "source": [
    "from sklearn.ensemble import RandomForestRegressor\n",
    "\n",
    "X_w_dose = np.column_stack((x, T))\n",
    "X_w_dose.shape\n",
    "\n",
    "clf = RandomForestRegressor(n_estimators=10)\n",
    "\n",
    "clf = clf.fit(X_w_dose[trainind,:],y=Y[trainind])\n",
    "data['x_full'] = X_w_dose[trainind,:]\n",
    "data['rf'] = clf\n",
    "print clf.score(X_w_dose,Y)\n",
    "\n",
    "def dm_wrapper(beta, args): \n",
    "    reg_lambda = 0.5\n",
    "    data = dict(args)\n",
    "    t_lo = data['t_lo']; t_hi = data['t_hi']\n",
    "    x = data['x_full']\n",
    "    clf = data['rf']\n",
    "    tau = np.clip(np.dot( beta, x[:,:-1].T ), t_lo, t_hi).flatten()\n",
    "    counterfactual_X = np.column_stack((x[:,:-1], tau))\n",
    "    return (np.mean( clf.predict( counterfactual_X )) + reg_lambda * np.linalg.norm( beta, 2 )) \n",
    "\n",
    "dm_res = minimize(dm_wrapper, x0 = beta_d, bounds = bnds, options={'disp':True,'gtol':1e-1,'maxfun': 1000,'eps':np.ones(d)*1e-1}, args=data.items()) \n",
    "print dm_res.x\n",
    "\n"
   ]
  },
  {
   "cell_type": "code",
   "execution_count": 378,
   "metadata": {},
   "outputs": [
    {
     "data": {
      "text/plain": [
       "0.56422025353847105"
      ]
     },
     "execution_count": 378,
     "metadata": {},
     "output_type": "execute_result"
    }
   ],
   "source": [
    "np.mean(T)"
   ]
  },
  {
   "cell_type": "code",
   "execution_count": 379,
   "metadata": {},
   "outputs": [
    {
     "data": {
      "text/plain": [
       "0.19847593763428459"
      ]
     },
     "execution_count": 379,
     "metadata": {},
     "output_type": "execute_result"
    },
    {
     "data": {
      "image/png": "[encoded data removed]",
      "text/plain": [
       "<matplotlib.figure.Figure at 0x11cce6b10>"
      ]
     },
     "metadata": {},
     "output_type": "display_data"
    }
   ],
   "source": [
    "\n",
    "dm_T = np.dot(dm_res.x, x_test.T)\n",
    "\n",
    "plt.hist(real_risk(dm_T, beta_cons, beta_x, beta_x_T, beta_x_quad_T, x_test))\n",
    "np.mean(real_risk(dm_T, beta_cons, beta_x, beta_x_T, beta_x_quad_T, x_test))"
   ]
  },
  {
   "cell_type": "code",
   "execution_count": 380,
   "metadata": {
    "collapsed": true
   },
   "outputs": [],
   "source": [
    "def get_oracle_treatment(beta_cons, beta_x, beta_x_T, beta_x_quad_T, x): \n",
    "    res = minimize(real_risk_scalar, np.mean(T), args =(beta_cons, beta_x, beta_x_T, beta_x_quad_T,x))\n",
    "    return res.x \n",
    "n_test = x_test.shape[0]\n",
    "oracle_T = [ get_oracle_treatment(beta_cons, beta_x, beta_x_T, beta_x_quad_T, x_test[i,:]) for i in range(n_test)]\n",
    "\n"
   ]
  },
  {
   "cell_type": "code",
   "execution_count": 402,
   "metadata": {},
   "outputs": [
    {
     "data": {
      "text/plain": [
       "(array([   1.,    6.,   15.,   68.,  142.,  178.,  194.,  107.,   31.,    7.]),\n",
       " array([ -5.83865989e-08,  -4.84677142e-08,  -3.85488295e-08,\n",
       "         -2.86299449e-08,  -1.87110602e-08,  -8.79217548e-09,\n",
       "          1.12670921e-09,   1.10455939e-08,   2.09644786e-08,\n",
       "          3.08833633e-08,   4.08022480e-08]),\n",
       " <a list of 10 Patch objects>)"
      ]
     },
     "execution_count": 402,
     "metadata": {},
     "output_type": "execute_result"
    },
    {
     "data": {
      "image/png": "[encoded data removed]",
      "text/plain": [
       "<matplotlib.figure.Figure at 0x11e406350>"
      ]
     },
     "metadata": {},
     "output_type": "display_data"
    }
   ],
   "source": [
    "plt.hist(np.dot(disc_res.x, x_test.T))"
   ]
  },
  {
   "cell_type": "code",
   "execution_count": 429,
   "metadata": {},
   "outputs": [
    {
     "data": {
      "text/plain": [
       "(749, 10)"
      ]
     },
     "execution_count": 429,
     "metadata": {},
     "output_type": "execute_result"
    }
   ],
   "source": [
    "x_test.shape"
   ]
  },
  {
   "cell_type": "code",
   "execution_count": 433,
   "metadata": {},
   "outputs": [
    {
     "data": {
      "text/plain": [
       "(array([   0.,    0.,    0.,    0.,    0.,  749.,    0.,    0.,    0.,    0.]),\n",
       " array([ 1.12933997,  1.22933997,  1.32933997,  1.42933997,  1.52933997,\n",
       "         1.62933997,  1.72933997,  1.82933997,  1.92933997,  2.02933997,\n",
       "         2.12933997]),\n",
       " <a list of 10 Patch objects>)"
      ]
     },
     "execution_count": 433,
     "metadata": {},
     "output_type": "execute_result"
    },
    {
     "data": {
      "image/png": "[encoded data removed]",
      "text/plain": [
       "<matplotlib.figure.Figure at 0x11383f410>"
      ]
     },
     "metadata": {},
     "output_type": "display_data"
    }
   ],
   "source": [
    "data['x']\n",
    "data['tau'] = np.dot(disc_res.x, x_test.T)\n",
    "disc_pol_binned = np.digitize(np.dot(disc_res.x, x_test.T), bins).flatten()\n",
    "disc_pol = np.asarray( [bin_means[disc_pol_binned[i] - 1] for i in range(x_test.shape[0])] )\n",
    "plt.hist(disc_pol)"
   ]
  },
  {
   "cell_type": "code",
   "execution_count": 437,
   "metadata": {
    "collapsed": true
   },
   "outputs": [],
   "source": [
    "\n",
    "def cons_pol_wrapper(beta, args): \n",
    "    data = dict(args)\n",
    "    t_lo = data['t_lo']; t_hi = data['t_hi']\n",
    "    tau = beta*np.ones(data['n'])\n",
    "    data['tau'] = tau\n",
    "    return data['sgn']*(off_policy_evaluation(**data))\n",
    "beta_t = np.random.uniform()*4\n",
    "bnds_t = tuple([(-15,15)])\n",
    "cons_res = minimize(cons_pol_wrapper, x0 = beta_t, bounds = bnds_t, options={'disp':True,'gtol':1e-1,'maxfun': 1000}, args=data.items())\n",
    "\n",
    "\n"
   ]
  },
  {
   "cell_type": "code",
   "execution_count": null,
   "metadata": {
    "collapsed": true
   },
   "outputs": [],
   "source": [
    "5"
   ]
  },
  {
   "cell_type": "code",
   "execution_count": null,
   "metadata": {
    "collapsed": true
   },
   "outputs": [],
   "source": [
    "%matplotlib inline\n",
    "plt.style.use('seaborn-white')\n",
    "plt.figure()\n",
    "\n",
    "# Use the same simulated loss function to estimate differences\n",
    "TRUE_ORACLE = real_risk(oracle_T, beta_cons, beta_x, beta_x_T, beta_x_quad_T, x_test)\n",
    "oracle_loss = real_risk(np.dot(best_in_class.x, x_test.T), beta_cons, beta_x, beta_x_T, beta_x_quad_T, x_test)\n",
    "zero_pol = real_risk(np.zeros(n_test), beta_cons, beta_x, beta_x_T, beta_x_quad_T, x_test)\n",
    "mu_pol = real_risk(np.ones(n_test)*np.mean(T), beta_cons, beta_x, beta_x_T, beta_x_quad_T, x_test)\n",
    "DM = real_risk(np.dot(dm_res.x, x_test.T), beta_cons, beta_x, beta_x_T, beta_x_quad_T, x_test)\n",
    "DR_oracle = real_risk(np.dot(DR_oracle_coefs[1][3],x_test.T), beta_cons, beta_x, beta_x_T, beta_x_quad_T, x_test)\n",
    "off_pol = real_risk(np.dot(oracle_coefs[1][1],x_test.T), beta_cons, beta_x, beta_x_T, beta_x_quad_T, x_test)\n",
    "disc_pol_norms = real_risk(disc_pol, beta_cons, beta_x, beta_x_T, beta_x_quad_T, x_test)\n",
    "best_constant = real_risk(cons_res.x*np.ones(n_test), beta_cons, beta_x, beta_x_T, beta_x_quad_T, x_test)\n",
    "\n",
    "\n",
    "original = real_risk(T, beta_cons, beta_x, beta_x_T, beta_x_quad_T, x)\n",
    "\n",
    "norms = [TRUE_ORACLE, off_pol,DR_oracle,DM, disc_pol_norms,best_constant, mu_pol, original ]\n",
    "\n",
    "plt.figure(figsize=(4.5,3))\n",
    "plt.ylabel('Thresholded absolute policy loss')\n",
    "flierprops = dict(linestyle='-',color='black')\n",
    "\n",
    "# prefer to turn off mean line\n",
    "medianprops = dict(linestyle='', linewidth=0, color='firebrick')\n",
    "f=plt.figure(figsize=(4.5,2.5))\n",
    "bp_dict = plt.boxplot(norms,sym='', showmeans = True, meanline=True,medianprops=medianprops)\n",
    "plt.ylabel('Outcome (loss)')\n",
    "for whisker in bp_dict['whiskers']:\n",
    "    whisker.set(color='#000000',linestyle='solid')\n",
    "for box in bp_dict['boxes']:\n",
    "    # change outline color\n",
    "    box.set( color='#000000')\n",
    "for ind,line in enumerate(bp_dict['means']):\n",
    "    # get position data for means line\n",
    "    xx, y = line.get_xydata()[1] # top of means line\n",
    "    if ind == 7: \n",
    "        plt.text(xx-1, 30, '%.1f' % y, horizontalalignment='center',size=13) # draw above, centered\n",
    "    # overlay median value\n",
    "    else:\n",
    "        plt.text(xx+0.2, -35, '%.1f' % y, horizontalalignment='center',size=13) # draw above, centered\n",
    "# top = 60\n",
    "# bottom = 0\n",
    "# plt.ylim(bottom, top)\n",
    "# plt.title('Boxplot of distances between policy-recommended doses and therapeutic doses',y = 1.2)\n",
    "# plt.axhline(y=np.mean(mean_dose_pol_norm), xmin=0,xmax=1,color='g', ls='dashdot',linewidth=0.7)\n",
    "# plt.axhline(y=0, xmin=0,xmax=1,color='g',alpha=0.3, ls='dashed',linewidth=0.7)\n",
    "plt.xticks([1, 2, 3,4,5,6,7,8], ['best o.o.c.', 'CPO', 'DR CPO', 'DM','Disc. CPO','CPE, cons.', 'Mean','Original'])\n",
    "plt.xticks(rotation=25)\n",
    "plt.ylim((-40,40))\n",
    "ax = plt.subplot(111)\n",
    "ax.spines['right'].set_visible(False)\n",
    "ax.spines['top'].set_visible(False)\n",
    "\n",
    "# Only show ticks on the left and bottom spines\n",
    "ax.yaxis.set_ticks_position('left')\n",
    "ax.xaxis.set_ticks_position('bottom')\n",
    "f.savefig(\"boxplot_risks.pdf\", bbox_inches='tight')\n",
    "\n",
    "\n",
    "\n",
    "\n",
    "plt.show()\n",
    "\n",
    "f= plt.figure()\n",
    "plt.violinplot(norms)\n",
    "plt.xticks([1, 2, 3,4,5,6,7,8], ['Best o.o.c.','OPE', 'DR OPE','DM','Disc. OPE','OPE, cons.','Mean','Original'],size = 13)\n",
    "plt.xticks(rotation=25)\n",
    "plt.ylim((-90,70))\n",
    "for ind,line in enumerate(bp_dict['means']):\n",
    "    # get position data for means line\n",
    "    xx, y = line.get_xydata()[1] # top of means line\n",
    "    if ind == 6: \n",
    "        plt.text(xx+0.05, y+3.5, '%.1f' % y, horizontalalignment='center',size=13) # draw above, centered\n",
    "    # overlay median value\n",
    "    else:\n",
    "        plt.text(xx+0.24, y+3.5, '%.1f' % y, horizontalalignment='center',size=13) # draw above, centered\n",
    "\n",
    "        \n",
    "f.savefig(\"violin_plot_risks.pdf\", bbox_inches='tight')\n"
   ]
  },
  {
   "cell_type": "code",
   "execution_count": null,
   "metadata": {
    "collapsed": true
   },
   "outputs": [],
   "source": [
    "5"
   ]
  },
  {
   "cell_type": "code",
   "execution_count": 390,
   "metadata": {},
   "outputs": [
    {
     "name": "stderr",
     "output_type": "stream",
     "text": [
      "/Users/az/anaconda/lib/python2.7/site-packages/statsmodels/nonparametric/kernel_regression.py:273: RuntimeWarning: divide by zero encountered in double_scalars\n",
      "  (1 - (np.trace(H) + 2) / float(self.nobs))\n"
     ]
    },
    {
     "ename": "KeyboardInterrupt",
     "evalue": "",
     "output_type": "error",
     "traceback": [
      "\u001b[0;31m---------------------------------------------------------------------------\u001b[0m",
      "\u001b[0;31mKeyboardInterrupt\u001b[0m                         Traceback (most recent call last)",
      "\u001b[0;32m<ipython-input-390-e056c2ac4929>\u001b[0m in \u001b[0;36m<module>\u001b[0;34m()\u001b[0m\n\u001b[1;32m      5\u001b[0m \u001b[0msettings\u001b[0m \u001b[0;34m=\u001b[0m \u001b[0mEstimatorSettings\u001b[0m\u001b[0;34m(\u001b[0m\u001b[0mefficient\u001b[0m \u001b[0;34m=\u001b[0m \u001b[0mTrue\u001b[0m\u001b[0;34m,\u001b[0m \u001b[0mrandomize\u001b[0m\u001b[0;34m=\u001b[0m\u001b[0mTrue\u001b[0m\u001b[0;34m)\u001b[0m\u001b[0;34m\u001b[0m\u001b[0m\n\u001b[1;32m      6\u001b[0m \u001b[0mlist_data\u001b[0m \u001b[0;34m=\u001b[0m \u001b[0;34m[\u001b[0m \u001b[0mx\u001b[0m\u001b[0;34m[\u001b[0m\u001b[0mtrainind\u001b[0m\u001b[0;34m,\u001b[0m\u001b[0mi\u001b[0m\u001b[0;34m]\u001b[0m \u001b[0;32mfor\u001b[0m \u001b[0mi\u001b[0m \u001b[0;32min\u001b[0m \u001b[0mrange\u001b[0m\u001b[0;34m(\u001b[0m\u001b[0md\u001b[0m\u001b[0;34m)\u001b[0m \u001b[0;34m]\u001b[0m \u001b[0;34m+\u001b[0m \u001b[0;34m[\u001b[0m\u001b[0mT\u001b[0m\u001b[0;34m[\u001b[0m\u001b[0mtrainind\u001b[0m\u001b[0;34m]\u001b[0m\u001b[0;34m]\u001b[0m\u001b[0;34m\u001b[0m\u001b[0m\n\u001b[0;32m----> 7\u001b[0;31m \u001b[0mkernel_regr\u001b[0m \u001b[0;34m=\u001b[0m \u001b[0mKernelReg\u001b[0m\u001b[0;34m(\u001b[0m\u001b[0mendog\u001b[0m \u001b[0;34m=\u001b[0m \u001b[0;34m[\u001b[0m\u001b[0mY\u001b[0m\u001b[0;34m[\u001b[0m\u001b[0mtrainind\u001b[0m\u001b[0;34m]\u001b[0m\u001b[0;34m.\u001b[0m\u001b[0mreshape\u001b[0m\u001b[0;34m(\u001b[0m\u001b[0;34m[\u001b[0m\u001b[0mlen\u001b[0m\u001b[0;34m(\u001b[0m\u001b[0mtrainind\u001b[0m\u001b[0;34m)\u001b[0m\u001b[0;34m,\u001b[0m\u001b[0;36m1\u001b[0m\u001b[0;34m]\u001b[0m\u001b[0;34m)\u001b[0m\u001b[0;34m]\u001b[0m\u001b[0;34m,\u001b[0m \u001b[0mexog\u001b[0m\u001b[0;34m=\u001b[0m\u001b[0mlist_data\u001b[0m\u001b[0;34m,\u001b[0m \u001b[0mvar_type\u001b[0m\u001b[0;34m=\u001b[0m\u001b[0;34m[\u001b[0m\u001b[0;34m'c'\u001b[0m\u001b[0;34m]\u001b[0m\u001b[0;34m*\u001b[0m\u001b[0mlen\u001b[0m\u001b[0;34m(\u001b[0m\u001b[0mlist_data\u001b[0m\u001b[0;34m)\u001b[0m\u001b[0;34m,\u001b[0m\u001b[0mbw\u001b[0m\u001b[0;34m=\u001b[0m\u001b[0;34m'aic'\u001b[0m\u001b[0;34m,\u001b[0m\u001b[0mdefaults\u001b[0m \u001b[0;34m=\u001b[0m \u001b[0msettings\u001b[0m \u001b[0;34m)\u001b[0m\u001b[0;34m\u001b[0m\u001b[0m\n\u001b[0m",
      "\u001b[0;32m/Users/az/anaconda/lib/python2.7/site-packages/statsmodels/nonparametric/kernel_regression.pyc\u001b[0m in \u001b[0;36m__init__\u001b[0;34m(self, endog, exog, var_type, reg_type, bw, defaults)\u001b[0m\n\u001b[1;32m    108\u001b[0m             \u001b[0mself\u001b[0m\u001b[0;34m.\u001b[0m\u001b[0mbw\u001b[0m \u001b[0;34m=\u001b[0m \u001b[0mself\u001b[0m\u001b[0;34m.\u001b[0m\u001b[0m_compute_reg_bw\u001b[0m\u001b[0;34m(\u001b[0m\u001b[0mbw\u001b[0m\u001b[0;34m)\u001b[0m\u001b[0;34m\u001b[0m\u001b[0m\n\u001b[1;32m    109\u001b[0m         \u001b[0;32melse\u001b[0m\u001b[0;34m:\u001b[0m\u001b[0;34m\u001b[0m\u001b[0m\n\u001b[0;32m--> 110\u001b[0;31m             \u001b[0mself\u001b[0m\u001b[0;34m.\u001b[0m\u001b[0mbw\u001b[0m \u001b[0;34m=\u001b[0m \u001b[0mself\u001b[0m\u001b[0;34m.\u001b[0m\u001b[0m_compute_efficient\u001b[0m\u001b[0;34m(\u001b[0m\u001b[0mbw\u001b[0m\u001b[0;34m)\u001b[0m\u001b[0;34m\u001b[0m\u001b[0m\n\u001b[0m\u001b[1;32m    111\u001b[0m \u001b[0;34m\u001b[0m\u001b[0m\n\u001b[1;32m    112\u001b[0m     \u001b[0;32mdef\u001b[0m \u001b[0m_compute_reg_bw\u001b[0m\u001b[0;34m(\u001b[0m\u001b[0mself\u001b[0m\u001b[0;34m,\u001b[0m \u001b[0mbw\u001b[0m\u001b[0;34m)\u001b[0m\u001b[0;34m:\u001b[0m\u001b[0;34m\u001b[0m\u001b[0m\n",
      "\u001b[0;32m/Users/az/anaconda/lib/python2.7/site-packages/statsmodels/nonparametric/_kernel_base.pyc\u001b[0m in \u001b[0;36m_compute_efficient\u001b[0;34m(self, bw)\u001b[0m\n\u001b[1;32m    218\u001b[0m                                            \u001b[0mn_cvars\u001b[0m\u001b[0;34m,\u001b[0m \u001b[0mix_ord\u001b[0m\u001b[0;34m,\u001b[0m \u001b[0mix_unord\u001b[0m\u001b[0;34m,\u001b[0m \u001b[0mn_sub\u001b[0m\u001b[0;34m,\u001b[0m\u001b[0;34m\u001b[0m\u001b[0m\n\u001b[1;32m    219\u001b[0m                                            \u001b[0mclass_vars\u001b[0m\u001b[0;34m,\u001b[0m \u001b[0mself\u001b[0m\u001b[0;34m.\u001b[0m\u001b[0mrandomize\u001b[0m\u001b[0;34m,\u001b[0m\u001b[0;34m\u001b[0m\u001b[0m\n\u001b[0;32m--> 220\u001b[0;31m                                            bounds[i]))\n\u001b[0m\u001b[1;32m    221\u001b[0m \u001b[0;34m\u001b[0m\u001b[0m\n\u001b[1;32m    222\u001b[0m         \u001b[0;32mfor\u001b[0m \u001b[0mi\u001b[0m \u001b[0;32min\u001b[0m \u001b[0mrange\u001b[0m\u001b[0;34m(\u001b[0m\u001b[0mn_blocks\u001b[0m\u001b[0;34m)\u001b[0m\u001b[0;34m:\u001b[0m\u001b[0;34m\u001b[0m\u001b[0m\n",
      "\u001b[0;32m/Users/az/anaconda/lib/python2.7/site-packages/statsmodels/nonparametric/_kernel_base.pyc\u001b[0m in \u001b[0;36m_compute_subset\u001b[0;34m(class_type, data, bw, co, do, n_cvars, ix_ord, ix_unord, n_sub, class_vars, randomize, bound)\u001b[0m\n\u001b[1;32m     79\u001b[0m         sub_model = KernelReg(endog=endog, exog=exog, reg_type=reg_type,\n\u001b[1;32m     80\u001b[0m                               \u001b[0mvar_type\u001b[0m\u001b[0;34m=\u001b[0m\u001b[0mvar_type\u001b[0m\u001b[0;34m,\u001b[0m \u001b[0mbw\u001b[0m\u001b[0;34m=\u001b[0m\u001b[0mbw\u001b[0m\u001b[0;34m,\u001b[0m\u001b[0;34m\u001b[0m\u001b[0m\n\u001b[0;32m---> 81\u001b[0;31m                               defaults=EstimatorSettings(efficient=False))\n\u001b[0m\u001b[1;32m     82\u001b[0m     \u001b[0;32melse\u001b[0m\u001b[0;34m:\u001b[0m\u001b[0;34m\u001b[0m\u001b[0m\n\u001b[1;32m     83\u001b[0m         raise ValueError(\"class_type not recognized, should be one of \" \\\n",
      "\u001b[0;32m/Users/az/anaconda/lib/python2.7/site-packages/statsmodels/nonparametric/kernel_regression.pyc\u001b[0m in \u001b[0;36m__init__\u001b[0;34m(self, endog, exog, var_type, reg_type, bw, defaults)\u001b[0m\n\u001b[1;32m    106\u001b[0m         \u001b[0mself\u001b[0m\u001b[0;34m.\u001b[0m\u001b[0m_set_defaults\u001b[0m\u001b[0;34m(\u001b[0m\u001b[0mdefaults\u001b[0m\u001b[0;34m)\u001b[0m\u001b[0;34m\u001b[0m\u001b[0m\n\u001b[1;32m    107\u001b[0m         \u001b[0;32mif\u001b[0m \u001b[0;32mnot\u001b[0m \u001b[0mself\u001b[0m\u001b[0;34m.\u001b[0m\u001b[0mefficient\u001b[0m\u001b[0;34m:\u001b[0m\u001b[0;34m\u001b[0m\u001b[0m\n\u001b[0;32m--> 108\u001b[0;31m             \u001b[0mself\u001b[0m\u001b[0;34m.\u001b[0m\u001b[0mbw\u001b[0m \u001b[0;34m=\u001b[0m \u001b[0mself\u001b[0m\u001b[0;34m.\u001b[0m\u001b[0m_compute_reg_bw\u001b[0m\u001b[0;34m(\u001b[0m\u001b[0mbw\u001b[0m\u001b[0;34m)\u001b[0m\u001b[0;34m\u001b[0m\u001b[0m\n\u001b[0m\u001b[1;32m    109\u001b[0m         \u001b[0;32melse\u001b[0m\u001b[0;34m:\u001b[0m\u001b[0;34m\u001b[0m\u001b[0m\n\u001b[1;32m    110\u001b[0m             \u001b[0mself\u001b[0m\u001b[0;34m.\u001b[0m\u001b[0mbw\u001b[0m \u001b[0;34m=\u001b[0m \u001b[0mself\u001b[0m\u001b[0;34m.\u001b[0m\u001b[0m_compute_efficient\u001b[0m\u001b[0;34m(\u001b[0m\u001b[0mbw\u001b[0m\u001b[0;34m)\u001b[0m\u001b[0;34m\u001b[0m\u001b[0m\n",
      "\u001b[0;32m/Users/az/anaconda/lib/python2.7/site-packages/statsmodels/nonparametric/kernel_regression.pyc\u001b[0m in \u001b[0;36m_compute_reg_bw\u001b[0;34m(self, bw)\u001b[0m\n\u001b[1;32m    124\u001b[0m             \u001b[0mfunc\u001b[0m \u001b[0;34m=\u001b[0m \u001b[0mself\u001b[0m\u001b[0;34m.\u001b[0m\u001b[0mest\u001b[0m\u001b[0;34m[\u001b[0m\u001b[0mself\u001b[0m\u001b[0;34m.\u001b[0m\u001b[0mreg_type\u001b[0m\u001b[0;34m]\u001b[0m\u001b[0;34m\u001b[0m\u001b[0m\n\u001b[1;32m    125\u001b[0m             bw_estimated = optimize.fmin(res, x0=h0, args=(func, ),\n\u001b[0;32m--> 126\u001b[0;31m                                          maxiter=1e3, maxfun=1e3, disp=0)\n\u001b[0m\u001b[1;32m    127\u001b[0m             \u001b[0;32mreturn\u001b[0m \u001b[0mbw_estimated\u001b[0m\u001b[0;34m\u001b[0m\u001b[0m\n\u001b[1;32m    128\u001b[0m \u001b[0;34m\u001b[0m\u001b[0m\n",
      "\u001b[0;32m/Users/az/anaconda/lib/python2.7/site-packages/scipy/optimize/optimize.pyc\u001b[0m in \u001b[0;36mfmin\u001b[0;34m(func, x0, args, xtol, ftol, maxiter, maxfun, full_output, disp, retall, callback, initial_simplex)\u001b[0m\n\u001b[1;32m    391\u001b[0m             'initial_simplex': initial_simplex}\n\u001b[1;32m    392\u001b[0m \u001b[0;34m\u001b[0m\u001b[0m\n\u001b[0;32m--> 393\u001b[0;31m     \u001b[0mres\u001b[0m \u001b[0;34m=\u001b[0m \u001b[0m_minimize_neldermead\u001b[0m\u001b[0;34m(\u001b[0m\u001b[0mfunc\u001b[0m\u001b[0;34m,\u001b[0m \u001b[0mx0\u001b[0m\u001b[0;34m,\u001b[0m \u001b[0margs\u001b[0m\u001b[0;34m,\u001b[0m \u001b[0mcallback\u001b[0m\u001b[0;34m=\u001b[0m\u001b[0mcallback\u001b[0m\u001b[0;34m,\u001b[0m \u001b[0;34m**\u001b[0m\u001b[0mopts\u001b[0m\u001b[0;34m)\u001b[0m\u001b[0;34m\u001b[0m\u001b[0m\n\u001b[0m\u001b[1;32m    394\u001b[0m     \u001b[0;32mif\u001b[0m \u001b[0mfull_output\u001b[0m\u001b[0;34m:\u001b[0m\u001b[0;34m\u001b[0m\u001b[0m\n\u001b[1;32m    395\u001b[0m         \u001b[0mretlist\u001b[0m \u001b[0;34m=\u001b[0m \u001b[0mres\u001b[0m\u001b[0;34m[\u001b[0m\u001b[0;34m'x'\u001b[0m\u001b[0;34m]\u001b[0m\u001b[0;34m,\u001b[0m \u001b[0mres\u001b[0m\u001b[0;34m[\u001b[0m\u001b[0;34m'fun'\u001b[0m\u001b[0;34m]\u001b[0m\u001b[0;34m,\u001b[0m \u001b[0mres\u001b[0m\u001b[0;34m[\u001b[0m\u001b[0;34m'nit'\u001b[0m\u001b[0;34m]\u001b[0m\u001b[0;34m,\u001b[0m \u001b[0mres\u001b[0m\u001b[0;34m[\u001b[0m\u001b[0;34m'nfev'\u001b[0m\u001b[0;34m]\u001b[0m\u001b[0;34m,\u001b[0m \u001b[0mres\u001b[0m\u001b[0;34m[\u001b[0m\u001b[0;34m'status'\u001b[0m\u001b[0;34m]\u001b[0m\u001b[0;34m\u001b[0m\u001b[0m\n",
      "\u001b[0;32m/Users/az/anaconda/lib/python2.7/site-packages/scipy/optimize/optimize.pyc\u001b[0m in \u001b[0;36m_minimize_neldermead\u001b[0;34m(func, x0, args, callback, maxiter, maxfev, disp, return_all, initial_simplex, xatol, fatol, **unknown_options)\u001b[0m\n\u001b[1;32m    562\u001b[0m                     \u001b[0;31m# Perform an inside contraction\u001b[0m\u001b[0;34m\u001b[0m\u001b[0;34m\u001b[0m\u001b[0m\n\u001b[1;32m    563\u001b[0m                     \u001b[0mxcc\u001b[0m \u001b[0;34m=\u001b[0m \u001b[0;34m(\u001b[0m\u001b[0;36m1\u001b[0m \u001b[0;34m-\u001b[0m \u001b[0mpsi\u001b[0m\u001b[0;34m)\u001b[0m \u001b[0;34m*\u001b[0m \u001b[0mxbar\u001b[0m \u001b[0;34m+\u001b[0m \u001b[0mpsi\u001b[0m \u001b[0;34m*\u001b[0m \u001b[0msim\u001b[0m\u001b[0;34m[\u001b[0m\u001b[0;34m-\u001b[0m\u001b[0;36m1\u001b[0m\u001b[0;34m]\u001b[0m\u001b[0;34m\u001b[0m\u001b[0m\n\u001b[0;32m--> 564\u001b[0;31m                     \u001b[0mfxcc\u001b[0m \u001b[0;34m=\u001b[0m \u001b[0mfunc\u001b[0m\u001b[0;34m(\u001b[0m\u001b[0mxcc\u001b[0m\u001b[0;34m)\u001b[0m\u001b[0;34m\u001b[0m\u001b[0m\n\u001b[0m\u001b[1;32m    565\u001b[0m \u001b[0;34m\u001b[0m\u001b[0m\n\u001b[1;32m    566\u001b[0m                     \u001b[0;32mif\u001b[0m \u001b[0mfxcc\u001b[0m \u001b[0;34m<\u001b[0m \u001b[0mfsim\u001b[0m\u001b[0;34m[\u001b[0m\u001b[0;34m-\u001b[0m\u001b[0;36m1\u001b[0m\u001b[0;34m]\u001b[0m\u001b[0;34m:\u001b[0m\u001b[0;34m\u001b[0m\u001b[0m\n",
      "\u001b[0;32m/Users/az/anaconda/lib/python2.7/site-packages/scipy/optimize/optimize.pyc\u001b[0m in \u001b[0;36mfunction_wrapper\u001b[0;34m(*wrapper_args)\u001b[0m\n\u001b[1;32m    290\u001b[0m     \u001b[0;32mdef\u001b[0m \u001b[0mfunction_wrapper\u001b[0m\u001b[0;34m(\u001b[0m\u001b[0;34m*\u001b[0m\u001b[0mwrapper_args\u001b[0m\u001b[0;34m)\u001b[0m\u001b[0;34m:\u001b[0m\u001b[0;34m\u001b[0m\u001b[0m\n\u001b[1;32m    291\u001b[0m         \u001b[0mncalls\u001b[0m\u001b[0;34m[\u001b[0m\u001b[0;36m0\u001b[0m\u001b[0;34m]\u001b[0m \u001b[0;34m+=\u001b[0m \u001b[0;36m1\u001b[0m\u001b[0;34m\u001b[0m\u001b[0m\n\u001b[0;32m--> 292\u001b[0;31m         \u001b[0;32mreturn\u001b[0m \u001b[0mfunction\u001b[0m\u001b[0;34m(\u001b[0m\u001b[0;34m*\u001b[0m\u001b[0;34m(\u001b[0m\u001b[0mwrapper_args\u001b[0m \u001b[0;34m+\u001b[0m \u001b[0margs\u001b[0m\u001b[0;34m)\u001b[0m\u001b[0;34m)\u001b[0m\u001b[0;34m\u001b[0m\u001b[0m\n\u001b[0m\u001b[1;32m    293\u001b[0m \u001b[0;34m\u001b[0m\u001b[0m\n\u001b[1;32m    294\u001b[0m     \u001b[0;32mreturn\u001b[0m \u001b[0mncalls\u001b[0m\u001b[0;34m,\u001b[0m \u001b[0mfunction_wrapper\u001b[0m\u001b[0;34m\u001b[0m\u001b[0m\n",
      "\u001b[0;32m/Users/az/anaconda/lib/python2.7/site-packages/statsmodels/nonparametric/kernel_regression.pyc\u001b[0m in \u001b[0;36maic_hurvich\u001b[0;34m(self, bw, func)\u001b[0m\n\u001b[1;32m    266\u001b[0m         gx = KernelReg(endog=self.endog, exog=self.exog, var_type=self.var_type,\n\u001b[1;32m    267\u001b[0m                        \u001b[0mreg_type\u001b[0m\u001b[0;34m=\u001b[0m\u001b[0mself\u001b[0m\u001b[0;34m.\u001b[0m\u001b[0mreg_type\u001b[0m\u001b[0;34m,\u001b[0m \u001b[0mbw\u001b[0m\u001b[0;34m=\u001b[0m\u001b[0mbw\u001b[0m\u001b[0;34m,\u001b[0m\u001b[0;34m\u001b[0m\u001b[0m\n\u001b[0;32m--> 268\u001b[0;31m                        defaults=EstimatorSettings(efficient=False)).fit()[0]\n\u001b[0m\u001b[1;32m    269\u001b[0m         \u001b[0mgx\u001b[0m \u001b[0;34m=\u001b[0m \u001b[0mnp\u001b[0m\u001b[0;34m.\u001b[0m\u001b[0mreshape\u001b[0m\u001b[0;34m(\u001b[0m\u001b[0mgx\u001b[0m\u001b[0;34m,\u001b[0m \u001b[0;34m(\u001b[0m\u001b[0mself\u001b[0m\u001b[0;34m.\u001b[0m\u001b[0mnobs\u001b[0m\u001b[0;34m,\u001b[0m \u001b[0;36m1\u001b[0m\u001b[0;34m)\u001b[0m\u001b[0;34m)\u001b[0m\u001b[0;34m\u001b[0m\u001b[0m\n\u001b[1;32m    270\u001b[0m         \u001b[0msigma\u001b[0m \u001b[0;34m=\u001b[0m \u001b[0;34m(\u001b[0m\u001b[0;34m(\u001b[0m\u001b[0mself\u001b[0m\u001b[0;34m.\u001b[0m\u001b[0mendog\u001b[0m \u001b[0;34m-\u001b[0m \u001b[0mgx\u001b[0m\u001b[0;34m)\u001b[0m\u001b[0;34m**\u001b[0m\u001b[0;36m2\u001b[0m\u001b[0;34m)\u001b[0m\u001b[0;34m.\u001b[0m\u001b[0msum\u001b[0m\u001b[0;34m(\u001b[0m\u001b[0maxis\u001b[0m\u001b[0;34m=\u001b[0m\u001b[0;36m0\u001b[0m\u001b[0;34m)\u001b[0m \u001b[0;34m/\u001b[0m \u001b[0mfloat\u001b[0m\u001b[0;34m(\u001b[0m\u001b[0mself\u001b[0m\u001b[0;34m.\u001b[0m\u001b[0mnobs\u001b[0m\u001b[0;34m)\u001b[0m\u001b[0;34m\u001b[0m\u001b[0m\n",
      "\u001b[0;32m/Users/az/anaconda/lib/python2.7/site-packages/statsmodels/nonparametric/kernel_regression.pyc\u001b[0m in \u001b[0;36mfit\u001b[0;34m(self, data_predict)\u001b[0m\n\u001b[1;32m    374\u001b[0m         \u001b[0;32mfor\u001b[0m \u001b[0mi\u001b[0m \u001b[0;32min\u001b[0m \u001b[0mrange\u001b[0m\u001b[0;34m(\u001b[0m\u001b[0mN_data_predict\u001b[0m\u001b[0;34m)\u001b[0m\u001b[0;34m:\u001b[0m\u001b[0;34m\u001b[0m\u001b[0m\n\u001b[1;32m    375\u001b[0m             mean_mfx = func(self.bw, self.endog, self.exog,\n\u001b[0;32m--> 376\u001b[0;31m                             data_predict=data_predict[i, :])\n\u001b[0m\u001b[1;32m    377\u001b[0m             \u001b[0mmean\u001b[0m\u001b[0;34m[\u001b[0m\u001b[0mi\u001b[0m\u001b[0;34m]\u001b[0m \u001b[0;34m=\u001b[0m \u001b[0mmean_mfx\u001b[0m\u001b[0;34m[\u001b[0m\u001b[0;36m0\u001b[0m\u001b[0;34m]\u001b[0m\u001b[0;34m\u001b[0m\u001b[0m\n\u001b[1;32m    378\u001b[0m             \u001b[0mmfx_c\u001b[0m \u001b[0;34m=\u001b[0m \u001b[0mnp\u001b[0m\u001b[0;34m.\u001b[0m\u001b[0msqueeze\u001b[0m\u001b[0;34m(\u001b[0m\u001b[0mmean_mfx\u001b[0m\u001b[0;34m[\u001b[0m\u001b[0;36m1\u001b[0m\u001b[0;34m]\u001b[0m\u001b[0;34m)\u001b[0m\u001b[0;34m\u001b[0m\u001b[0m\n",
      "\u001b[0;32m/Users/az/anaconda/lib/python2.7/site-packages/statsmodels/nonparametric/kernel_regression.pyc\u001b[0m in \u001b[0;36m_est_loc_linear\u001b[0;34m(self, bw, endog, exog, data_predict)\u001b[0m\n\u001b[1;32m    169\u001b[0m \u001b[0;34m\u001b[0m\u001b[0m\n\u001b[1;32m    170\u001b[0m         \u001b[0mM12\u001b[0m \u001b[0;34m=\u001b[0m \u001b[0mexog\u001b[0m \u001b[0;34m-\u001b[0m \u001b[0mdata_predict\u001b[0m\u001b[0;34m\u001b[0m\u001b[0m\n\u001b[0;32m--> 171\u001b[0;31m         \u001b[0mM22\u001b[0m \u001b[0;34m=\u001b[0m \u001b[0mnp\u001b[0m\u001b[0;34m.\u001b[0m\u001b[0mdot\u001b[0m\u001b[0;34m(\u001b[0m\u001b[0mM12\u001b[0m\u001b[0;34m.\u001b[0m\u001b[0mT\u001b[0m\u001b[0;34m,\u001b[0m \u001b[0mM12\u001b[0m \u001b[0;34m*\u001b[0m \u001b[0mker\u001b[0m\u001b[0;34m)\u001b[0m\u001b[0;34m\u001b[0m\u001b[0m\n\u001b[0m\u001b[1;32m    172\u001b[0m         \u001b[0mM12\u001b[0m \u001b[0;34m=\u001b[0m \u001b[0;34m(\u001b[0m\u001b[0mM12\u001b[0m \u001b[0;34m*\u001b[0m \u001b[0mker\u001b[0m\u001b[0;34m)\u001b[0m\u001b[0;34m.\u001b[0m\u001b[0msum\u001b[0m\u001b[0;34m(\u001b[0m\u001b[0maxis\u001b[0m\u001b[0;34m=\u001b[0m\u001b[0;36m0\u001b[0m\u001b[0;34m)\u001b[0m\u001b[0;34m\u001b[0m\u001b[0m\n\u001b[1;32m    173\u001b[0m         \u001b[0mM\u001b[0m \u001b[0;34m=\u001b[0m \u001b[0mnp\u001b[0m\u001b[0;34m.\u001b[0m\u001b[0mempty\u001b[0m\u001b[0;34m(\u001b[0m\u001b[0;34m(\u001b[0m\u001b[0mk_vars\u001b[0m \u001b[0;34m+\u001b[0m \u001b[0;36m1\u001b[0m\u001b[0;34m,\u001b[0m \u001b[0mk_vars\u001b[0m \u001b[0;34m+\u001b[0m \u001b[0;36m1\u001b[0m\u001b[0;34m)\u001b[0m\u001b[0;34m)\u001b[0m\u001b[0;34m\u001b[0m\u001b[0m\n",
      "\u001b[0;31mKeyboardInterrupt\u001b[0m: "
     ]
    }
   ],
   "source": [
    "from statsmodels.nonparametric.kernel_regression import KernelReg\n",
    "from statsmodels.nonparametric.kernel_density import EstimatorSettings\n",
    "\n",
    "\n",
    "settings = EstimatorSettings(efficient = True, randomize=True)\n",
    "list_data = [ x[trainind,i] for i in range(d) ] + [T[trainind]]\n",
    "kernel_regr = KernelReg(endog = [Y[trainind].reshape([len(trainind),1])], exog=list_data, var_type=['c']*len(list_data),bw='aic',defaults = settings )"
   ]
  },
  {
   "cell_type": "code",
   "execution_count": 383,
   "metadata": {},
   "outputs": [
    {
     "ename": "NameError",
     "evalue": "name 'kernel_regr' is not defined",
     "output_type": "error",
     "traceback": [
      "\u001b[0;31m---------------------------------------------------------------------------\u001b[0m",
      "\u001b[0;31mNameError\u001b[0m                                 Traceback (most recent call last)",
      "\u001b[0;32m<ipython-input-383-f84d799947a3>\u001b[0m in \u001b[0;36m<module>\u001b[0;34m()\u001b[0m\n\u001b[0;32m----> 1\u001b[0;31m \u001b[0mkernel_regr\u001b[0m\u001b[0;34m\u001b[0m\u001b[0m\n\u001b[0m",
      "\u001b[0;31mNameError\u001b[0m: name 'kernel_regr' is not defined"
     ]
    }
   ],
   "source": [
    "kernel_regr"
   ]
  }
 ],
 "metadata": {
  "kernelspec": {
   "display_name": "Python 2",
   "language": "python",
   "name": "python2"
  },
  "language_info": {
   "codemirror_mode": {
    "name": "ipython",
    "version": 2
   },
   "file_extension": ".py",
   "mimetype": "text/x-python",
   "name": "python",
   "nbconvert_exporter": "python",
   "pygments_lexer": "ipython2",
   "version": "2.7.13"
  }
 },
 "nbformat": 4,
 "nbformat_minor": 2
}
